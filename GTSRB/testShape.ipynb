{
 "cells": [
  {
   "cell_type": "code",
   "execution_count": 1,
   "metadata": {},
   "outputs": [],
   "source": [
    "import os\n",
    "import torch.autograd\n",
    "import torch.nn as nn\n",
    "from torchvision import transforms\n",
    "from torchvision import datasets\n",
    "from torch.utils.data import DataLoader, SubsetRandomSampler\n",
    "# transform = transforms.Compose([\n",
    "#     transforms.Resize((64, 64)),  # 调整图像大小为统一大小\n",
    "#     transforms.ToTensor(),\n",
    "# ])\n",
    "# # 下载和加载MNIST数据集\n",
    "# train_dataset = datasets.GTSRB(root='F:\\ModelAndDataset\\data',split=\"train\",transform=transform,download=True)"
   ]
  },
  {
   "cell_type": "code",
   "execution_count": 2,
   "metadata": {},
   "outputs": [],
   "source": [
    "from Utils.MISC import *\n",
    "selected_classes= [2,7,9,11,12,13,14,15,16,17,32,35,41]\n",
    "selected_class_mapping,selected_class_name_mapping,data_loader=loadData_selected_labels(root=\"F:\\ModelAndDataset\\data\",selected_classes=selected_classes,batch_size=64,train=True)"
   ]
  },
  {
   "cell_type": "code",
   "execution_count": 3,
   "metadata": {},
   "outputs": [
    {
     "name": "stdout",
     "output_type": "stream",
     "text": [
      "{2: 0, 7: 1, 9: 2, 11: 3, 12: 4, 13: 5, 14: 6, 15: 7, 16: 8, 17: 9, 32: 10, 35: 11, 41: 12}\n",
      "{0: '50 km/h', 1: '100 km/h', 2: 'No overtaking', 3: 'Crossroad', 4: 'Priority at next intersection', 5: 'Give way', 6: 'Stop', 7: 'No vehicles', 8: 'No trucks', 9: 'No entry', 10: 'Passing limits', 11: 'Ahead only', 12: 'End of no passing'}\n"
     ]
    }
   ],
   "source": [
    "print(selected_class_mapping)\n",
    "print(selected_class_name_mapping)\n"
   ]
  },
  {
   "cell_type": "code",
   "execution_count": 4,
   "metadata": {},
   "outputs": [],
   "source": [
    "\n",
    "# print(selected_class_name_mapping)\n",
    "# print(selected_class_name_mapping[0])\n",
    "# from Utils.MISC import mapping_labels\n",
    "# for x,y in data_loader:\n",
    "#     print(y)\n",
    "#     y=mapping_labels(selected_class_mapping,y)\n",
    "#     print(y)\n",
    "#     names=[]\n",
    "#     for label in y:\n",
    "#         print(label.item())\n",
    "#         print(type(label.item()))\n",
    "#         print(type(0))\n",
    "#         names.append(selected_class_name_mapping[label.item()])\n",
    "    "
   ]
  },
  {
   "cell_type": "code",
   "execution_count": 5,
   "metadata": {},
   "outputs": [],
   "source": [
    "# print(names)"
   ]
  },
  {
   "cell_type": "code",
   "execution_count": null,
   "metadata": {},
   "outputs": [],
   "source": []
  }
 ],
 "metadata": {
  "kernelspec": {
   "display_name": "AdversarialSampleDetection",
   "language": "python",
   "name": "python3"
  },
  "language_info": {
   "codemirror_mode": {
    "name": "ipython",
    "version": 3
   },
   "file_extension": ".py",
   "mimetype": "text/x-python",
   "name": "python",
   "nbconvert_exporter": "python",
   "pygments_lexer": "ipython3",
   "version": "3.9.18"
  }
 },
 "nbformat": 4,
 "nbformat_minor": 2
}
