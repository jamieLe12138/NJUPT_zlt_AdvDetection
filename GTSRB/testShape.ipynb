{
 "cells": [
  {
   "cell_type": "code",
   "execution_count": 1,
   "metadata": {},
   "outputs": [],
   "source": [
    "import os\n",
    "import torch.autograd\n",
    "import torch.nn as nn\n",
    "from torchvision import transforms\n",
    "from torchvision import datasets\n",
    "from torch.utils.data import DataLoader, SubsetRandomSampler\n",
    "# transform = transforms.Compose([\n",
    "#     transforms.Resize((64, 64)),  # 调整图像大小为统一大小\n",
    "#     transforms.ToTensor(),\n",
    "# ])\n",
    "# # 下载和加载MNIST数据集\n",
    "# train_dataset = datasets.GTSRB(root='F:\\ModelAndDataset\\data',split=\"train\",transform=transform,download=True)"
   ]
  },
  {
   "cell_type": "code",
   "execution_count": 2,
   "metadata": {},
   "outputs": [
    {
     "name": "stdout",
     "output_type": "stream",
     "text": [
      "===========================================\n"
     ]
    }
   ],
   "source": [
    "from Utils.MISC import *\n",
    "selected_classes=[1,3,5,7,9,11,13]\n",
    "selected_class_mapping,selected_class_name_mapping,data_loader=loadData_selected_labels(selected_classes=selected_classes,batch_size=64,train=True)"
   ]
  },
  {
   "cell_type": "code",
   "execution_count": 3,
   "metadata": {},
   "outputs": [
    {
     "name": "stdout",
     "output_type": "stream",
     "text": [
      "{0: 1, 1: 3, 2: 5, 3: 7, 4: 9, 5: 11, 6: 13}\n",
      "{0: '30 km/h', 1: '60 km/h', 2: '80 km/h', 3: '100 km/h', 4: 'No overtaking', 5: 'Crossroad', 6: 'Give way'}\n"
     ]
    }
   ],
   "source": [
    "print(selected_class_mapping)\n",
    "print(selected_class_name_mapping)\n"
   ]
  }
 ],
 "metadata": {
  "kernelspec": {
   "display_name": "AdversarialSampleDetection",
   "language": "python",
   "name": "python3"
  },
  "language_info": {
   "codemirror_mode": {
    "name": "ipython",
    "version": 3
   },
   "file_extension": ".py",
   "mimetype": "text/x-python",
   "name": "python",
   "nbconvert_exporter": "python",
   "pygments_lexer": "ipython3",
   "version": "3.9.18"
  }
 },
 "nbformat": 4,
 "nbformat_minor": 2
}
