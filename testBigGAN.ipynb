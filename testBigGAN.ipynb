{
 "cells": [
  {
   "cell_type": "code",
   "execution_count": 1,
   "metadata": {},
   "outputs": [
    {
     "data": {
      "text/plain": [
       "<All keys matched successfully>"
      ]
     },
     "execution_count": 1,
     "metadata": {},
     "output_type": "execute_result"
    }
   ],
   "source": [
    "from studioGAN.CVAE_BigGAN import Encoder_cifar10,Generator_cifar10,Discriminator_cifar10,VAE\n",
    "import torch\n",
    "# GPU\n",
    "device = 'cuda' if torch.cuda.is_available() else 'cpu'\n",
    "# 初始化变分自编码器，分类器与判别器\n",
    "Encoder=Encoder_cifar10(device=device)\n",
    "Gen=Generator_cifar10(device=device)\n",
    "Dis=Discriminator_cifar10(device=device)\n",
    "vae = VAE().to(device)\n",
    "Encoder.load_state_dict(torch.load('E:/Project/ModelAndDataset/model/CVAE-GAN-Cifar10-Encoder.pth'))\n",
    "Gen.load_state_dict(torch.load('E:/Project/ModelAndDataset/model/CVAE-GAN-Cifar10-Decoder.pth'))\n",
    "Dis.load_state_dict(torch.load('E:/Project/ModelAndDataset/model/CVAE-GAN-Cifar10-Discriminator.pth'))\n",
    "vae.load_state_dict(torch.load('E:/Project/ModelAndDataset/model/CVAE-GAN-Cifar10-Vae.pth'))\n"
   ]
  },
  {
   "cell_type": "code",
   "execution_count": 2,
   "metadata": {},
   "outputs": [
    {
     "name": "stdout",
     "output_type": "stream",
     "text": [
      "Files already downloaded and verified\n"
     ]
    }
   ],
   "source": [
    "from torch.utils.data import DataLoader\n",
    "from data_utils.load_dataset import *\n",
    "import  matplotlib.pyplot as plt\n",
    "import numpy as np\n",
    "train_dataset = LoadDataset(\"cifar10\", \"E:/Project/ModelAndDataset/data\", train=True, download=True, resize_size=32,\n",
    "\t\t\t\t\t\t\t\trandom_flip=True)\n",
    "\n",
    "# data loader 数据载入\n",
    "train_dataloader = DataLoader(train_dataset, batch_size=128, shuffle=True, pin_memory=True, drop_last=True)\n",
    "\n",
    "train_iter=iter(train_dataloader)"
   ]
  },
  {
   "cell_type": "code",
   "execution_count": 3,
   "metadata": {},
   "outputs": [],
   "source": [
    "real_images, real_labels = next(train_iter)"
   ]
  },
  {
   "cell_type": "code",
   "execution_count": 4,
   "metadata": {},
   "outputs": [
    {
     "data": {
      "text/plain": [
       "tensor([[[[ 0.9765,  0.9765,  0.9765,  ...,  0.9765,  0.9765,  1.0000],\n",
       "          [ 1.0000,  1.0000,  1.0000,  ...,  1.0000,  1.0000,  1.0000],\n",
       "          [ 1.0000,  1.0000,  1.0000,  ...,  1.0000,  0.9922,  1.0000],\n",
       "          ...,\n",
       "          [ 1.0000,  0.9922,  0.9843,  ...,  0.2471,  0.9843,  1.0000],\n",
       "          [ 1.0000,  0.9922,  0.9922,  ...,  0.5686,  1.0000,  1.0000],\n",
       "          [ 1.0000,  1.0000,  0.9922,  ...,  0.8980,  0.9765,  1.0000]],\n",
       "\n",
       "         [[ 0.9765,  0.9765,  0.9765,  ...,  0.9765,  0.9765,  1.0000],\n",
       "          [ 1.0000,  1.0000,  1.0000,  ...,  1.0000,  1.0000,  1.0000],\n",
       "          [ 1.0000,  1.0000,  1.0000,  ...,  1.0000,  0.9922,  1.0000],\n",
       "          ...,\n",
       "          [ 1.0000,  0.9922,  0.9922,  ...,  0.2471,  0.9843,  1.0000],\n",
       "          [ 1.0000,  0.9922,  0.9922,  ...,  0.5686,  1.0000,  1.0000],\n",
       "          [ 1.0000,  1.0000,  0.9922,  ...,  0.8980,  0.9765,  1.0000]],\n",
       "\n",
       "         [[ 0.9765,  0.9765,  0.9765,  ...,  0.9765,  0.9765,  1.0000],\n",
       "          [ 1.0000,  1.0000,  1.0000,  ...,  1.0000,  1.0000,  1.0000],\n",
       "          [ 1.0000,  1.0000,  1.0000,  ...,  1.0000,  0.9922,  1.0000],\n",
       "          ...,\n",
       "          [ 1.0000,  0.9922,  0.9843,  ...,  0.2471,  0.9843,  1.0000],\n",
       "          [ 1.0000,  0.9922,  0.9922,  ...,  0.5686,  1.0000,  1.0000],\n",
       "          [ 1.0000,  1.0000,  0.9922,  ...,  0.8980,  0.9765,  1.0000]]],\n",
       "\n",
       "\n",
       "        [[[-0.0588,  0.0431,  0.0588,  ...,  0.4980,  0.5137,  0.4824],\n",
       "          [-0.6706, -0.2549,  0.2314,  ...,  0.4118,  0.4588,  0.4510],\n",
       "          [-0.7333, -0.5451, -0.0510,  ...,  0.5137,  0.5294,  0.4902],\n",
       "          ...,\n",
       "          [-0.2392, -0.2000, -0.1216,  ..., -0.7333, -0.7176, -0.6157],\n",
       "          [-0.1922, -0.1608, -0.1294,  ..., -0.4510, -0.4824, -0.4980],\n",
       "          [-0.1608, -0.1373, -0.0353,  ...,  0.0118,  0.1451,  0.2549]],\n",
       "\n",
       "         [[-0.0510, -0.0902, -0.0275,  ...,  0.6235,  0.6392,  0.6157],\n",
       "          [-0.7569, -0.2941,  0.2706,  ...,  0.5373,  0.5843,  0.5922],\n",
       "          [-0.8196, -0.5922, -0.0275,  ...,  0.6314,  0.6549,  0.6314],\n",
       "          ...,\n",
       "          [-0.1137, -0.0667, -0.0196,  ..., -0.6941, -0.6706, -0.5765],\n",
       "          [-0.0902, -0.0588, -0.0039,  ..., -0.4118, -0.4196, -0.4431],\n",
       "          [-0.0431,  0.0039,  0.1216,  ...,  0.1294,  0.2706,  0.3804]],\n",
       "\n",
       "         [[-0.0196, -0.1294, -0.1059,  ...,  0.6706,  0.7020,  0.6863],\n",
       "          [-0.6706, -0.2549,  0.2549,  ...,  0.5843,  0.6314,  0.6392],\n",
       "          [-0.7569, -0.5373,  0.0118,  ...,  0.6784,  0.7020,  0.6863],\n",
       "          ...,\n",
       "          [-0.0431,  0.0196,  0.0667,  ..., -0.6000, -0.5765, -0.4902],\n",
       "          [-0.0118,  0.0196,  0.0588,  ..., -0.3569, -0.3647, -0.3725],\n",
       "          [ 0.0353,  0.0667,  0.1765,  ...,  0.1294,  0.2784,  0.4039]]],\n",
       "\n",
       "\n",
       "        [[[-0.7961, -0.8039, -0.8039,  ..., -0.8039, -0.7490, -0.7725],\n",
       "          [-0.8118, -0.8196, -0.8039,  ..., -0.8353, -0.8039, -0.8275],\n",
       "          [-0.7804, -0.8039, -0.7882,  ..., -0.8275, -0.8431, -0.8745],\n",
       "          ...,\n",
       "          [-0.4902, -0.4980, -0.4980,  ...,  0.2941,  0.2627,  0.2157],\n",
       "          [-0.4667, -0.4667, -0.4667,  ...,  0.2784,  0.2314,  0.2314],\n",
       "          [-0.4118, -0.4353, -0.4588,  ...,  0.2471,  0.2235,  0.2235]],\n",
       "\n",
       "         [[-0.7961, -0.8039, -0.8039,  ..., -0.8039, -0.7490, -0.7725],\n",
       "          [-0.8118, -0.8196, -0.8039,  ..., -0.8353, -0.8039, -0.8196],\n",
       "          [-0.7882, -0.8039, -0.7882,  ..., -0.8196, -0.8431, -0.8745],\n",
       "          ...,\n",
       "          [-0.4745, -0.4824, -0.4824,  ...,  0.2941,  0.2549,  0.2078],\n",
       "          [-0.4510, -0.4510, -0.4510,  ...,  0.3020,  0.2392,  0.2392],\n",
       "          [-0.3961, -0.4196, -0.4431,  ...,  0.2863,  0.2471,  0.2471]],\n",
       "\n",
       "         [[-0.8118, -0.8275, -0.8196,  ..., -0.8039, -0.7490, -0.7569],\n",
       "          [-0.8275, -0.8353, -0.8196,  ..., -0.8353, -0.8118, -0.8118],\n",
       "          [-0.8039, -0.8196, -0.8039,  ..., -0.8275, -0.8431, -0.8745],\n",
       "          ...,\n",
       "          [-0.3804, -0.3882, -0.3882,  ...,  0.2784,  0.2235,  0.1686],\n",
       "          [-0.3569, -0.3647, -0.3569,  ...,  0.2941,  0.2235,  0.2157],\n",
       "          [-0.2941, -0.3255, -0.3490,  ...,  0.2941,  0.2471,  0.2471]]],\n",
       "\n",
       "\n",
       "        ...,\n",
       "\n",
       "\n",
       "        [[[ 0.6392,  0.6392,  0.6392,  ...,  0.6314,  0.6235,  0.6549],\n",
       "          [ 0.7333,  0.7333,  0.7333,  ...,  0.7333,  0.7255,  0.7490],\n",
       "          [ 0.7725,  0.7725,  0.7725,  ...,  0.7804,  0.7804,  0.7961],\n",
       "          ...,\n",
       "          [ 0.8039,  0.7961,  0.7961,  ...,  0.6941,  0.7569,  0.8039],\n",
       "          [ 0.8039,  0.8118,  0.8039,  ...,  0.7961,  0.7961,  0.8196],\n",
       "          [ 0.8039,  0.8118,  0.8118,  ...,  0.8118,  0.8039,  0.8275]],\n",
       "\n",
       "         [[ 0.6392,  0.6392,  0.6392,  ...,  0.6314,  0.6235,  0.6549],\n",
       "          [ 0.7333,  0.7333,  0.7333,  ...,  0.7333,  0.7255,  0.7490],\n",
       "          [ 0.7725,  0.7725,  0.7725,  ...,  0.7804,  0.7804,  0.8039],\n",
       "          ...,\n",
       "          [ 0.8196,  0.8118,  0.8118,  ...,  0.6941,  0.7569,  0.8039],\n",
       "          [ 0.8196,  0.8118,  0.8118,  ...,  0.7961,  0.8039,  0.8353],\n",
       "          [ 0.8196,  0.8118,  0.8118,  ...,  0.8118,  0.8118,  0.8431]],\n",
       "\n",
       "         [[ 0.6392,  0.6392,  0.6392,  ...,  0.6314,  0.6235,  0.6549],\n",
       "          [ 0.7333,  0.7333,  0.7333,  ...,  0.7333,  0.7255,  0.7490],\n",
       "          [ 0.7725,  0.7725,  0.7725,  ...,  0.7804,  0.7804,  0.7961],\n",
       "          ...,\n",
       "          [ 0.8118,  0.8039,  0.8039,  ...,  0.6941,  0.7569,  0.8039],\n",
       "          [ 0.8118,  0.8118,  0.8118,  ...,  0.7961,  0.7961,  0.8275],\n",
       "          [ 0.8118,  0.8118,  0.8118,  ...,  0.8118,  0.8039,  0.8353]]],\n",
       "\n",
       "\n",
       "        [[[ 0.3490,  0.2000, -0.2078,  ...,  0.2549,  0.5059,  0.3490],\n",
       "          [ 0.1137,  0.0667, -0.1922,  ...,  0.0275,  0.1843,  0.1686],\n",
       "          [-0.0902, -0.1216, -0.2078,  ...,  0.0745,  0.0275,  0.0824],\n",
       "          ...,\n",
       "          [ 0.5451,  0.4275,  0.3569,  ..., -0.2314, -0.0902,  0.0667],\n",
       "          [ 1.0000,  0.9843,  0.9294,  ..., -0.1451, -0.1686, -0.1529],\n",
       "          [ 0.9294,  0.9216,  0.9059,  ..., -0.0118, -0.2392, -0.1608]],\n",
       "\n",
       "         [[ 0.1686, -0.2863, -0.4039,  ..., -0.4510, -0.1686, -0.0588],\n",
       "          [-0.0980, -0.5059, -0.5294,  ..., -0.4902, -0.0353,  0.1216],\n",
       "          [-0.0275, -0.3647, -0.5137,  ..., -0.2627,  0.1451,  0.2314],\n",
       "          ...,\n",
       "          [ 0.2314,  0.3098,  0.3333,  ..., -0.2314, -0.3020, -0.4196],\n",
       "          [ 0.9608,  0.9451,  0.8902,  ..., -0.1137, -0.2235, -0.3961],\n",
       "          [ 0.9529,  0.9216,  0.8902,  ..., -0.0118, -0.2549, -0.0510]],\n",
       "\n",
       "         [[-0.1216, -0.3255, -0.7412,  ...,  0.1216, -0.2627, -0.3412],\n",
       "          [-0.4196, -0.4745, -0.7176,  ...,  0.0118, -0.2392, -0.3098],\n",
       "          [-0.6471, -0.5686, -0.6000,  ..., -0.1451, -0.1686, -0.2000],\n",
       "          ...,\n",
       "          [ 0.3333,  0.2863,  0.2078,  ..., -0.2392, -0.2863, -0.4275],\n",
       "          [ 0.9922,  0.9608,  0.8902,  ..., -0.1216, -0.1843, -0.3882],\n",
       "          [ 0.9529,  0.9137,  0.8745,  ..., -0.0275, -0.2235, -0.0980]]],\n",
       "\n",
       "\n",
       "        [[[-0.2549, -0.2392, -0.2627,  ..., -0.3176, -0.3098, -0.3490],\n",
       "          [-0.2314, -0.2314, -0.2392,  ..., -0.2863, -0.3725, -0.3333],\n",
       "          [-0.2235, -0.2235, -0.2078,  ..., -0.3255, -0.3176, -0.3020],\n",
       "          ...,\n",
       "          [-0.0902, -0.1059, -0.1059,  ..., -0.1529, -0.1608, -0.1686],\n",
       "          [-0.0902, -0.1059, -0.0902,  ..., -0.1451, -0.1608, -0.1922],\n",
       "          [-0.0902, -0.1059, -0.0902,  ..., -0.1373, -0.1686, -0.1922]],\n",
       "\n",
       "         [[-0.2392, -0.2235, -0.2471,  ..., -0.2706, -0.2627, -0.3098],\n",
       "          [-0.2157, -0.2157, -0.2235,  ..., -0.2392, -0.3255, -0.2941],\n",
       "          [-0.2078, -0.2078, -0.1922,  ..., -0.2863, -0.2706, -0.2627],\n",
       "          ...,\n",
       "          [-0.1216, -0.1373, -0.1373,  ..., -0.1373, -0.1451, -0.1529],\n",
       "          [-0.1216, -0.1373, -0.1216,  ..., -0.1294, -0.1451, -0.1765],\n",
       "          [-0.1137, -0.1373, -0.1216,  ..., -0.1216, -0.1529, -0.1765]],\n",
       "\n",
       "         [[-0.3412, -0.3255, -0.3490,  ..., -0.3725, -0.3490, -0.3647],\n",
       "          [-0.3255, -0.3176, -0.3255,  ..., -0.3412, -0.4118, -0.3569],\n",
       "          [-0.3176, -0.3098, -0.2941,  ..., -0.3804, -0.3569, -0.3176],\n",
       "          ...,\n",
       "          [-0.2078, -0.2235, -0.2235,  ..., -0.2235, -0.2314, -0.2392],\n",
       "          [-0.2078, -0.2235, -0.2078,  ..., -0.2157, -0.2314, -0.2627],\n",
       "          [-0.2314, -0.2314, -0.2078,  ..., -0.2235, -0.2549, -0.2706]]]])"
      ]
     },
     "execution_count": 4,
     "metadata": {},
     "output_type": "execute_result"
    }
   ],
   "source": [
    "real_images\n"
   ]
  },
  {
   "cell_type": "code",
   "execution_count": 5,
   "metadata": {},
   "outputs": [
    {
     "data": {
      "text/plain": [
       "tensor([9, 1, 3, 5, 7, 3, 0, 7, 1, 8, 1, 8, 0, 0, 2, 7, 8, 0, 9, 2, 6, 2, 9, 5,\n",
       "        7, 9, 0, 7, 0, 4, 2, 5, 7, 6, 0, 1, 4, 4, 5, 3, 0, 9, 0, 8, 8, 7, 7, 0,\n",
       "        2, 7, 1, 0, 0, 6, 3, 0, 8, 0, 1, 8, 3, 5, 0, 0, 4, 0, 8, 5, 1, 8, 4, 8,\n",
       "        9, 1, 2, 1, 4, 7, 2, 5, 2, 9, 7, 7, 7, 4, 0, 1, 9, 1, 2, 7, 3, 2, 9, 9,\n",
       "        2, 9, 9, 3, 4, 1, 0, 8, 6, 1, 8, 5, 6, 8, 3, 9, 8, 2, 7, 8, 6, 3, 1, 6,\n",
       "        0, 2, 7, 8, 9, 1, 2, 6])"
      ]
     },
     "execution_count": 5,
     "metadata": {},
     "output_type": "execute_result"
    }
   ],
   "source": [
    "real_labels"
   ]
  },
  {
   "cell_type": "code",
   "execution_count": 6,
   "metadata": {},
   "outputs": [
    {
     "data": {
      "image/png": "[encoded data removed]",
      "text/plain": [
       "<Figure size 1500x300 with 5 Axes>"
      ]
     },
     "metadata": {},
     "output_type": "display_data"
    }
   ],
   "source": [
    "num_images_to_visualize = 5\n",
    "fig, axes = plt.subplots(1, num_images_to_visualize, figsize=(num_images_to_visualize*3, 3))\n",
    "real_images = real_images / 2 + 0.5  # Reverse normalization to bring the image range back to [0, 1]\n",
    "for i in range(num_images_to_visualize):\n",
    "    image=real_images[i]\n",
    "    label=real_labels[i] \n",
    "    img = np.transpose(image, (1, 2, 0))  # Reorder channel dimensions to (H, W, C)\n",
    "    axes[i].imshow(img)\n",
    "    axes[i].set_title(f\"Label: {label}\")\n",
    "    axes[i].axis('off')"
   ]
  }
 ],
 "metadata": {
  "kernelspec": {
   "display_name": "AdversarialSampleDetection",
   "language": "python",
   "name": "python3"
  },
  "language_info": {
   "codemirror_mode": {
    "name": "ipython",
    "version": 3
   },
   "file_extension": ".py",
   "mimetype": "text/x-python",
   "name": "python",
   "nbconvert_exporter": "python",
   "pygments_lexer": "ipython3",
   "version": "3.9.18"
  }
 },
 "nbformat": 4,
 "nbformat_minor": 2
}
