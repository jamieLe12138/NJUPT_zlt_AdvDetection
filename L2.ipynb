{
 "cells": [
  {
   "cell_type": "code",
   "execution_count": 10,
   "metadata": {},
   "outputs": [
    {
     "name": "stdout",
     "output_type": "stream",
     "text": [
      "图像之间的L2距离: 14133.4990234375\n"
     ]
    }
   ],
   "source": [
    "import torch\n",
    "import torch.nn as nn\n",
    "# 假设image1和image2是形状为(3, 32, 32)的图像张量\n",
    "image1 = torch.zeros(3, 32, 32)  # 示例随机生成的图像\n",
    "image1.fill_(0)\n",
    "image2 = torch.ones(3, 32, 32)  # 示例随机生成的图像\n",
    "image2.fill_(255)\n",
    "# 将图像展平\n",
    "flat_image1 = image1.view(-1)\n",
    "flat_image2 = image2.view(-1)\n",
    "\n",
    "# 计算L2距离\n",
    "l2_distance = torch.norm(flat_image1 - flat_image2)\n",
    "\n",
    "print(\"图像之间的L2距离:\", l2_distance.item())"
   ]
  },
  {
   "cell_type": "code",
   "execution_count": 11,
   "metadata": {},
   "outputs": [
    {
     "data": {
      "text/plain": [
       "tensor(65025.)"
      ]
     },
     "execution_count": 11,
     "metadata": {},
     "output_type": "execute_result"
    }
   ],
   "source": [
    "MSECriterion = nn.MSELoss()\n",
    "a=MSECriterion(image1,image2)\n",
    "a"
   ]
  }
 ],
 "metadata": {
  "kernelspec": {
   "display_name": "AdversarialSampleDetection",
   "language": "python",
   "name": "python3"
  },
  "language_info": {
   "codemirror_mode": {
    "name": "ipython",
    "version": 3
   },
   "file_extension": ".py",
   "mimetype": "text/x-python",
   "name": "python",
   "nbconvert_exporter": "python",
   "pygments_lexer": "ipython3",
   "version": "3.9.18"
  }
 },
 "nbformat": 4,
 "nbformat_minor": 2
}
