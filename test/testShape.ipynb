{
 "cells": [
  {
   "cell_type": "code",
   "execution_count": 10,
   "metadata": {},
   "outputs": [
    {
     "data": {
      "text/plain": [
       "torch.Size([64, 80])"
      ]
     },
     "execution_count": 10,
     "metadata": {},
     "output_type": "execute_result"
    }
   ],
   "source": [
    "import torch\n",
    "import torch.nn as nn\n",
    "\n",
    "input_tensor = torch.randn(64, 3, 32, 32)\n",
    "conv= nn.Sequential(\n",
    "            nn.Conv2d(3,64,kernel_size=4,stride=2,padding=1),\n",
    "            nn.ReLU(),\n",
    "            nn.Conv2d(64,128,kernel_size=4,stride=2,padding=1),\n",
    "            nn.BatchNorm2d(128),\n",
    "            nn.ReLU(),\n",
    "            nn.Conv2d(128,256,kernel_size=4,stride=2,padding=1),\n",
    "            nn.BatchNorm2d(256),\n",
    "            nn.ReLU(),\n",
    "            nn.Conv2d(256,80,kernel_size=4,stride=2,padding=0),\n",
    "            nn.Flatten(),\n",
    "            nn.Linear(80,80),\n",
    "        )\n",
    "output_tensor=conv(input_tensor)\n",
    "output_tensor.shape\n"
   ]
  },
  {
   "cell_type": "markdown",
   "metadata": {},
   "source": [
    "#nn.Conv2d输出计算\n",
    "output_size = [(input_size - kernel_size + 2 * padding) / stride] + 1\n",
    "#nn.ConvTranspose2d输出计算\n",
    "output_size = (input_size - 1) * stride - 2 * padding + kernel_size"
   ]
  },
  {
   "cell_type": "code",
   "execution_count": 11,
   "metadata": {},
   "outputs": [
    {
     "data": {
      "text/plain": [
       "torch.Size([3, 1, 28, 28])"
      ]
     },
     "execution_count": 11,
     "metadata": {},
     "output_type": "execute_result"
    }
   ],
   "source": [
    "deconv = nn.Sequential(\n",
    "            nn.ConvTranspose2d(64, 8, 4, 2, 1),\n",
    "            nn.ReLU(inplace=True),\n",
    "            nn.ConvTranspose2d(8, 1, 4, 2, 1),\n",
    "            nn.Sigmoid(),\n",
    "        )\n",
    "output_tensor=deconv(conv(input_tensor))\n",
    "output_tensor.shape"
   ]
  }
 ],
 "metadata": {
  "kernelspec": {
   "display_name": "AdversarialSampleDetection",
   "language": "python",
   "name": "python3"
  },
  "language_info": {
   "codemirror_mode": {
    "name": "ipython",
    "version": 3
   },
   "file_extension": ".py",
   "mimetype": "text/x-python",
   "name": "python",
   "nbconvert_exporter": "python",
   "pygments_lexer": "ipython3",
   "version": "3.9.18"
  }
 },
 "nbformat": 4,
 "nbformat_minor": 2
}
