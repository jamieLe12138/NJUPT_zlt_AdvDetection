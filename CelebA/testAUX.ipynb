{
 "cells": [
  {
   "cell_type": "code",
   "execution_count": null,
   "metadata": {},
   "outputs": [],
   "source": [
    "from Model.CVAE_GAN_AdvancedV2 import AUX\n",
    "from os.path import join\n",
    "# 模型参数存放目录\n",
    "save_model_dir='E:/Project/ModelAndDataset/model/CelebA/cVAE_GAN'\n",
    "attr_name='Smiling'\n",
    "aux = AUX(nz=100,numLabels=1)\n",
    "print(join(save_model_dir,attr_name))\n"
   ]
  },
  {
   "cell_type": "code",
   "execution_count": null,
   "metadata": {},
   "outputs": [],
   "source": [
    "aux.eval()\n",
    "aux.save_params(modelDir=join(save_model_dir,attr_name))"
   ]
  }
 ],
 "metadata": {
  "kernelspec": {
   "display_name": "AdversarialSampleDetection",
   "language": "python",
   "name": "python3"
  },
  "language_info": {
   "codemirror_mode": {
    "name": "ipython",
    "version": 3
   },
   "file_extension": ".py",
   "mimetype": "text/x-python",
   "name": "python",
   "nbconvert_exporter": "python",
   "pygments_lexer": "ipython3",
   "version": "3.9.18"
  }
 },
 "nbformat": 4,
 "nbformat_minor": 2
}
