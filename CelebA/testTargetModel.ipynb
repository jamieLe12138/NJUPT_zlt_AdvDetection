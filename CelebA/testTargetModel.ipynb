{
 "cells": [
  {
   "cell_type": "code",
   "execution_count": 19,
   "metadata": {},
   "outputs": [],
   "source": [
    "import torch.nn as nn\n",
    "from torchvision import transforms\n",
    "import torch.nn.functional as F\n",
    "import torch\n",
    "import sys\n",
    "sys.path.append(\"E:/Project/ZLTProgram/\")\n",
    "import os\n",
    "os.environ['CUDA_LAUNCH_BLOCKING'] = '1' # 下面老是报错 shape 不一致\n",
    "from Target_model import Target_model\n",
    "\n"
   ]
  },
  {
   "cell_type": "code",
   "execution_count": 20,
   "metadata": {},
   "outputs": [
    {
     "data": {
      "text/plain": [
       "torch.Size([64, 1])"
      ]
     },
     "execution_count": 20,
     "metadata": {},
     "output_type": "execute_result"
    }
   ],
   "source": [
    "import torch\n",
    "\n",
    "# 假设您有形状为（64，1）的整数数据\n",
    "integer_data = torch.randint(2, (64, 1))  # 随机生成0或1的整数数据\n",
    "integer_data.shape\n"
   ]
  },
  {
   "cell_type": "code",
   "execution_count": 21,
   "metadata": {},
   "outputs": [
    {
     "name": "stdout",
     "output_type": "stream",
     "text": [
      "tensor([[1., 0.],\n",
      "        [1., 0.],\n",
      "        [1., 0.],\n",
      "        [1., 0.],\n",
      "        [1., 0.],\n",
      "        [1., 0.],\n",
      "        [0., 1.],\n",
      "        [1., 0.],\n",
      "        [0., 1.],\n",
      "        [0., 1.],\n",
      "        [1., 0.],\n",
      "        [1., 0.],\n",
      "        [1., 0.],\n",
      "        [1., 0.],\n",
      "        [0., 1.],\n",
      "        [1., 0.],\n",
      "        [1., 0.],\n",
      "        [0., 1.],\n",
      "        [0., 1.],\n",
      "        [0., 1.],\n",
      "        [1., 0.],\n",
      "        [0., 1.],\n",
      "        [1., 0.],\n",
      "        [0., 1.],\n",
      "        [1., 0.],\n",
      "        [0., 1.],\n",
      "        [1., 0.],\n",
      "        [0., 1.],\n",
      "        [0., 1.],\n",
      "        [0., 1.],\n",
      "        [0., 1.],\n",
      "        [1., 0.],\n",
      "        [1., 0.],\n",
      "        [0., 1.],\n",
      "        [0., 1.],\n",
      "        [1., 0.],\n",
      "        [1., 0.],\n",
      "        [0., 1.],\n",
      "        [1., 0.],\n",
      "        [0., 1.],\n",
      "        [0., 1.],\n",
      "        [1., 0.],\n",
      "        [0., 1.],\n",
      "        [1., 0.],\n",
      "        [1., 0.],\n",
      "        [0., 1.],\n",
      "        [1., 0.],\n",
      "        [0., 1.],\n",
      "        [0., 1.],\n",
      "        [0., 1.],\n",
      "        [0., 1.],\n",
      "        [1., 0.],\n",
      "        [0., 1.],\n",
      "        [1., 0.],\n",
      "        [1., 0.],\n",
      "        [0., 1.],\n",
      "        [0., 1.],\n",
      "        [0., 1.],\n",
      "        [1., 0.],\n",
      "        [0., 1.],\n",
      "        [0., 1.],\n",
      "        [1., 0.],\n",
      "        [1., 0.],\n",
      "        [1., 0.]])\n"
     ]
    }
   ],
   "source": [
    "# 创建一个全零的独热编码标签张量\n",
    "num_samples = integer_data.shape[0]\n",
    "num_classes = 2\n",
    "one_hot_labels = torch.zeros(num_samples, num_classes)\n",
    "\n",
    "# 使用scatter_函数将整数数据映射到独热编码标签\n",
    "one_hot_labels.scatter_(1, integer_data, 1)\n",
    "\n",
    "# 打印独热编码标签\n",
    "print(one_hot_labels)"
   ]
  },
  {
   "cell_type": "code",
   "execution_count": 22,
   "metadata": {},
   "outputs": [],
   "source": [
    "_, predicted = torch.max(one_hot_labels.data, 1)"
   ]
  },
  {
   "cell_type": "code",
   "execution_count": 23,
   "metadata": {},
   "outputs": [
    {
     "data": {
      "text/plain": [
       "tensor([0, 0, 0, 0, 0, 0, 1, 0, 1, 1, 0, 0, 0, 0, 1, 0, 0, 1, 1, 1, 0, 1, 0, 1,\n",
       "        0, 1, 0, 1, 1, 1, 1, 0, 0, 1, 1, 0, 0, 1, 0, 1, 1, 0, 1, 0, 0, 1, 0, 1,\n",
       "        1, 1, 1, 0, 1, 0, 0, 1, 1, 1, 0, 1, 1, 0, 0, 0])"
      ]
     },
     "execution_count": 23,
     "metadata": {},
     "output_type": "execute_result"
    }
   ],
   "source": [
    "predicted"
   ]
  },
  {
   "cell_type": "code",
   "execution_count": 24,
   "metadata": {},
   "outputs": [
    {
     "data": {
      "text/plain": [
       "tensor([[ 0.6537, -0.4748],\n",
       "        [-0.5635, -0.5168],\n",
       "        [ 2.1453,  0.4868],\n",
       "        [-0.0117,  0.8430],\n",
       "        [-0.2880, -1.0850],\n",
       "        [ 0.6189, -0.4300],\n",
       "        [ 0.0702, -0.6539],\n",
       "        [ 0.1210,  0.0911],\n",
       "        [ 1.3280, -1.0480],\n",
       "        [ 0.0610, -1.1234],\n",
       "        [ 0.8203,  1.7613],\n",
       "        [-0.2943,  1.6459],\n",
       "        [ 1.0593, -1.8615],\n",
       "        [ 0.0951, -0.3363],\n",
       "        [ 0.9062,  0.4223],\n",
       "        [-0.5466,  1.1905],\n",
       "        [ 0.4959, -1.4894],\n",
       "        [ 1.0025,  0.3003],\n",
       "        [-0.2213,  1.9657],\n",
       "        [-0.8755, -2.3652],\n",
       "        [ 0.9072, -1.3968],\n",
       "        [ 0.3129,  0.9781],\n",
       "        [ 0.8547,  0.4967],\n",
       "        [ 0.1022, -1.0764],\n",
       "        [ 1.3104,  0.1125],\n",
       "        [ 0.3311, -0.4680],\n",
       "        [-0.1106, -0.2436],\n",
       "        [-0.6450, -1.6585],\n",
       "        [-0.1850, -0.5674],\n",
       "        [ 0.5025,  0.0034],\n",
       "        [ 0.9945,  1.4520],\n",
       "        [ 0.5428,  0.2636],\n",
       "        [ 0.3607,  0.9166],\n",
       "        [ 0.3445, -1.1694],\n",
       "        [ 0.3275,  0.3315],\n",
       "        [-0.0243,  1.3153],\n",
       "        [-0.3204,  0.0200],\n",
       "        [-0.1078,  0.0887],\n",
       "        [ 0.3721, -0.2338],\n",
       "        [-1.0449,  1.5527],\n",
       "        [-1.2562, -1.7505],\n",
       "        [-0.2878, -0.2646],\n",
       "        [-0.4541, -0.9563],\n",
       "        [-0.8789, -0.2821],\n",
       "        [ 0.3304, -1.7875],\n",
       "        [-0.1228, -0.0036],\n",
       "        [ 0.4616, -1.5646],\n",
       "        [ 0.0760,  0.6692],\n",
       "        [ 1.0597,  0.2390],\n",
       "        [ 0.7245, -0.2645],\n",
       "        [-0.1345,  0.2789],\n",
       "        [ 0.9103,  1.0322],\n",
       "        [ 0.7626,  2.5401],\n",
       "        [ 0.3732,  0.2893],\n",
       "        [ 1.3265,  0.3724],\n",
       "        [-1.1600, -1.9320],\n",
       "        [ 1.1433, -0.3873],\n",
       "        [-0.6951,  0.0289],\n",
       "        [ 0.2046,  0.5882],\n",
       "        [-1.4258, -1.5085],\n",
       "        [-0.5493, -0.9573],\n",
       "        [-0.6869, -0.5207],\n",
       "        [ 1.0045,  0.7322],\n",
       "        [-1.3577, -0.2422]])"
      ]
     },
     "execution_count": 24,
     "metadata": {},
     "output_type": "execute_result"
    }
   ],
   "source": [
    "outputs=torch.randn(64,2)\n",
    "outputs"
   ]
  },
  {
   "cell_type": "code",
   "execution_count": null,
   "metadata": {},
   "outputs": [],
   "source": [
    "_, predicted = torch.max(one_hot_labels.data, 1)\n",
    "predicted"
   ]
  }
 ],
 "metadata": {
  "kernelspec": {
   "display_name": "AdversarialSampleDetection",
   "language": "python",
   "name": "python3"
  },
  "language_info": {
   "codemirror_mode": {
    "name": "ipython",
    "version": 3
   },
   "file_extension": ".py",
   "mimetype": "text/x-python",
   "name": "python",
   "nbconvert_exporter": "python",
   "pygments_lexer": "ipython3",
   "version": "3.9.18"
  }
 },
 "nbformat": 4,
 "nbformat_minor": 2
}
