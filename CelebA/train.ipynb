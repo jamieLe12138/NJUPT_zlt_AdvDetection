{
 "cells": [
  {
   "cell_type": "code",
   "execution_count": 1,
   "metadata": {},
   "outputs": [],
   "source": [
    "from TargetModelTrainer import train_CelebA_target_model\n",
    "\n",
    "root='E:/Project/ModelAndDataset/data'\n",
    "save_path=\"E:/Project/ModelAndDataset/model/CelebA\"\n",
    "\n"
   ]
  },
  {
   "cell_type": "code",
   "execution_count": 2,
   "metadata": {},
   "outputs": [],
   "source": [
    "attr_names = [ 'Male', 'Smiling',  'Wearing_Earrings', 'Wearing_Hat',  'Wearing_Necklace', 'Wearing_Necktie']\n",
    "models=['resnet18','vgg19','densenet169','mobilenet']\n",
    "# for attr_name in attr_names:\n",
    "#     train_CelebA_target_model(root=root,\n",
    "#                             save_dir=save_path,\n",
    "#                             attr_name=attr_name,\n",
    "#                             model=models[0])\n"
   ]
  },
  {
   "cell_type": "code",
   "execution_count": 3,
   "metadata": {},
   "outputs": [],
   "source": [
    "# for attr_name in attr_names:\n",
    "#     train_CelebA_target_model(root=root,\n",
    "#                             save_dir=save_path,\n",
    "#                             attr_name=attr_name,\n",
    "#                             model=models[2])"
   ]
  },
  {
   "cell_type": "code",
   "execution_count": 4,
   "metadata": {},
   "outputs": [
    {
     "name": "stdout",
     "output_type": "stream",
     "text": [
      "20\n",
      "(202499,) (202499, 64, 64, 3)\n",
      "[0 1]\n"
     ]
    },
    {
     "ename": "AttributeError",
     "evalue": "'str' object has no attribute 'zero_grad'",
     "output_type": "error",
     "traceback": [
      "\u001b[1;31m---------------------------------------------------------------------------\u001b[0m",
      "\u001b[1;31mAttributeError\u001b[0m                            Traceback (most recent call last)",
      "\u001b[1;32me:\\Project\\ZLTProgram\\CelebA\\train.ipynb Cell 4\u001b[0m line \u001b[0;36m2\n\u001b[0;32m      <a href='vscode-notebook-cell:/e%3A/Project/ZLTProgram/CelebA/train.ipynb#W3sZmlsZQ%3D%3D?line=0'>1</a>\u001b[0m \u001b[39mfor\u001b[39;00m attr_name \u001b[39min\u001b[39;00m attr_names:\n\u001b[1;32m----> <a href='vscode-notebook-cell:/e%3A/Project/ZLTProgram/CelebA/train.ipynb#W3sZmlsZQ%3D%3D?line=1'>2</a>\u001b[0m     train_CelebA_target_model(root\u001b[39m=\u001b[39;49mroot,\n\u001b[0;32m      <a href='vscode-notebook-cell:/e%3A/Project/ZLTProgram/CelebA/train.ipynb#W3sZmlsZQ%3D%3D?line=2'>3</a>\u001b[0m                             save_dir\u001b[39m=\u001b[39;49msave_path,\n\u001b[0;32m      <a href='vscode-notebook-cell:/e%3A/Project/ZLTProgram/CelebA/train.ipynb#W3sZmlsZQ%3D%3D?line=3'>4</a>\u001b[0m                             attr_name\u001b[39m=\u001b[39;49mattr_name,\n\u001b[0;32m      <a href='vscode-notebook-cell:/e%3A/Project/ZLTProgram/CelebA/train.ipynb#W3sZmlsZQ%3D%3D?line=4'>5</a>\u001b[0m                             optimizer\u001b[39m=\u001b[39;49m\u001b[39m'\u001b[39;49m\u001b[39mSGD\u001b[39;49m\u001b[39m'\u001b[39;49m,\n\u001b[0;32m      <a href='vscode-notebook-cell:/e%3A/Project/ZLTProgram/CelebA/train.ipynb#W3sZmlsZQ%3D%3D?line=5'>6</a>\u001b[0m                             model\u001b[39m=\u001b[39;49mmodels[\u001b[39m1\u001b[39;49m])\n",
      "File \u001b[1;32me:\\Project\\ZLTProgram\\CelebA\\TargetModelTrainer.py:64\u001b[0m, in \u001b[0;36mtrain_CelebA_target_model\u001b[1;34m(root, save_dir, attr_name, pretrained_model_path, save, train_ratio, num_epochs, batch_size, model, shuffle, criterion, optimizer, device)\u001b[0m\n\u001b[0;32m     61\u001b[0m one_hot_labels\u001b[39m=\u001b[39mget_one_hot_label(labels)\u001b[39m.\u001b[39mto(device)\n\u001b[0;32m     62\u001b[0m outputs \u001b[39m=\u001b[39m model(images)\u001b[39m.\u001b[39mto(device)\n\u001b[1;32m---> 64\u001b[0m optimizer\u001b[39m.\u001b[39;49mzero_grad()\n\u001b[0;32m     65\u001b[0m loss \u001b[39m=\u001b[39m criterion(outputs, one_hot_labels)\n\u001b[0;32m     66\u001b[0m \u001b[39mif\u001b[39;00m(i\u001b[39m%\u001b[39m\u001b[39m200\u001b[39m\u001b[39m==\u001b[39m\u001b[39m0\u001b[39m) :\n",
      "\u001b[1;31mAttributeError\u001b[0m: 'str' object has no attribute 'zero_grad'"
     ]
    }
   ],
   "source": [
    "for attr_name in attr_names:\n",
    "    train_CelebA_target_model(root=root,\n",
    "                            save_dir=save_path,\n",
    "                            attr_name=attr_name,\n",
    "                            optimizer =\"SGD\",\n",
    "                            model=models[1])"
   ]
  }
 ],
 "metadata": {
  "kernelspec": {
   "display_name": "AdversarialSampleDetection",
   "language": "python",
   "name": "python3"
  },
  "language_info": {
   "codemirror_mode": {
    "name": "ipython",
    "version": 3
   },
   "file_extension": ".py",
   "mimetype": "text/x-python",
   "name": "python",
   "nbconvert_exporter": "python",
   "pygments_lexer": "ipython3",
   "version": "3.9.18"
  }
 },
 "nbformat": 4,
 "nbformat_minor": 2
}
