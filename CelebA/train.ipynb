{
 "cells": [
  {
   "cell_type": "code",
   "execution_count": null,
   "metadata": {},
   "outputs": [],
   "source": [
    "from TargetModelTrainer import train_CelebA_target_model\n",
    "\n",
    "root='E:/Project/ModelAndDataset/data'\n",
    "save_path=\"E:/Project/ModelAndDataset/model/CelebA\"\n",
    "\n"
   ]
  },
  {
   "cell_type": "code",
   "execution_count": null,
   "metadata": {},
   "outputs": [],
   "source": [
    "attr_names = [ 'Male', 'Smiling',  'Wearing_Earrings', 'Wearing_Hat',  'Wearing_Necklace', 'Wearing_Necktie']\n",
    "models=['resnet18','vgg19','densenet169','mobilenet']\n",
    "for attr_name in attr_names:\n",
    "    for model in models:\n",
    "        train_CelebA_target_model(root=root,\n",
    "                                  save_dir=save_path,\n",
    "                                  attr_name=attr_name,\n",
    "                                  model=model\n",
    "                                  )\n"
   ]
  }
 ],
 "metadata": {
  "language_info": {
   "name": "python"
  }
 },
 "nbformat": 4,
 "nbformat_minor": 2
}
