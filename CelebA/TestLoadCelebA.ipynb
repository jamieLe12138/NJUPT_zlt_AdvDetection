{
 "cells": [
  {
   "cell_type": "code",
   "execution_count": 1,
   "metadata": {},
   "outputs": [
    {
     "name": "stdout",
     "output_type": "stream",
     "text": [
      "20\n",
      "(202499,) (202499, 64, 64, 3)\n",
      "[0 1]\n"
     ]
    }
   ],
   "source": [
    "import torch\n",
    "from torchvision import datasets, transforms\n",
    "import torch.nn as nn\n",
    "from dataload import CELEBA,drawCelebAImages\n",
    "#GPU\n",
    "device = 'cuda' if torch.cuda.is_available() else 'cpu'\n",
    "\n",
    "# 定义数据转换\n",
    "transform = transforms.Compose([transforms.ToTensor(), transforms.RandomHorizontalFlip()])\n",
    "\n",
    "attr_name='Male'\n",
    "\n",
    "trainDataset = CELEBA(root='E:/Project/ModelAndDataset/data', train=True,label=attr_name, transform=transforms.ToTensor())\n",
    "trainLoader = torch.utils.data.DataLoader(trainDataset, batch_size=64, shuffle=True)\n",
    "\n",
    "# testDataset = CELEBA(root='E:/Project/ModelAndDataset/data', train=False, transform=transforms.ToTensor())\n",
    "# testLoader = torch.utils.data.DataLoader(testDataset, batch_size=64, shuffle=False)"
   ]
  },
  {
   "cell_type": "code",
   "execution_count": 2,
   "metadata": {},
   "outputs": [],
   "source": [
    "train_iter=iter(trainLoader)\n",
    "imgs,labels=next(train_iter)\n"
   ]
  },
  {
   "cell_type": "code",
   "execution_count": 3,
   "metadata": {},
   "outputs": [
    {
     "data": {
      "text/plain": [
       "tensor([[[0.4588, 0.4549, 0.4275,  ..., 0.9333, 0.9294, 0.9176],\n",
       "         [0.3725, 0.4196, 0.4510,  ..., 0.9333, 0.9216, 0.9255],\n",
       "         [0.3373, 0.3451, 0.3725,  ..., 0.9333, 0.9176, 0.9373],\n",
       "         ...,\n",
       "         [0.9882, 0.9725, 0.9765,  ..., 0.6000, 0.7608, 0.7059],\n",
       "         [0.9765, 0.9686, 0.9961,  ..., 0.3922, 0.6431, 0.7294],\n",
       "         [0.9686, 0.9922, 0.9765,  ..., 0.3490, 0.5098, 0.7020]],\n",
       "\n",
       "        [[0.3490, 0.3451, 0.3137,  ..., 0.9137, 0.9098, 0.8980],\n",
       "         [0.2588, 0.3059, 0.3373,  ..., 0.9137, 0.9020, 0.9020],\n",
       "         [0.2235, 0.2314, 0.2588,  ..., 0.9137, 0.8980, 0.9137],\n",
       "         ...,\n",
       "         [0.9569, 0.9490, 0.9373,  ..., 0.3059, 0.4235, 0.3961],\n",
       "         [0.9569, 0.9373, 0.9255,  ..., 0.1922, 0.3529, 0.4078],\n",
       "         [0.9529, 0.9490, 0.8667,  ..., 0.1725, 0.2510, 0.3804]],\n",
       "\n",
       "        [[0.3098, 0.3059, 0.2745,  ..., 0.9294, 0.9255, 0.9137],\n",
       "         [0.2275, 0.2745, 0.3059,  ..., 0.9294, 0.9176, 0.9176],\n",
       "         [0.1961, 0.2078, 0.2314,  ..., 0.9294, 0.9137, 0.9294],\n",
       "         ...,\n",
       "         [0.9294, 0.9255, 0.8980,  ..., 0.1373, 0.2235, 0.1765],\n",
       "         [0.9294, 0.9059, 0.8706,  ..., 0.0902, 0.2039, 0.2275],\n",
       "         [0.9294, 0.9020, 0.7725,  ..., 0.0863, 0.1255, 0.2039]]])"
      ]
     },
     "execution_count": 3,
     "metadata": {},
     "output_type": "execute_result"
    }
   ],
   "source": [
    "imgs[0]"
   ]
  },
  {
   "cell_type": "code",
   "execution_count": 4,
   "metadata": {},
   "outputs": [
    {
     "data": {
      "text/plain": [
       "tensor(0, dtype=torch.int32)"
      ]
     },
     "execution_count": 4,
     "metadata": {},
     "output_type": "execute_result"
    }
   ],
   "source": [
    "labels[0]"
   ]
  },
  {
   "cell_type": "code",
   "execution_count": 5,
   "metadata": {},
   "outputs": [],
   "source": [
    "# import matplotlib.pyplot as plt\n",
    "# import numpy as np\n",
    "# import matplotlib\n",
    "# matplotlib.use('TkAgg')  # 使用TkAgg作为后端\n",
    "# import math\n",
    "\n",
    "# num_images_to_visualize = 64\n",
    "# num_rows = 8\n",
    "# num_lines = math.ceil(num_images_to_visualize / num_rows)  # 使用math.ceil确保不为整数时向上取整\n",
    "\n",
    "# fig, axes = plt.subplots(num_lines, num_rows, figsize=(num_images_to_visualize *1 , 3))\n",
    "\n",
    "# labels_name = ['noBlackHair', 'BlackHair']\n",
    "# for i in range(num_images_to_visualize):\n",
    "#     image = imgs[i]\n",
    "#     label = labels_name[labels[i].item()]\n",
    "#     img = np.transpose(image, (1, 2, 0))  # 重新排列通道维度为 (H, W, C)\n",
    "\n",
    "#     # 计算子图的行号和列号\n",
    "#     row = i // num_rows\n",
    "#     col = i % num_rows\n",
    "\n",
    "#     axes[row, col].imshow(img)\n",
    "#     axes[row, col].set_title(f\"Label: {label}\",fontsize=10)\n",
    "#     axes[row, col].axis('off')\n",
    "\n",
    "# plt.show()\n"
   ]
  },
  {
   "cell_type": "code",
   "execution_count": 6,
   "metadata": {},
   "outputs": [],
   "source": [
    "drawCelebAImages(imgs=imgs,labels=labels,label_name=attr_name,show=True)"
   ]
  }
 ],
 "metadata": {
  "kernelspec": {
   "display_name": "AdversarialSampleDetection",
   "language": "python",
   "name": "python3"
  },
  "language_info": {
   "codemirror_mode": {
    "name": "ipython",
    "version": 3
   },
   "file_extension": ".py",
   "mimetype": "text/x-python",
   "name": "python",
   "nbconvert_exporter": "python",
   "pygments_lexer": "ipython3",
   "version": "3.9.18"
  }
 },
 "nbformat": 4,
 "nbformat_minor": 2
}
