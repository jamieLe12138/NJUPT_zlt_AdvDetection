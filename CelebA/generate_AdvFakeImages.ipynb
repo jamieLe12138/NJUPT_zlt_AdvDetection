{
 "cells": [
  {
   "cell_type": "code",
   "execution_count": 1,
   "metadata": {},
   "outputs": [
    {
     "name": "stdout",
     "output_type": "stream",
     "text": [
      "Load images from: E:/Project/ModelAndDataset/data/celebA/Attack/RawImage_FastGradientMethod_ResNet18_Smiling.npy\n",
      "Load labels from: E:/Project/ModelAndDataset/data/celebA/Attack/RawLabel_FastGradientMethod_ResNet18_Smiling.npy\n",
      "Load images from: E:/Project/ModelAndDataset/data/celebA/Attack/AdvImage_FastGradientMethod_ResNet18_Smiling.npy\n",
      "Load labels from: E:/Project/ModelAndDataset/data/celebA/Attack/AdvLabel_FastGradientMethod_ResNet18_Smiling.npy\n"
     ]
    }
   ],
   "source": [
    "import sys\n",
    "sys.path.append(\"E:/Project/ZLTProgram/CelebA\")\n",
    "from Utils.GEN_Util import CVAEGAN_Images_Generator\n",
    "from Utils.dataload import CELEBA_Attack\n",
    "from torchvision import transforms\n",
    "\n",
    "rawdataset=CELEBA_Attack(root=\"E:/Project/ModelAndDataset/data/celebA/Attack\",\n",
    "                        adv=False,\n",
    "                        attackMethod=\"FastGradientMethod\",\n",
    "                        model='ResNet18',\n",
    "                        label='Smiling',\n",
    "                        transform=transforms.ToTensor()\n",
    "                        )\n",
    "advdataset=CELEBA_Attack(root=\"E:/Project/ModelAndDataset/data/celebA/Attack\",\n",
    "                        adv=True,\n",
    "                        attackMethod=\"FastGradientMethod\",\n",
    "                        model='ResNet18',\n",
    "                        label='Smiling',\n",
    "                        transform=transforms.ToTensor()\n",
    "                        )"
   ]
  },
  {
   "cell_type": "code",
   "execution_count": 2,
   "metadata": {},
   "outputs": [
    {
     "name": "stdout",
     "output_type": "stream",
     "text": [
      "Use model\n",
      "loading params...\n",
      "Use model\n",
      "loading params...\n"
     ]
    },
    {
     "name": "stderr",
     "output_type": "stream",
     "text": [
      "e:\\Project\\ZLTProgram\\CelebA\\Model\\CVAE_GAN.py:108: UserWarning: Implicit dimension choice for softmax has been deprecated. Change the call to include dim=X as an argument.\n",
      "  y = F.softmax(self.encY(x.detach()))\n"
     ]
    },
    {
     "name": "stdout",
     "output_type": "stream",
     "text": [
      "Generate with labels batch0/25\n",
      "Generate with labels batch10/25\n",
      "Generate with labels batch20/25\n",
      "cVAEGAN\n",
      "Generate with labels batch0/25\n",
      "Generate with labels batch10/25\n",
      "Generate with labels batch20/25\n",
      "cVAEGAN\n",
      "Generate with labels batch0/25\n",
      "Generate with labels batch10/25\n",
      "Generate with labels batch20/25\n",
      "cVAEGAN_ReverseLabel\n",
      "Generate with labels batch0/25\n",
      "Generate with labels batch10/25\n",
      "Generate with labels batch20/25\n",
      "cVAEGAN_ReverseLabel\n"
     ]
    }
   ],
   "source": [
    "gen_raw=CVAEGAN_Images_Generator(dataset=rawdataset,\n",
    "                                 batch_num=25,\n",
    "                                 data_save_path=\"E:\\Project\\ModelAndDataset\\data\\celebA/Gen\\GEN_RAW\",\n",
    "                                 gen_model_name='model')\n",
    "gen_adv=CVAEGAN_Images_Generator(dataset=advdataset,\n",
    "                                 batch_num=25,\n",
    "                                 data_save_path=\"E:\\Project\\ModelAndDataset\\data\\celebA\\Gen\\GEN_ADV\",\n",
    "                                 gen_model_name='model')\n",
    "\n",
    "gen_raw.generate_with_label(reverse_label=False)\n",
    "gen_adv.generate_with_label(reverse_label=False)\n",
    "gen_raw.generate_with_label(reverse_label=True)\n",
    "gen_adv.generate_with_label(reverse_label=True)"
   ]
  }
 ],
 "metadata": {
  "kernelspec": {
   "display_name": "AdversarialSampleDetection",
   "language": "python",
   "name": "python3"
  },
  "language_info": {
   "codemirror_mode": {
    "name": "ipython",
    "version": 3
   },
   "file_extension": ".py",
   "mimetype": "text/x-python",
   "name": "python",
   "nbconvert_exporter": "python",
   "pygments_lexer": "ipython3",
   "version": "3.9.18"
  }
 },
 "nbformat": 4,
 "nbformat_minor": 2
}
