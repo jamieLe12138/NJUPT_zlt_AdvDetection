{
 "cells": [
  {
   "cell_type": "code",
   "execution_count": 1,
   "metadata": {},
   "outputs": [
    {
     "name": "stdout",
     "output_type": "stream",
     "text": [
      "Load images from: E:/Project/ModelAndDataset/data/celebA/Attack/RawImage_FastGradientMethod_ResNet18_Smiling.npy\n",
      "Load labels from: E:/Project/ModelAndDataset/data/celebA/Attack/RawLabel_FastGradientMethod_ResNet18_Smiling.npy\n",
      "Load images from: E:/Project/ModelAndDataset/data/celebA/Attack/AdvImage_FastGradientMethod_ResNet18_Smiling.npy\n",
      "Load labels from: E:/Project/ModelAndDataset/data/celebA/Attack/AdvLabel_FastGradientMethod_ResNet18_Smiling.npy\n"
     ]
    }
   ],
   "source": [
    "import sys\n",
    "sys.path.append(\"E:/Project/ZLTProgram/CelebA\")\n",
    "from Utils.GEN_Util import CVAEGAN_Images_Generator\n",
    "from Utils.dataload import CELEBA_Attack\n",
    "from torchvision import transforms\n",
    "\n",
    "rawdataset=CELEBA_Attack(root=\"E:/Project/ModelAndDataset/data/celebA/Attack\",\n",
    "                        adv=False,\n",
    "                        attackMethod=\"FastGradientMethod\",\n",
    "                        model='ResNet18',\n",
    "                        label='Smiling',\n",
    "                        transform=transforms.ToTensor()\n",
    "                        )\n",
    "advdataset=CELEBA_Attack(root=\"E:/Project/ModelAndDataset/data/celebA/Attack\",\n",
    "                        adv=True,\n",
    "                        attackMethod=\"FastGradientMethod\",\n",
    "                        model='ResNet18',\n",
    "                        label='Smiling',\n",
    "                        transform=transforms.ToTensor()\n",
    "                        )"
   ]
  },
  {
   "cell_type": "code",
   "execution_count": 2,
   "metadata": {},
   "outputs": [
    {
     "name": "stdout",
     "output_type": "stream",
     "text": [
      "loading params...\n",
      "loading params...\n",
      "Generate with labels batch0/25\n"
     ]
    },
    {
     "name": "stderr",
     "output_type": "stream",
     "text": [
      "e:\\Project\\ZLTProgram\\CelebA\\Model\\CVAE_GAN_Advanced.py:139: UserWarning: Implicit dimension choice for softmax has been deprecated. Change the call to include dim=X as an argument.\n",
      "  y = F.softmax(self.encY(x.detach()))\n"
     ]
    },
    {
     "name": "stdout",
     "output_type": "stream",
     "text": [
      "Generate with labels batch10/25\n",
      "Generate with labels batch20/25\n"
     ]
    },
    {
     "ename": "OSError",
     "evalue": "[Errno 22] Invalid argument: 'E:\\\\Project\\\\ModelAndDataset\\\\data\\\\celebA/Gen\\\\GEN_RAW\\\\cVAEGAN_Advanced\\\\Smiling_image.npy'",
     "output_type": "error",
     "traceback": [
      "\u001b[1;31m---------------------------------------------------------------------------\u001b[0m",
      "\u001b[1;31mOSError\u001b[0m                                   Traceback (most recent call last)",
      "\u001b[1;32me:\\Project\\ZLTProgram\\CelebA\\generate_AdvFakeImages.ipynb Cell 2\u001b[0m line \u001b[0;36m1\n\u001b[0;32m      <a href='vscode-notebook-cell:/e%3A/Project/ZLTProgram/CelebA/generate_AdvFakeImages.ipynb#W1sZmlsZQ%3D%3D?line=0'>1</a>\u001b[0m gen_raw\u001b[39m=\u001b[39mCVAEGAN_Images_Generator(dataset\u001b[39m=\u001b[39mrawdataset,\n\u001b[0;32m      <a href='vscode-notebook-cell:/e%3A/Project/ZLTProgram/CelebA/generate_AdvFakeImages.ipynb#W1sZmlsZQ%3D%3D?line=1'>2</a>\u001b[0m                                  batch_num\u001b[39m=\u001b[39m\u001b[39m25\u001b[39m,\n\u001b[0;32m      <a href='vscode-notebook-cell:/e%3A/Project/ZLTProgram/CelebA/generate_AdvFakeImages.ipynb#W1sZmlsZQ%3D%3D?line=2'>3</a>\u001b[0m                                  data_save_path\u001b[39m=\u001b[39m\u001b[39m\"\u001b[39m\u001b[39mE:\u001b[39m\u001b[39m\\\u001b[39m\u001b[39mProject\u001b[39m\u001b[39m\\\u001b[39m\u001b[39mModelAndDataset\u001b[39m\u001b[39m\\\u001b[39m\u001b[39mdata\u001b[39m\u001b[39m\\\u001b[39m\u001b[39mcelebA/Gen\u001b[39m\u001b[39m\\\u001b[39m\u001b[39mGEN_RAW\u001b[39m\u001b[39m\"\u001b[39m,\n\u001b[0;32m      <a href='vscode-notebook-cell:/e%3A/Project/ZLTProgram/CelebA/generate_AdvFakeImages.ipynb#W1sZmlsZQ%3D%3D?line=3'>4</a>\u001b[0m                                  gen_model\u001b[39m=\u001b[39m\u001b[39m'\u001b[39m\u001b[39madvanced_model\u001b[39m\u001b[39m'\u001b[39m)\n\u001b[0;32m      <a href='vscode-notebook-cell:/e%3A/Project/ZLTProgram/CelebA/generate_AdvFakeImages.ipynb#W1sZmlsZQ%3D%3D?line=4'>5</a>\u001b[0m gen_adv\u001b[39m=\u001b[39mCVAEGAN_Images_Generator(dataset\u001b[39m=\u001b[39madvdataset,\n\u001b[0;32m      <a href='vscode-notebook-cell:/e%3A/Project/ZLTProgram/CelebA/generate_AdvFakeImages.ipynb#W1sZmlsZQ%3D%3D?line=5'>6</a>\u001b[0m                                  batch_num\u001b[39m=\u001b[39m\u001b[39m25\u001b[39m,\n\u001b[0;32m      <a href='vscode-notebook-cell:/e%3A/Project/ZLTProgram/CelebA/generate_AdvFakeImages.ipynb#W1sZmlsZQ%3D%3D?line=6'>7</a>\u001b[0m                                  data_save_path\u001b[39m=\u001b[39m\u001b[39m\"\u001b[39m\u001b[39mE:\u001b[39m\u001b[39m\\\u001b[39m\u001b[39mProject\u001b[39m\u001b[39m\\\u001b[39m\u001b[39mModelAndDataset\u001b[39m\u001b[39m\\\u001b[39m\u001b[39mdata\u001b[39m\u001b[39m\\\u001b[39m\u001b[39mcelebA\u001b[39m\u001b[39m\\\u001b[39m\u001b[39mGen\u001b[39m\u001b[39m\\\u001b[39m\u001b[39mGEN_ADV\u001b[39m\u001b[39m\"\u001b[39m,\n\u001b[0;32m      <a href='vscode-notebook-cell:/e%3A/Project/ZLTProgram/CelebA/generate_AdvFakeImages.ipynb#W1sZmlsZQ%3D%3D?line=7'>8</a>\u001b[0m                                  gen_model\u001b[39m=\u001b[39m\u001b[39m'\u001b[39m\u001b[39madvanced_model\u001b[39m\u001b[39m'\u001b[39m)\n\u001b[1;32m---> <a href='vscode-notebook-cell:/e%3A/Project/ZLTProgram/CelebA/generate_AdvFakeImages.ipynb#W1sZmlsZQ%3D%3D?line=9'>10</a>\u001b[0m gen_raw\u001b[39m.\u001b[39;49mgenerate_with_label()\n\u001b[0;32m     <a href='vscode-notebook-cell:/e%3A/Project/ZLTProgram/CelebA/generate_AdvFakeImages.ipynb#W1sZmlsZQ%3D%3D?line=10'>11</a>\u001b[0m gen_adv\u001b[39m.\u001b[39mgenerate_with_label()\n",
      "File \u001b[1;32me:\\Project\\ZLTProgram\\CelebA\\Utils\\GEN_Util.py:84\u001b[0m, in \u001b[0;36mCVAEGAN_Images_Generator.generate_with_label\u001b[1;34m(self)\u001b[0m\n\u001b[0;32m     82\u001b[0m \u001b[39melse\u001b[39;00m:\n\u001b[0;32m     83\u001b[0m     dirname\u001b[39m=\u001b[39m\u001b[39m'\u001b[39m\u001b[39mcVAEGAN_Advanced\u001b[39m\u001b[39m'\u001b[39m\n\u001b[1;32m---> 84\u001b[0m np\u001b[39m.\u001b[39;49msave(join(\u001b[39mself\u001b[39;49m\u001b[39m.\u001b[39;49mdata_save_path,dirname,\u001b[39mself\u001b[39;49m\u001b[39m.\u001b[39;49mattr_name\u001b[39m+\u001b[39;49m\u001b[39m\"\u001b[39;49m\u001b[39m_\u001b[39;49m\u001b[39m\"\u001b[39;49m\u001b[39m+\u001b[39;49m\u001b[39m\"\u001b[39;49m\u001b[39mimage\u001b[39;49m\u001b[39m\"\u001b[39;49m), gen_imgs\u001b[39m.\u001b[39;49mdetach()\u001b[39m.\u001b[39;49mnumpy())\n\u001b[0;32m     85\u001b[0m np\u001b[39m.\u001b[39msave(join(\u001b[39mself\u001b[39m\u001b[39m.\u001b[39mdata_save_path,dirname,\u001b[39mself\u001b[39m\u001b[39m.\u001b[39mattr_name\u001b[39m+\u001b[39m\u001b[39m\"\u001b[39m\u001b[39m_\u001b[39m\u001b[39m\"\u001b[39m\u001b[39m+\u001b[39m\u001b[39m\"\u001b[39m\u001b[39mlabel\u001b[39m\u001b[39m\"\u001b[39m), gen_labels\u001b[39m.\u001b[39mdetach()\u001b[39m.\u001b[39mnumpy())\n\u001b[0;32m     86\u001b[0m np\u001b[39m.\u001b[39msave(join(\u001b[39mself\u001b[39m\u001b[39m.\u001b[39mdata_save_path,\u001b[39m\"\u001b[39m\u001b[39mreal\u001b[39m\u001b[39m\"\u001b[39m,\u001b[39mself\u001b[39m\u001b[39m.\u001b[39mattr_name\u001b[39m+\u001b[39m\u001b[39m\"\u001b[39m\u001b[39m_\u001b[39m\u001b[39m\"\u001b[39m\u001b[39m+\u001b[39m\u001b[39m\"\u001b[39m\u001b[39mimage\u001b[39m\u001b[39m\"\u001b[39m),x\u001b[39m.\u001b[39mdetach()\u001b[39m.\u001b[39mcpu()\u001b[39m.\u001b[39mnumpy())\n",
      "File \u001b[1;32m<__array_function__ internals>:200\u001b[0m, in \u001b[0;36msave\u001b[1;34m(*args, **kwargs)\u001b[0m\n",
      "File \u001b[1;32md:\\Anaconda\\envs\\AdversarialSampleDetection\\lib\\site-packages\\numpy\\lib\\npyio.py:518\u001b[0m, in \u001b[0;36msave\u001b[1;34m(file, arr, allow_pickle, fix_imports)\u001b[0m\n\u001b[0;32m    516\u001b[0m     \u001b[39mif\u001b[39;00m \u001b[39mnot\u001b[39;00m file\u001b[39m.\u001b[39mendswith(\u001b[39m'\u001b[39m\u001b[39m.npy\u001b[39m\u001b[39m'\u001b[39m):\n\u001b[0;32m    517\u001b[0m         file \u001b[39m=\u001b[39m file \u001b[39m+\u001b[39m \u001b[39m'\u001b[39m\u001b[39m.npy\u001b[39m\u001b[39m'\u001b[39m\n\u001b[1;32m--> 518\u001b[0m     file_ctx \u001b[39m=\u001b[39m \u001b[39mopen\u001b[39;49m(file, \u001b[39m\"\u001b[39;49m\u001b[39mwb\u001b[39;49m\u001b[39m\"\u001b[39;49m)\n\u001b[0;32m    520\u001b[0m \u001b[39mwith\u001b[39;00m file_ctx \u001b[39mas\u001b[39;00m fid:\n\u001b[0;32m    521\u001b[0m     arr \u001b[39m=\u001b[39m np\u001b[39m.\u001b[39masanyarray(arr)\n",
      "\u001b[1;31mOSError\u001b[0m: [Errno 22] Invalid argument: 'E:\\\\Project\\\\ModelAndDataset\\\\data\\\\celebA/Gen\\\\GEN_RAW\\\\cVAEGAN_Advanced\\\\Smiling_image.npy'"
     ]
    }
   ],
   "source": [
    "gen_raw=CVAEGAN_Images_Generator(dataset=rawdataset,\n",
    "                                 batch_num=25,\n",
    "                                 data_save_path=\"E:\\Project\\ModelAndDataset\\data\\celebA/Gen\\GEN_RAW\",\n",
    "                                 gen_model='advanced_model')\n",
    "gen_adv=CVAEGAN_Images_Generator(dataset=advdataset,\n",
    "                                 batch_num=25,\n",
    "                                 data_save_path=\"E:\\Project\\ModelAndDataset\\data\\celebA\\Gen\\GEN_ADV\",\n",
    "                                 gen_model='advanced_model')\n",
    "\n",
    "gen_raw.generate_with_label()\n",
    "gen_adv.generate_with_label()"
   ]
  }
 ],
 "metadata": {
  "kernelspec": {
   "display_name": "AdversarialSampleDetection",
   "language": "python",
   "name": "python3"
  },
  "language_info": {
   "codemirror_mode": {
    "name": "ipython",
    "version": 3
   },
   "file_extension": ".py",
   "mimetype": "text/x-python",
   "name": "python",
   "nbconvert_exporter": "python",
   "pygments_lexer": "ipython3",
   "version": "3.9.18"
  }
 },
 "nbformat": 4,
 "nbformat_minor": 2
}
