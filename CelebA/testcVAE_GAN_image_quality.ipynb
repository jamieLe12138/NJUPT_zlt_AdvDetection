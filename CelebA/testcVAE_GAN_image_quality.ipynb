{
 "cells": [
  {
   "cell_type": "code",
   "execution_count": 2,
   "metadata": {},
   "outputs": [],
   "source": [
    "\n",
    "from InceptionV3 import InceptionV3\n",
    "from dataload import CELEBA,CELEBA_GEN\n",
    "from torchvision import transforms\n",
    "import torch\n",
    "root='E:/Project/ModelAndDataset/data'\n",
    "attr_name='Smiling'\n",
    "device = 'cuda' if torch.cuda.is_available() else 'cpu'\n",
    "model=InceptionV3()\n",
    "model=model.to(device)\n"
   ]
  },
  {
   "cell_type": "code",
   "execution_count": 3,
   "metadata": {},
   "outputs": [
    {
     "name": "stdout",
     "output_type": "stream",
     "text": [
      "31\n",
      "Load Test dataset: 60780\n",
      "Load images from: E:\\Project\\ModelAndDataset\\data\\celebA\\Gen\\cVAEGAN\\Smiling_image.npy\n",
      "Load labels from: E:\\Project\\ModelAndDataset\\data\\celebA\\Gen\\cVAEGAN\\Smiling_label.npy\n",
      "Load images from: E:\\Project\\ModelAndDataset\\data\\celebA\\Gen\\cVAEGAN_Advanced\\Smiling_image.npy\n",
      "Load labels from: E:\\Project\\ModelAndDataset\\data\\celebA\\Gen\\cVAEGAN_Advanced\\Smiling_label.npy\n"
     ]
    }
   ],
   "source": [
    "transform = transforms.Compose([transforms.ToTensor()])\n",
    "# realDataset=CELEBA_GEN(root=\"E:/Project/ModelAndDataset/data/celebA/Gen/real\",\n",
    "#                         attr_name='Smiling',\n",
    "#                         transform=transform\n",
    "#                         )\n",
    "realDataset=CELEBA(root=root,train=False,train_ratio=0.7,transform=transform,label=attr_name)\n",
    "realLoader = torch.utils.data.DataLoader(realDataset,batch_size=64,shuffle=False)\n",
    "genDataset1 = CELEBA_GEN(root=\"E:\\Project\\ModelAndDataset\\data\\celebA\\Gen\\cVAEGAN\",\n",
    "                        attr_name='Smiling',\n",
    "                        transform=transform\n",
    "                        )\n",
    "genLoader1 = torch.utils.data.DataLoader(genDataset1,batch_size=64,shuffle=False)\n",
    "genDataset2 = CELEBA_GEN(root=\"E:\\Project\\ModelAndDataset\\data\\celebA\\Gen\\cVAEGAN_Advanced\",\n",
    "                        attr_name='Smiling',\n",
    "                        transform=transform\n",
    "                        )\n",
    "genLoader2 = torch.utils.data.DataLoader(genDataset2,batch_size=64,shuffle=False)\n"
   ]
  },
  {
   "cell_type": "code",
   "execution_count": 4,
   "metadata": {},
   "outputs": [
    {
     "name": "stdout",
     "output_type": "stream",
     "text": [
      "fid: 61.41340414600225\n"
     ]
    }
   ],
   "source": [
    "from EvaluatingTools import calculate_fid,calculate_ssim,calculate_l2_distance,DrawEvaluteResult\n",
    "fid1=calculate_fid(raw_dataloader=realLoader,\n",
    "                gen_dataloader=genLoader1,\n",
    "                model=model,\n",
    "                batch_nums=150,\n",
    "                batch_size=64,\n",
    "                device=device,\n",
    "                dims=2048\n",
    "                )\n",
    "print(\"fid:\",fid1)"
   ]
  },
  {
   "cell_type": "code",
   "execution_count": 5,
   "metadata": {},
   "outputs": [
    {
     "name": "stdout",
     "output_type": "stream",
     "text": [
      "fid 27.96847226625829\n"
     ]
    }
   ],
   "source": [
    "fid2=calculate_fid(raw_dataloader=realLoader,\n",
    "                gen_dataloader=genLoader2,\n",
    "                model=model,\n",
    "                batch_nums=150,\n",
    "                batch_size=64,\n",
    "                device=device,\n",
    "                dims=2048\n",
    "                )\n",
    "print(\"fid\",fid2)"
   ]
  },
  {
   "cell_type": "code",
   "execution_count": 6,
   "metadata": {},
   "outputs": [],
   "source": [
    "ssim1=calculate_ssim(raw_dataloader=realLoader,\n",
    "                     gen_dataloader=genLoader1,\n",
    "                     batch_nums=150\n",
    "                     )"
   ]
  },
  {
   "cell_type": "code",
   "execution_count": 7,
   "metadata": {},
   "outputs": [],
   "source": [
    "ssim2=calculate_ssim(raw_dataloader=realLoader,\n",
    "                     gen_dataloader=genLoader2,\n",
    "                     batch_nums=150\n",
    "                     )"
   ]
  },
  {
   "cell_type": "code",
   "execution_count": 8,
   "metadata": {},
   "outputs": [],
   "source": [
    "l2_distance1=calculate_l2_distance(raw_dataloader=realLoader,\n",
    "                                    gen_dataloader=genLoader1,\n",
    "                                    batch_nums=150\n",
    "                                    )"
   ]
  },
  {
   "cell_type": "code",
   "execution_count": 9,
   "metadata": {},
   "outputs": [],
   "source": [
    "l2_distance2=calculate_l2_distance(raw_dataloader=realLoader,\n",
    "                                    gen_dataloader=genLoader2,\n",
    "                                    batch_nums=150\n",
    "                                    )"
   ]
  },
  {
   "cell_type": "code",
   "execution_count": 16,
   "metadata": {},
   "outputs": [],
   "source": [
    "from matplotlib import pyplot as plt\n",
    "import matplotlib\n",
    "matplotlib.use('TkAgg')\n",
    "fig_ssim=DrawEvaluteResult(ssim1,\"origin\",ssim2,\"improved\",\"SSIM\",\"number\",\"ssim_value\")\n",
    "plt.show()"
   ]
  },
  {
   "cell_type": "code",
   "execution_count": 18,
   "metadata": {},
   "outputs": [],
   "source": [
    "fig_l2=DrawEvaluteResult(l2_distance1,\"origin\",l2_distance2,\"improved\",\"L2_distance\",\"number\",\"l2_distance\")\n",
    "plt.show()"
   ]
  }
 ],
 "metadata": {
  "kernelspec": {
   "display_name": "AdversarialSampleDetection",
   "language": "python",
   "name": "python3"
  },
  "language_info": {
   "codemirror_mode": {
    "name": "ipython",
    "version": 3
   },
   "file_extension": ".py",
   "mimetype": "text/x-python",
   "name": "python",
   "nbconvert_exporter": "python",
   "pygments_lexer": "ipython3",
   "version": "3.9.18"
  }
 },
 "nbformat": 4,
 "nbformat_minor": 2
}
