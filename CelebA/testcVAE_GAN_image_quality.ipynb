{
 "cells": [
  {
   "cell_type": "code",
   "execution_count": 1,
   "metadata": {},
   "outputs": [],
   "source": [
    "\n",
    "from InceptionV3 import InceptionV3\n",
    "from dataload import CELEBA\n",
    "from torchvision import transforms\n",
    "import torch\n",
    "root='E:/Project/ModelAndDataset/data'\n",
    "attr_name='Smiling'\n",
    "device = 'cuda' if torch.cuda.is_available() else 'cpu'\n",
    "model=InceptionV3()\n",
    "model=model.to(device)\n"
   ]
  },
  {
   "cell_type": "code",
   "execution_count": 2,
   "metadata": {},
   "outputs": [
    {
     "name": "stdout",
     "output_type": "stream",
     "text": [
      "31\n",
      "Load Test dataset: 60780\n"
     ]
    }
   ],
   "source": [
    "transform = transforms.Compose([transforms.ToTensor(), transforms.RandomHorizontalFlip()])\n",
    "testDataset = CELEBA(root=root, train=False, train_ratio=0.7,transform=transforms.ToTensor(),label=attr_name)\n",
    "testLoader = torch.utils.data.DataLoader(testDataset, batch_size=64, shuffle=False)"
   ]
  },
  {
   "cell_type": "code",
   "execution_count": null,
   "metadata": {},
   "outputs": [],
   "source": [
    "from advanced_models import CVAE as CVAE2\n",
    "from models import CVAE as CVAE\n",
    "\n",
    "cvae1=CVAE(nz=100,imSize=64,device=device)\n",
    "cvae2=CVAE2(nz=100,imSize=64,self_attn=True,CBN=True,device=device)\n",
    "cvae1.load_params(\"E:/Project/ModelAndDataset/model/CelebA/cVAE_GAN/Smiling\")\n",
    "cvae2.load_params(\"E:/Project/ModelAndDataset/model/CelebA/cVAE_GAN/Smiling\")\n",
    "cvae1.to(device)\n",
    "cvae2.to(device)\n"
   ]
  },
  {
   "cell_type": "code",
   "execution_count": 3,
   "metadata": {},
   "outputs": [],
   "source": [
    "from EvaluatingTools import calculate_fid\n",
    "fid=calculate_fid(raw_dataloader=testLoader,\n",
    "                gen_dataloader=testLoader,\n",
    "                model=model,\n",
    "                batch_nums=100,\n",
    "                batch_size=64,\n",
    "                device=device,\n",
    "                dims=2048\n",
    "                )"
   ]
  },
  {
   "cell_type": "code",
   "execution_count": 4,
   "metadata": {},
   "outputs": [
    {
     "data": {
      "text/plain": [
       "5.6843418860808015e-12"
      ]
     },
     "execution_count": 4,
     "metadata": {},
     "output_type": "execute_result"
    }
   ],
   "source": [
    "fid"
   ]
  }
 ],
 "metadata": {
  "kernelspec": {
   "display_name": "AdversarialSampleDetection",
   "language": "python",
   "name": "python3"
  },
  "language_info": {
   "codemirror_mode": {
    "name": "ipython",
    "version": 3
   },
   "file_extension": ".py",
   "mimetype": "text/x-python",
   "name": "python",
   "nbconvert_exporter": "python",
   "pygments_lexer": "ipython3",
   "version": "3.9.18"
  }
 },
 "nbformat": 4,
 "nbformat_minor": 2
}
