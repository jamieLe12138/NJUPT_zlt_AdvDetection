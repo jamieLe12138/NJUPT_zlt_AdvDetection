{
 "cells": [
  {
   "cell_type": "code",
   "execution_count": 1,
   "metadata": {},
   "outputs": [
    {
     "name": "stdout",
     "output_type": "stream",
     "text": [
      "Load images from: E:/Project/ModelAndDataset/data/celebA/Attack/RawImage_FastGradientMethod_ResNet18_Smiling.npy\n",
      "Load labels from: E:/Project/ModelAndDataset/data/celebA/Attack/RawLabel_FastGradientMethod_ResNet18_Smiling.npy\n",
      "Load images from: E:/Project/ModelAndDataset/data/celebA/Attack/AdvImage_FastGradientMethod_ResNet18_Smiling.npy\n",
      "Load labels from: E:/Project/ModelAndDataset/data/celebA/Attack/AdvLabel_FastGradientMethod_ResNet18_Smiling.npy\n"
     ]
    }
   ],
   "source": [
    "import sys\n",
    "sys.path.append(\"E:/Project/ZLTProgram/CelebA\")\n",
    "from Utils.dataload import CELEBA,CELEBA_Attack,drawCelebAImages\n",
    "from torchvision import transforms\n",
    "import torch\n",
    "from Model.function import sample_z\n",
    "import numpy as np\n",
    "# 数据集存储目录\n",
    "root='E:/Project/ModelAndDataset/data'\n",
    "attr_name='Smiling'\n",
    "batch_size=64\n",
    "# 模型参数存放目录\n",
    "save_model_dir='E:/Project/ModelAndDataset/model/CelebA/cVAE_GAN'\n",
    "rawDataset = CELEBA_Attack(root=\"E:/Project/ModelAndDataset/data/celebA/Attack\",\n",
    "                        adv=False,\n",
    "                        attackMethod=\"FastGradientMethod\",\n",
    "                        model='ResNet18',\n",
    "                        label='Smiling',\n",
    "                        transform=transforms.ToTensor()\n",
    "                        )\n",
    "rawLoader = torch.utils.data.DataLoader(rawDataset, batch_size=batch_size, shuffle=False)\n",
    "\n",
    "advDataset=CELEBA_Attack(root=\"E:/Project/ModelAndDataset/data/celebA/Attack\",\n",
    "                        adv=True,\n",
    "                        attackMethod=\"FastGradientMethod\",\n",
    "                        model='ResNet18',\n",
    "                        label='Smiling',\n",
    "                        transform=transforms.ToTensor()\n",
    "                        )\n",
    "advLoader=torch.utils.data.DataLoader(advDataset,batch_size=batch_size,shuffle=False)"
   ]
  },
  {
   "cell_type": "code",
   "execution_count": 2,
   "metadata": {},
   "outputs": [
    {
     "name": "stdout",
     "output_type": "stream",
     "text": [
      "loading params...\n"
     ]
    },
    {
     "data": {
      "text/plain": [
       "CVAE(\n",
       "  (enc1): Conv2d(3, 64, kernel_size=(5, 5), stride=(2, 2), padding=(2, 2))\n",
       "  (enc2): Conv2d(64, 128, kernel_size=(5, 5), stride=(2, 2), padding=(2, 2))\n",
       "  (enc3): Conv2d(128, 256, kernel_size=(5, 5), stride=(2, 2), padding=(2, 2))\n",
       "  (enc4): Conv2d(256, 512, kernel_size=(5, 5), stride=(2, 2), padding=(2, 2))\n",
       "  (enc_attn_block): Self_Attn(\n",
       "    (conv1x1_theta): Conv2d(512, 64, kernel_size=(1, 1), stride=(1, 1), bias=False)\n",
       "    (conv1x1_phi): Conv2d(512, 64, kernel_size=(1, 1), stride=(1, 1), bias=False)\n",
       "    (conv1x1_g): Conv2d(512, 256, kernel_size=(1, 1), stride=(1, 1), bias=False)\n",
       "    (conv1x1_attn): Conv2d(256, 512, kernel_size=(1, 1), stride=(1, 1), bias=False)\n",
       "    (maxpool): MaxPool2d(kernel_size=2, stride=2, padding=0, dilation=1, ceil_mode=False)\n",
       "    (softmax): Softmax(dim=-1)\n",
       "  )\n",
       "  (encLogVar): Linear(in_features=8192, out_features=100, bias=True)\n",
       "  (encMu): Linear(in_features=8192, out_features=100, bias=True)\n",
       "  (encY): Linear(in_features=8192, out_features=2, bias=True)\n",
       "  (dec1): Linear(in_features=102, out_features=8192, bias=True)\n",
       "  (dec2): ConvTranspose2d(512, 256, kernel_size=(3, 3), stride=(2, 2), padding=(1, 1), output_padding=(1, 1))\n",
       "  (dec3): ConvTranspose2d(256, 128, kernel_size=(3, 3), stride=(2, 2), padding=(1, 1), output_padding=(1, 1))\n",
       "  (dec4): ConvTranspose2d(128, 64, kernel_size=(3, 3), stride=(2, 2), padding=(1, 1), output_padding=(1, 1))\n",
       "  (dec5): ConvTranspose2d(64, 3, kernel_size=(3, 3), stride=(2, 2), padding=(1, 1), output_padding=(1, 1))\n",
       "  (dec_attn_block): Self_Attn(\n",
       "    (conv1x1_theta): Conv2d(256, 32, kernel_size=(1, 1), stride=(1, 1), bias=False)\n",
       "    (conv1x1_phi): Conv2d(256, 32, kernel_size=(1, 1), stride=(1, 1), bias=False)\n",
       "    (conv1x1_g): Conv2d(256, 128, kernel_size=(1, 1), stride=(1, 1), bias=False)\n",
       "    (conv1x1_attn): Conv2d(128, 256, kernel_size=(1, 1), stride=(1, 1), bias=False)\n",
       "    (maxpool): MaxPool2d(kernel_size=2, stride=2, padding=0, dilation=1, ceil_mode=False)\n",
       "    (softmax): Softmax(dim=-1)\n",
       "  )\n",
       "  (dec2b): ConditionalBatchNorm2d_for_skip_and_shared(\n",
       "    (bn): BatchNorm2d(256, eps=0.0001, momentum=0.1, affine=False, track_running_stats=True)\n",
       "    (gain): Linear(in_features=102, out_features=256, bias=False)\n",
       "    (bias): Linear(in_features=102, out_features=256, bias=False)\n",
       "  )\n",
       "  (dec3b): ConditionalBatchNorm2d_for_skip_and_shared(\n",
       "    (bn): BatchNorm2d(128, eps=0.0001, momentum=0.1, affine=False, track_running_stats=True)\n",
       "    (gain): Linear(in_features=102, out_features=128, bias=False)\n",
       "    (bias): Linear(in_features=102, out_features=128, bias=False)\n",
       "  )\n",
       "  (dec4b): ConditionalBatchNorm2d_for_skip_and_shared(\n",
       "    (bn): BatchNorm2d(64, eps=0.0001, momentum=0.1, affine=False, track_running_stats=True)\n",
       "    (gain): Linear(in_features=102, out_features=64, bias=False)\n",
       "    (bias): Linear(in_features=102, out_features=64, bias=False)\n",
       "  )\n",
       ")"
      ]
     },
     "execution_count": 2,
     "metadata": {},
     "output_type": "execute_result"
    }
   ],
   "source": [
    "from Model.CVAE_GAN_AdvancedV2 import CVAE\n",
    "from os.path import join\n",
    "#GPU\n",
    "device = 'cuda' if torch.cuda.is_available() else 'cpu'\n",
    "nz=100\n",
    "fsize=64\n",
    "cvae = CVAE(nz=nz,\n",
    "\t\t\t imSize=64,\n",
    "\t\t\t enc_self_attn=True,\n",
    "\t\t\t dec_self_attn=True,\n",
    "\t\t\t g_spectral_norm=False,\n",
    "\t\t\t CBN=True,\n",
    "\t\t\t fSize=fsize,\n",
    "\t\t\t device=device)\n",
    "cvae.to(device)\n",
    "cvae.load_params(modelDir=join(save_model_dir,attr_name))\n",
    "cvae.eval()"
   ]
  },
  {
   "cell_type": "code",
   "execution_count": 3,
   "metadata": {},
   "outputs": [
    {
     "name": "stderr",
     "output_type": "stream",
     "text": [
      "e:\\Project\\ZLTProgram\\CelebA\\Model\\CVAE_GAN_AdvancedV2.py:159: UserWarning: Implicit dimension choice for softmax has been deprecated. Change the call to include dim=X as an argument.\n",
      "  y = F.softmax(self.encY(x.detach()))\n"
     ]
    }
   ],
   "source": [
    "pics,y=next(iter(rawLoader))\n",
    "\n",
    "mu, log_var, _= cvae.encode(pics)\n",
    "z = cvae.re_param(mu, log_var)\n",
    "# 生成独热编码矩阵\n",
    "yRand = torch.eye(2)[torch.LongTensor(y.data.cpu().numpy())].type_as(z)\n",
    "yOnes = torch.eye(2)[torch.LongTensor(np.ones(y.size()).astype(int))].type_as(z)\n",
    "yZeros = torch.eye(2)[torch.LongTensor(np.zeros(y.size()).astype(int))].type_as(z)\n",
    "\n",
    "gen_pics=cvae.decode(y=yRand.to(device),z=z.to(device))\n",
    "gen_pics0=cvae.decode(y=yZeros.to(device),z=z.to(device))\n",
    "gen_pics1=cvae.decode(y=yOnes.to(device),z=z.to(device))\n",
    "\n",
    "recon_x,_,_,_=cvae(pics)\n",
    "\n",
    "drawCelebAImages(pics.detach().cpu().numpy(),\n",
    "                 y.cpu(),\n",
    "                 attr_name,\n",
    "                 \"E:\\Project\\ZLTProgram\\Images\\gen_test/real_image.png\",\n",
    "                 overwrite=True\n",
    "                 )\n",
    "\n",
    "drawCelebAImages(gen_pics.detach().cpu().numpy(),\n",
    "                 y.cpu(),\n",
    "                 attr_name,\n",
    "                 \"E:\\Project\\ZLTProgram\\Images\\gen_test/imgae_label.png\",\n",
    "                 overwrite=True\n",
    "                 )\n",
    "drawCelebAImages(gen_pics0.detach().cpu().numpy(),\n",
    "                 np.zeros(y.size()).astype(int),\n",
    "                 attr_name,\n",
    "                 \"E:\\Project\\ZLTProgram\\Images\\gen_test/negative.png\",\n",
    "                 overwrite=True\n",
    "                 )\n",
    "drawCelebAImages(gen_pics1.detach().cpu().numpy(),\n",
    "                 np.ones(y.size()).astype(int),\n",
    "                 attr_name,\n",
    "                 \"E:\\Project\\ZLTProgram\\Images\\gen_test/positive.png\",\n",
    "                 overwrite=True\n",
    "                 )\n",
    "drawCelebAImages(recon_x.detach().cpu().numpy(),\n",
    "                 y.cpu(),\n",
    "                 attr_name,\n",
    "                 \"E:\\Project\\ZLTProgram\\Images\\gen_test/recon_img.png\",\n",
    "                 overwrite=True\n",
    "                 )\n",
    "\n",
    "\n",
    "\n",
    "\n",
    "\n"
   ]
  },
  {
   "cell_type": "code",
   "execution_count": 13,
   "metadata": {},
   "outputs": [],
   "source": [
    "diff=recon_x.cpu()-gen_pics.cpu()\n",
    "\n",
    "drawCelebAImages(((diff - diff.min()) / (diff.max() - diff.min())).detach().cpu().numpy(),\n",
    "                 y.cpu(),\n",
    "                 attr_name,\n",
    "                 \"E:\\Project\\ZLTProgram\\Images\\gen_test/difference.png\",\n",
    "                 overwrite=True\n",
    "                 )\n"
   ]
  },
  {
   "cell_type": "code",
   "execution_count": 9,
   "metadata": {},
   "outputs": [
    {
     "name": "stderr",
     "output_type": "stream",
     "text": [
      "e:\\Project\\ZLTProgram\\CelebA\\Model\\CVAE_GAN_AdvancedV2.py:159: UserWarning: Implicit dimension choice for softmax has been deprecated. Change the call to include dim=X as an argument.\n",
      "  y = F.softmax(self.encY(x.detach()))\n"
     ]
    }
   ],
   "source": [
    "adv_pics,adv_y=next(iter(advLoader))\n",
    "\n",
    "mu, log_var, _= cvae.encode(adv_pics)\n",
    "z = cvae.re_param(mu, log_var)\n",
    "# 生成独热编码矩阵\n",
    "yRand = torch.eye(2)[torch.LongTensor(adv_y.data.cpu().numpy())].type_as(z)\n",
    "yOnes = torch.eye(2)[torch.LongTensor(np.ones(adv_y.size()).astype(int))].type_as(z)\n",
    "yZeros = torch.eye(2)[torch.LongTensor(np.zeros(adv_y.size()).astype(int))].type_as(z)\n",
    "\n",
    "adv_gen_pics=cvae.decode(y=yRand.to(device),z=z.to(device))\n",
    "adv_gen_pics0=cvae.decode(y=yZeros.to(device),z=z.to(device))\n",
    "adv_gen_pics1=cvae.decode(y=yOnes.to(device),z=z.to(device))\n",
    "\n",
    "adv_recon_x,_,_,_=cvae(adv_pics)\n",
    "\n",
    "drawCelebAImages(adv_pics.detach().cpu().numpy(),\n",
    "                 adv_y.cpu(),\n",
    "                 attr_name,\n",
    "                 \"E:\\Project\\ZLTProgram\\Images\\gen_test/real_image_adv.png\",\n",
    "                 overwrite=True\n",
    "                 )\n",
    "\n",
    "drawCelebAImages(adv_gen_pics.detach().cpu().numpy(),\n",
    "                 adv_y.cpu(),\n",
    "                 attr_name,\n",
    "                 \"E:\\Project\\ZLTProgram\\Images\\gen_test/imgae_label_adv.png\",\n",
    "                 overwrite=True\n",
    "                 )\n",
    "drawCelebAImages(adv_gen_pics0.detach().cpu().numpy(),\n",
    "                 np.zeros(y.size()).astype(int),\n",
    "                 attr_name,\n",
    "                 \"E:\\Project\\ZLTProgram\\Images\\gen_test/negative_adv.png\",\n",
    "                 overwrite=True\n",
    "                 )\n",
    "drawCelebAImages(adv_gen_pics1.detach().cpu().numpy(),\n",
    "                 np.ones(y.size()).astype(int),\n",
    "                 attr_name,\n",
    "                 \"E:\\Project\\ZLTProgram\\Images\\gen_test/positive_adv.png\",\n",
    "                 overwrite=True\n",
    "                 )\n",
    "drawCelebAImages(adv_recon_x.detach().cpu().numpy(),\n",
    "                 y.cpu(),\n",
    "                 attr_name,\n",
    "                 \"E:\\Project\\ZLTProgram\\Images\\gen_test/recon_img_adv.png\",\n",
    "                 overwrite=True\n",
    "                 )\n",
    "\n"
   ]
  },
  {
   "cell_type": "code",
   "execution_count": 12,
   "metadata": {},
   "outputs": [],
   "source": [
    "diff=adv_recon_x.cpu()-adv_gen_pics.cpu()\n",
    "drawCelebAImages(((diff - diff.min()) / (diff.max() - diff.min())).detach().cpu().numpy(),\n",
    "                 y.cpu(),\n",
    "                 attr_name,\n",
    "                 \"E:\\Project\\ZLTProgram\\Images\\gen_test/difference_adv.png\",\n",
    "                 overwrite=True\n",
    "                 )\n"
   ]
  },
  {
   "cell_type": "code",
   "execution_count": null,
   "metadata": {},
   "outputs": [],
   "source": []
  }
 ],
 "metadata": {
  "kernelspec": {
   "display_name": "AdversarialSampleDetection",
   "language": "python",
   "name": "python3"
  },
  "language_info": {
   "codemirror_mode": {
    "name": "ipython",
    "version": 3
   },
   "file_extension": ".py",
   "mimetype": "text/x-python",
   "name": "python",
   "nbconvert_exporter": "python",
   "pygments_lexer": "ipython3",
   "version": "3.9.18"
  }
 },
 "nbformat": 4,
 "nbformat_minor": 2
}
