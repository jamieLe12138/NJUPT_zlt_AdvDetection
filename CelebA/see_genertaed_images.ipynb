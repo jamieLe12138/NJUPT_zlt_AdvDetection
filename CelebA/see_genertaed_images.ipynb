{
 "cells": [
  {
   "cell_type": "code",
   "execution_count": 1,
   "metadata": {},
   "outputs": [
    {
     "name": "stdout",
     "output_type": "stream",
     "text": [
      "31\n",
      "Load Test dataset: 60780\n"
     ]
    }
   ],
   "source": [
    "import sys\n",
    "sys.path.append(\"E:/Project/ZLTProgram/CelebA\")\n",
    "from Utils.dataload import CELEBA,drawCelebAImages\n",
    "from torchvision import transforms\n",
    "import torch\n",
    "from Model.function import sample_z\n",
    "import numpy as np\n",
    "# 数据集存储目录\n",
    "root='E:/Project/ModelAndDataset/data'\n",
    "attr_name='Smiling'\n",
    "batch_size=64\n",
    "# 模型参数存放目录\n",
    "save_model_dir='E:/Project/ModelAndDataset/model/CelebA/cVAE_GAN'\n",
    "testDataset = CELEBA(root=root, train=False,train_ratio=0.7 ,transform=transforms.ToTensor(),label=attr_name)\n",
    "testLoader = torch.utils.data.DataLoader(testDataset, batch_size=batch_size, shuffle=False)"
   ]
  },
  {
   "cell_type": "code",
   "execution_count": 2,
   "metadata": {},
   "outputs": [
    {
     "name": "stdout",
     "output_type": "stream",
     "text": [
      "loading params...\n"
     ]
    }
   ],
   "source": [
    "from Model.CVAE_GAN_Advanced import CVAE\n",
    "from os.path import join\n",
    "#GPU\n",
    "device = 'cuda' if torch.cuda.is_available() else 'cpu'\n",
    "nz=100\n",
    "fsize=64\n",
    "cvae = CVAE(nz=nz, imSize=64,self_attn=True,CBN=True,fSize=fsize,device=device)\n",
    "cvae.to(device)\n",
    "cvae.load_params(modelDir=join(save_model_dir,attr_name))"
   ]
  },
  {
   "cell_type": "code",
   "execution_count": 3,
   "metadata": {},
   "outputs": [
    {
     "name": "stderr",
     "output_type": "stream",
     "text": [
      "e:\\Project\\ZLTProgram\\CelebA\\Model\\CVAE_GAN_Advanced.py:139: UserWarning: Implicit dimension choice for softmax has been deprecated. Change the call to include dim=X as an argument.\n",
      "  y = F.softmax(self.encY(x.detach()))\n"
     ]
    },
    {
     "name": "stdout",
     "output_type": "stream",
     "text": [
      "Image E:\\Project\\ZLTProgram\\Images\\gen_test/imgae_label.png exists.\n",
      "Image E:\\Project\\ZLTProgram\\Images\\gen_test/imgae_label.png exists.\n",
      "Image E:\\Project\\ZLTProgram\\Images\\gen_test/negative.png exists.\n",
      "Image E:\\Project\\ZLTProgram\\Images\\gen_test/positive.png exists.\n",
      "Image E:\\Project\\ZLTProgram\\Images\\gen_test/recon_img.png exists.\n"
     ]
    },
    {
     "name": "stderr",
     "output_type": "stream",
     "text": [
      "Clipping input data to the valid range for imshow with RGB data ([0..1] for floats or [0..255] for integers).\n",
      "Clipping input data to the valid range for imshow with RGB data ([0..1] for floats or [0..255] for integers).\n",
      "Clipping input data to the valid range for imshow with RGB data ([0..1] for floats or [0..255] for integers).\n",
      "Clipping input data to the valid range for imshow with RGB data ([0..1] for floats or [0..255] for integers).\n",
      "Clipping input data to the valid range for imshow with RGB data ([0..1] for floats or [0..255] for integers).\n",
      "Clipping input data to the valid range for imshow with RGB data ([0..1] for floats or [0..255] for integers).\n",
      "Clipping input data to the valid range for imshow with RGB data ([0..1] for floats or [0..255] for integers).\n",
      "Clipping input data to the valid range for imshow with RGB data ([0..1] for floats or [0..255] for integers).\n",
      "Clipping input data to the valid range for imshow with RGB data ([0..1] for floats or [0..255] for integers).\n",
      "Clipping input data to the valid range for imshow with RGB data ([0..1] for floats or [0..255] for integers).\n",
      "Clipping input data to the valid range for imshow with RGB data ([0..1] for floats or [0..255] for integers).\n",
      "Clipping input data to the valid range for imshow with RGB data ([0..1] for floats or [0..255] for integers).\n",
      "Clipping input data to the valid range for imshow with RGB data ([0..1] for floats or [0..255] for integers).\n",
      "Clipping input data to the valid range for imshow with RGB data ([0..1] for floats or [0..255] for integers).\n",
      "Clipping input data to the valid range for imshow with RGB data ([0..1] for floats or [0..255] for integers).\n",
      "Clipping input data to the valid range for imshow with RGB data ([0..1] for floats or [0..255] for integers).\n",
      "Clipping input data to the valid range for imshow with RGB data ([0..1] for floats or [0..255] for integers).\n",
      "Clipping input data to the valid range for imshow with RGB data ([0..1] for floats or [0..255] for integers).\n",
      "Clipping input data to the valid range for imshow with RGB data ([0..1] for floats or [0..255] for integers).\n",
      "Clipping input data to the valid range for imshow with RGB data ([0..1] for floats or [0..255] for integers).\n",
      "Clipping input data to the valid range for imshow with RGB data ([0..1] for floats or [0..255] for integers).\n",
      "Clipping input data to the valid range for imshow with RGB data ([0..1] for floats or [0..255] for integers).\n",
      "Clipping input data to the valid range for imshow with RGB data ([0..1] for floats or [0..255] for integers).\n",
      "Clipping input data to the valid range for imshow with RGB data ([0..1] for floats or [0..255] for integers).\n",
      "Clipping input data to the valid range for imshow with RGB data ([0..1] for floats or [0..255] for integers).\n",
      "Clipping input data to the valid range for imshow with RGB data ([0..1] for floats or [0..255] for integers).\n",
      "Clipping input data to the valid range for imshow with RGB data ([0..1] for floats or [0..255] for integers).\n",
      "Clipping input data to the valid range for imshow with RGB data ([0..1] for floats or [0..255] for integers).\n",
      "Clipping input data to the valid range for imshow with RGB data ([0..1] for floats or [0..255] for integers).\n",
      "Clipping input data to the valid range for imshow with RGB data ([0..1] for floats or [0..255] for integers).\n",
      "Clipping input data to the valid range for imshow with RGB data ([0..1] for floats or [0..255] for integers).\n",
      "Clipping input data to the valid range for imshow with RGB data ([0..1] for floats or [0..255] for integers).\n",
      "Clipping input data to the valid range for imshow with RGB data ([0..1] for floats or [0..255] for integers).\n",
      "Clipping input data to the valid range for imshow with RGB data ([0..1] for floats or [0..255] for integers).\n",
      "Clipping input data to the valid range for imshow with RGB data ([0..1] for floats or [0..255] for integers).\n",
      "Clipping input data to the valid range for imshow with RGB data ([0..1] for floats or [0..255] for integers).\n",
      "Clipping input data to the valid range for imshow with RGB data ([0..1] for floats or [0..255] for integers).\n",
      "Clipping input data to the valid range for imshow with RGB data ([0..1] for floats or [0..255] for integers).\n",
      "Clipping input data to the valid range for imshow with RGB data ([0..1] for floats or [0..255] for integers).\n",
      "Clipping input data to the valid range for imshow with RGB data ([0..1] for floats or [0..255] for integers).\n",
      "Clipping input data to the valid range for imshow with RGB data ([0..1] for floats or [0..255] for integers).\n",
      "Clipping input data to the valid range for imshow with RGB data ([0..1] for floats or [0..255] for integers).\n",
      "Clipping input data to the valid range for imshow with RGB data ([0..1] for floats or [0..255] for integers).\n",
      "Clipping input data to the valid range for imshow with RGB data ([0..1] for floats or [0..255] for integers).\n",
      "Clipping input data to the valid range for imshow with RGB data ([0..1] for floats or [0..255] for integers).\n",
      "Clipping input data to the valid range for imshow with RGB data ([0..1] for floats or [0..255] for integers).\n",
      "Clipping input data to the valid range for imshow with RGB data ([0..1] for floats or [0..255] for integers).\n",
      "Clipping input data to the valid range for imshow with RGB data ([0..1] for floats or [0..255] for integers).\n",
      "Clipping input data to the valid range for imshow with RGB data ([0..1] for floats or [0..255] for integers).\n",
      "Clipping input data to the valid range for imshow with RGB data ([0..1] for floats or [0..255] for integers).\n",
      "Clipping input data to the valid range for imshow with RGB data ([0..1] for floats or [0..255] for integers).\n",
      "Clipping input data to the valid range for imshow with RGB data ([0..1] for floats or [0..255] for integers).\n",
      "Clipping input data to the valid range for imshow with RGB data ([0..1] for floats or [0..255] for integers).\n",
      "Clipping input data to the valid range for imshow with RGB data ([0..1] for floats or [0..255] for integers).\n",
      "Clipping input data to the valid range for imshow with RGB data ([0..1] for floats or [0..255] for integers).\n",
      "Clipping input data to the valid range for imshow with RGB data ([0..1] for floats or [0..255] for integers).\n",
      "Clipping input data to the valid range for imshow with RGB data ([0..1] for floats or [0..255] for integers).\n",
      "Clipping input data to the valid range for imshow with RGB data ([0..1] for floats or [0..255] for integers).\n",
      "Clipping input data to the valid range for imshow with RGB data ([0..1] for floats or [0..255] for integers).\n",
      "Clipping input data to the valid range for imshow with RGB data ([0..1] for floats or [0..255] for integers).\n",
      "Clipping input data to the valid range for imshow with RGB data ([0..1] for floats or [0..255] for integers).\n",
      "Clipping input data to the valid range for imshow with RGB data ([0..1] for floats or [0..255] for integers).\n",
      "Clipping input data to the valid range for imshow with RGB data ([0..1] for floats or [0..255] for integers).\n",
      "Clipping input data to the valid range for imshow with RGB data ([0..1] for floats or [0..255] for integers).\n"
     ]
    }
   ],
   "source": [
    "pics,y=next(iter(testLoader))\n",
    "\n",
    "mu, log_var, _= cvae.encode(pics)\n",
    "z = cvae.re_param(mu, log_var)\n",
    "# 生成独热编码矩阵\n",
    "yRand = torch.eye(2)[torch.LongTensor(y.data.cpu().numpy())].type_as(z)\n",
    "yOnes = torch.eye(2)[torch.LongTensor(np.ones(y.size()).astype(int))].type_as(z)\n",
    "yZeros = torch.eye(2)[torch.LongTensor(np.zeros(y.size()).astype(int))].type_as(z)\n",
    "\n",
    "gen_pics=cvae.decode(y=yRand.to(device),z=z.to(device))\n",
    "gen_pics0=cvae.decode(y=yZeros.to(device),z=z.to(device))\n",
    "gen_pics1=cvae.decode(y=yOnes.to(device),z=z.to(device))\n",
    "\n",
    "recon_x,_,_,_=cvae(pics)\n",
    "\n",
    "drawCelebAImages(pics.detach().cpu().numpy(),\n",
    "                 y.cpu(),\n",
    "                 attr_name,\n",
    "                 \"E:\\Project\\ZLTProgram\\Images\\gen_test/real_image.png\",\n",
    "                 )\n",
    "\n",
    "drawCelebAImages(gen_pics.detach().cpu().numpy(),\n",
    "                 y.cpu(),\n",
    "                 attr_name,\n",
    "                 \"E:\\Project\\ZLTProgram\\Images\\gen_test/imgae_label.png\",\n",
    "                 )\n",
    "drawCelebAImages(gen_pics.detach().cpu().numpy(),\n",
    "                 y.cpu(),\n",
    "                 attr_name,\n",
    "                 \"E:\\Project\\ZLTProgram\\Images\\gen_test/imgae_label.png\",\n",
    "                 )\n",
    "drawCelebAImages(gen_pics0.detach().cpu().numpy(),\n",
    "                 np.zeros(y.size()).astype(int),\n",
    "                 attr_name,\n",
    "                 \"E:\\Project\\ZLTProgram\\Images\\gen_test/negative.png\",\n",
    "                 )\n",
    "drawCelebAImages(gen_pics1.detach().cpu().numpy(),\n",
    "                 np.ones(y.size()).astype(int),\n",
    "                 attr_name,\n",
    "                 \"E:\\Project\\ZLTProgram\\Images\\gen_test/positive.png\",\n",
    "                 )\n",
    "drawCelebAImages(recon_x.detach().cpu().numpy(),\n",
    "                 y.cpu(),\n",
    "                 attr_name,\n",
    "                 \"E:\\Project\\ZLTProgram\\Images\\gen_test/recon_img.png\",\n",
    "                 )\n",
    "drawCelebAImages((gen_pics1-gen_pics0).detach().cpu().numpy(),\n",
    "                 y.cpu(),\n",
    "                 attr_name,\n",
    "                 \"E:\\Project\\ZLTProgram\\Images\\gen_test/difference.png\",\n",
    "                 )\n",
    "\n",
    "\n",
    "\n",
    "\n"
   ]
  }
 ],
 "metadata": {
  "kernelspec": {
   "display_name": "AdversarialSampleDetection",
   "language": "python",
   "name": "python3"
  },
  "language_info": {
   "codemirror_mode": {
    "name": "ipython",
    "version": 3
   },
   "file_extension": ".py",
   "mimetype": "text/x-python",
   "name": "python",
   "nbconvert_exporter": "python",
   "pygments_lexer": "ipython3",
   "version": "3.9.18"
  }
 },
 "nbformat": 4,
 "nbformat_minor": 2
}
