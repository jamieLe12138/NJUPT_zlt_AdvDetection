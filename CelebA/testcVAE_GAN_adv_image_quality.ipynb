{
 "cells": [
  {
   "cell_type": "code",
   "execution_count": 1,
   "metadata": {},
   "outputs": [],
   "source": [
    "import sys\n",
    "sys.path.append(\"E:/Project/ZLTProgram/CelebA\")\n",
    "from Utils.InceptionV3 import InceptionV3\n",
    "from Utils.dataload import CELEBA,CELEBA_GEN,CELEBA_Attack\n",
    "from torchvision import transforms\n",
    "import torch\n",
    "root='E:/Project/ModelAndDataset/data'\n",
    "attr_name='Smiling'\n",
    "device = 'cuda' if torch.cuda.is_available() else 'cpu'\n",
    "model=InceptionV3()\n",
    "model=model.to(device)\n"
   ]
  },
  {
   "cell_type": "code",
   "execution_count": 2,
   "metadata": {},
   "outputs": [
    {
     "name": "stdout",
     "output_type": "stream",
     "text": [
      "Load images from: E:\\Project\\ModelAndDataset\\data\\celebA\\Gen\\GEN_RAW/real\\Smiling_image.npy\n",
      "Load labels from: E:\\Project\\ModelAndDataset\\data\\celebA\\Gen\\GEN_RAW/real\\Smiling_label.npy\n",
      "Load images from: E:\\Project\\ModelAndDataset\\data\\celebA\\Gen\\GEN_ADV/real\\Smiling_image.npy\n",
      "Load labels from: E:\\Project\\ModelAndDataset\\data\\celebA\\Gen\\GEN_ADV/real\\Smiling_label.npy\n",
      "Load images from: E:\\Project\\ModelAndDataset\\data\\celebA\\Gen\\GEN_RAW\\cVAEGAN_Advanced\\Smiling_image.npy\n",
      "Load labels from: E:\\Project\\ModelAndDataset\\data\\celebA\\Gen\\GEN_RAW\\cVAEGAN_Advanced\\Smiling_label.npy\n",
      "Load images from: E:\\Project\\ModelAndDataset\\data\\celebA\\Gen\\GEN_ADV\\cVAEGAN_Advanced\\Smiling_image.npy\n",
      "Load labels from: E:\\Project\\ModelAndDataset\\data\\celebA\\Gen\\GEN_ADV\\cVAEGAN_Advanced\\Smiling_label.npy\n"
     ]
    }
   ],
   "source": [
    "rawDataset=CELEBA_GEN(root=\"E:\\Project\\ModelAndDataset\\data\\celebA\\Gen\\GEN_RAW/real\",\n",
    "                        attr_name='Smiling',\n",
    "                        transform=transforms.ToTensor()\n",
    "                        )\n",
    "rawLoader=torch.utils.data.DataLoader(rawDataset,batch_size=64,shuffle=False)\n",
    "advDataset=CELEBA_GEN(root=\"E:\\Project\\ModelAndDataset\\data\\celebA\\Gen\\GEN_ADV/real\",\n",
    "                        attr_name='Smiling',\n",
    "                        transform=transforms.ToTensor()\n",
    "                        )\n",
    "advLoader=torch.utils.data.DataLoader(advDataset,batch_size=64,shuffle=False)\n",
    "genDataset1 = CELEBA_GEN(root=\"E:\\Project\\ModelAndDataset\\data\\celebA\\Gen\\GEN_RAW\\cVAEGAN_Advanced\",\n",
    "                        attr_name='Smiling',\n",
    "                        transform=transforms.ToTensor()\n",
    "                        )\n",
    "genLoader1 = torch.utils.data.DataLoader(genDataset1,batch_size=64,shuffle=False)\n",
    "genDataset2 = CELEBA_GEN(root=\"E:\\Project\\ModelAndDataset\\data\\celebA\\Gen\\GEN_ADV\\cVAEGAN_Advanced\",\n",
    "                        attr_name='Smiling',\n",
    "                        transform=transforms.ToTensor()\n",
    "                        )\n",
    "genLoader2 = torch.utils.data.DataLoader(genDataset2,batch_size=64,shuffle=False)\n"
   ]
  },
  {
   "cell_type": "code",
   "execution_count": 3,
   "metadata": {},
   "outputs": [],
   "source": [
    "from Utils.EvaluatingTools import calculate_fid,calculate_ssim,calculate_l2_distance,DrawEvaluteResult\n",
    "# fid1=calculate_fid(raw_dataloader=genLoader1,\n",
    "#                 gen_dataloader=genLoader2,\n",
    "#                 model=model,\n",
    "#                 batch_nums=25,\n",
    "#                 batch_size=64,\n",
    "#                 device=device,\n",
    "#                 dims=2048\n",
    "#                 )\n",
    "# print(\"fid:\",fid1)"
   ]
  },
  {
   "cell_type": "code",
   "execution_count": 4,
   "metadata": {},
   "outputs": [],
   "source": [
    "# fid2=calculate_fid(raw_dataloader=genLoader1,\n",
    "#                 gen_dataloader=genLoader2,\n",
    "#                 model=model,\n",
    "#                 batch_nums=25,\n",
    "#                 batch_size=64,\n",
    "#                 device=device,\n",
    "#                 dims=2048\n",
    "#                 )\n",
    "# print(\"fid\",fid2)"
   ]
  },
  {
   "cell_type": "code",
   "execution_count": 5,
   "metadata": {},
   "outputs": [],
   "source": [
    "ssim1=calculate_ssim(raw_dataloader=rawLoader,\n",
    "                     gen_dataloader=genLoader1,\n",
    "                     batch_nums=25\n",
    "                     )"
   ]
  },
  {
   "cell_type": "code",
   "execution_count": 6,
   "metadata": {},
   "outputs": [],
   "source": [
    "ssim2=calculate_ssim(raw_dataloader=advLoader,\n",
    "                     gen_dataloader=genLoader2,\n",
    "                     batch_nums=25\n",
    "                     )"
   ]
  },
  {
   "cell_type": "code",
   "execution_count": 7,
   "metadata": {},
   "outputs": [],
   "source": [
    "l2_distance1=calculate_l2_distance(raw_dataloader=rawLoader,\n",
    "                                    gen_dataloader=genLoader1,\n",
    "                                    batch_nums=25\n",
    "                                    )"
   ]
  },
  {
   "cell_type": "code",
   "execution_count": 8,
   "metadata": {},
   "outputs": [],
   "source": [
    "l2_distance2=calculate_l2_distance(raw_dataloader=advLoader,\n",
    "                                    gen_dataloader=genLoader2,\n",
    "                                    batch_nums=25\n",
    "                                    )"
   ]
  },
  {
   "cell_type": "code",
   "execution_count": 9,
   "metadata": {},
   "outputs": [
    {
     "data": {
      "text/plain": [
       "1582"
      ]
     },
     "execution_count": 9,
     "metadata": {},
     "output_type": "execute_result"
    }
   ],
   "source": [
    "count=0\n",
    "for i in range(len(ssim1)):\n",
    "    if ssim1[i]>ssim2[i]:\n",
    "        count+=1\n",
    "count"
   ]
  },
  {
   "cell_type": "code",
   "execution_count": 10,
   "metadata": {},
   "outputs": [
    {
     "data": {
      "text/plain": [
       "1494"
      ]
     },
     "execution_count": 10,
     "metadata": {},
     "output_type": "execute_result"
    }
   ],
   "source": [
    "count=0\n",
    "for i in range(len(l2_distance1)):\n",
    "    if l2_distance1[i]<l2_distance2[i]:\n",
    "        count+=1\n",
    "count"
   ]
  },
  {
   "cell_type": "code",
   "execution_count": 11,
   "metadata": {},
   "outputs": [],
   "source": [
    "from matplotlib import pyplot as plt\n",
    "import matplotlib\n",
    "matplotlib.use('TkAgg')\n",
    "fig_ssim=DrawEvaluteResult(ssim1,\"raw\",ssim2,\"adv\",\"SSIM\",\"number\",\"ssim_value\")\n",
    "plt.show()"
   ]
  },
  {
   "cell_type": "code",
   "execution_count": 12,
   "metadata": {},
   "outputs": [],
   "source": [
    "fig_l2=DrawEvaluteResult(l2_distance1,\"raw\",l2_distance2,\"adv\",\"L2_distance\",\"number\",\"l2_distance\")\n",
    "plt.show()"
   ]
  }
 ],
 "metadata": {
  "kernelspec": {
   "display_name": "AdversarialSampleDetection",
   "language": "python",
   "name": "python3"
  },
  "language_info": {
   "codemirror_mode": {
    "name": "ipython",
    "version": 3
   },
   "file_extension": ".py",
   "mimetype": "text/x-python",
   "name": "python",
   "nbconvert_exporter": "python",
   "pygments_lexer": "ipython3",
   "version": "3.9.18"
  }
 },
 "nbformat": 4,
 "nbformat_minor": 2
}
