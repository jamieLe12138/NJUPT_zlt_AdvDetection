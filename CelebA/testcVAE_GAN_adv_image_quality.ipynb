{
 "cells": [
  {
   "cell_type": "code",
   "execution_count": 1,
   "metadata": {},
   "outputs": [],
   "source": [
    "import sys\n",
    "sys.path.append(\"E:/Project/ZLTProgram/CelebA\")\n",
    "from Utils.InceptionV3 import InceptionV3\n",
    "from Utils.dataload import CELEBA,CELEBA_GEN,CELEBA_Attack\n",
    "from torchvision import transforms\n",
    "import torch\n",
    "root='E:/Project/ModelAndDataset/data'\n",
    "attr_name='Smiling'\n",
    "device = 'cuda' if torch.cuda.is_available() else 'cpu'\n",
    "model=InceptionV3()\n",
    "model=model.to(device)\n"
   ]
  },
  {
   "cell_type": "code",
   "execution_count": 2,
   "metadata": {},
   "outputs": [
    {
     "name": "stdout",
     "output_type": "stream",
     "text": [
      "Load images from: E:/Project/ModelAndDataset/data/celebA/Attack/RawImage_FastGradientMethod_ResNet18_Smiling.npy\n",
      "Load labels from: E:/Project/ModelAndDataset/data/celebA/Attack/RawLabel_FastGradientMethod_ResNet18_Smiling.npy\n",
      "Load images from: E:/Project/ModelAndDataset/data/celebA/Attack/AdvImage_FastGradientMethod_ResNet18_Smiling.npy\n",
      "Load labels from: E:/Project/ModelAndDataset/data/celebA/Attack/AdvLabel_FastGradientMethod_ResNet18_Smiling.npy\n",
      "Load images from: E:\\Project\\ModelAndDataset\\data\\celebA\\Gen\\GEN_RAW\\cVAEGAN_Advanced\\Smiling_image.npy\n",
      "Load labels from: E:\\Project\\ModelAndDataset\\data\\celebA\\Gen\\GEN_RAW\\cVAEGAN_Advanced\\Smiling_label.npy\n",
      "Load images from: E:\\Project\\ModelAndDataset\\data\\celebA\\Gen\\GEN_ADV\\cVAEGAN_Advanced\\Smiling_image.npy\n",
      "Load labels from: E:\\Project\\ModelAndDataset\\data\\celebA\\Gen\\GEN_ADV\\cVAEGAN_Advanced\\Smiling_label.npy\n"
     ]
    }
   ],
   "source": [
    "transform = transforms.Compose([transforms.ToTensor()])\n",
    "# realDataset=CELEBA_GEN(root=\"E:/Project/ModelAndDataset/data/celebA/Gen/real\",\n",
    "#                         attr_name='Smiling',\n",
    "#                         transform=transform\n",
    "#                         )\n",
    "rawDataset=CELEBA_Attack(root=\"E:/Project/ModelAndDataset/data/celebA/Attack\",\n",
    "                        adv=False,\n",
    "                        attackMethod=\"FastGradientMethod\",\n",
    "                        model='ResNet18',\n",
    "                        label='Smiling',\n",
    "                        transform=transforms.ToTensor()\n",
    "                        )\n",
    "rawLoader=torch.utils.data.DataLoader(rawDataset,batch_size=64,shuffle=False)\n",
    "advDataset=CELEBA_Attack(root=\"E:/Project/ModelAndDataset/data/celebA/Attack\",\n",
    "                        adv=True,\n",
    "                        attackMethod=\"FastGradientMethod\",\n",
    "                        model='ResNet18',\n",
    "                        label='Smiling',\n",
    "                        transform=transforms.ToTensor()\n",
    "                        )\n",
    "advLoader=torch.utils.data.DataLoader(advDataset,batch_size=64,shuffle=False)\n",
    "genDataset1 = CELEBA_GEN(root=\"E:\\Project\\ModelAndDataset\\data\\celebA\\Gen\\GEN_RAW\\cVAEGAN_Advanced\",\n",
    "                        attr_name='Smiling',\n",
    "                        transform=transform\n",
    "                        )\n",
    "genLoader1 = torch.utils.data.DataLoader(genDataset1,batch_size=64,shuffle=False)\n",
    "genDataset2 = CELEBA_GEN(root=\"E:\\Project\\ModelAndDataset\\data\\celebA\\Gen\\GEN_ADV\\cVAEGAN_Advanced\",\n",
    "                        attr_name='Smiling',\n",
    "                        transform=transform\n",
    "                        )\n",
    "genLoader2 = torch.utils.data.DataLoader(genDataset2,batch_size=64,shuffle=False)\n"
   ]
  },
  {
   "cell_type": "code",
   "execution_count": 3,
   "metadata": {},
   "outputs": [
    {
     "ename": "ModuleNotFoundError",
     "evalue": "No module named 'EvaluatingTools'",
     "output_type": "error",
     "traceback": [
      "\u001b[1;31m---------------------------------------------------------------------------\u001b[0m",
      "\u001b[1;31mModuleNotFoundError\u001b[0m                       Traceback (most recent call last)",
      "\u001b[1;32me:\\Project\\ZLTProgram\\CelebA\\testcVAE_GAN_adv_image_quality.ipynb Cell 3\u001b[0m line \u001b[0;36m1\n\u001b[1;32m----> <a href='vscode-notebook-cell:/e%3A/Project/ZLTProgram/CelebA/testcVAE_GAN_adv_image_quality.ipynb#W2sZmlsZQ%3D%3D?line=0'>1</a>\u001b[0m \u001b[39mfrom\u001b[39;00m \u001b[39mEvaluatingTools\u001b[39;00m \u001b[39mimport\u001b[39;00m calculate_fid,calculate_ssim,calculate_l2_distance,DrawEvaluteResult\n\u001b[0;32m      <a href='vscode-notebook-cell:/e%3A/Project/ZLTProgram/CelebA/testcVAE_GAN_adv_image_quality.ipynb#W2sZmlsZQ%3D%3D?line=1'>2</a>\u001b[0m \u001b[39m# fid1=calculate_fid(raw_dataloader=genLoader1,\u001b[39;00m\n\u001b[0;32m      <a href='vscode-notebook-cell:/e%3A/Project/ZLTProgram/CelebA/testcVAE_GAN_adv_image_quality.ipynb#W2sZmlsZQ%3D%3D?line=2'>3</a>\u001b[0m \u001b[39m#                 gen_dataloader=genLoader2,\u001b[39;00m\n\u001b[0;32m      <a href='vscode-notebook-cell:/e%3A/Project/ZLTProgram/CelebA/testcVAE_GAN_adv_image_quality.ipynb#W2sZmlsZQ%3D%3D?line=3'>4</a>\u001b[0m \u001b[39m#                 model=model,\u001b[39;00m\n\u001b[1;32m   (...)\u001b[0m\n\u001b[0;32m      <a href='vscode-notebook-cell:/e%3A/Project/ZLTProgram/CelebA/testcVAE_GAN_adv_image_quality.ipynb#W2sZmlsZQ%3D%3D?line=8'>9</a>\u001b[0m \u001b[39m#                 )\u001b[39;00m\n\u001b[0;32m     <a href='vscode-notebook-cell:/e%3A/Project/ZLTProgram/CelebA/testcVAE_GAN_adv_image_quality.ipynb#W2sZmlsZQ%3D%3D?line=9'>10</a>\u001b[0m \u001b[39m# print(\"fid:\",fid1)\u001b[39;00m\n",
      "\u001b[1;31mModuleNotFoundError\u001b[0m: No module named 'EvaluatingTools'"
     ]
    }
   ],
   "source": [
    "from Utils.EvaluatingTools import calculate_fid,calculate_ssim,calculate_l2_distance,DrawEvaluteResult\n",
    "# fid1=calculate_fid(raw_dataloader=genLoader1,\n",
    "#                 gen_dataloader=genLoader2,\n",
    "#                 model=model,\n",
    "#                 batch_nums=25,\n",
    "#                 batch_size=64,\n",
    "#                 device=device,\n",
    "#                 dims=2048\n",
    "#                 )\n",
    "# print(\"fid:\",fid1)"
   ]
  },
  {
   "cell_type": "code",
   "execution_count": null,
   "metadata": {},
   "outputs": [],
   "source": [
    "# fid2=calculate_fid(raw_dataloader=genLoader1,\n",
    "#                 gen_dataloader=genLoader2,\n",
    "#                 model=model,\n",
    "#                 batch_nums=25,\n",
    "#                 batch_size=64,\n",
    "#                 device=device,\n",
    "#                 dims=2048\n",
    "#                 )\n",
    "# print(\"fid\",fid2)"
   ]
  },
  {
   "cell_type": "code",
   "execution_count": null,
   "metadata": {},
   "outputs": [],
   "source": [
    "ssim1=calculate_ssim(raw_dataloader=rawLoader,\n",
    "                     gen_dataloader=genLoader1,\n",
    "                     batch_nums=25\n",
    "                     )"
   ]
  },
  {
   "cell_type": "code",
   "execution_count": null,
   "metadata": {},
   "outputs": [],
   "source": [
    "ssim2=calculate_ssim(raw_dataloader=advLoader,\n",
    "                     gen_dataloader=genLoader2,\n",
    "                     batch_nums=25\n",
    "                     )"
   ]
  },
  {
   "cell_type": "code",
   "execution_count": null,
   "metadata": {},
   "outputs": [],
   "source": [
    "l2_distance1=calculate_l2_distance(raw_dataloader=rawLoader,\n",
    "                                    gen_dataloader=genLoader1,\n",
    "                                    batch_nums=25\n",
    "                                    )"
   ]
  },
  {
   "cell_type": "code",
   "execution_count": null,
   "metadata": {},
   "outputs": [],
   "source": [
    "l2_distance2=calculate_l2_distance(raw_dataloader=advLoader,\n",
    "                                    gen_dataloader=genLoader2,\n",
    "                                    batch_nums=25\n",
    "                                    )"
   ]
  },
  {
   "cell_type": "code",
   "execution_count": null,
   "metadata": {},
   "outputs": [
    {
     "data": {
      "text/plain": [
       "1600"
      ]
     },
     "execution_count": 14,
     "metadata": {},
     "output_type": "execute_result"
    }
   ],
   "source": [
    "count=0\n",
    "for i in range(len(ssim1)):\n",
    "    if ssim1[i]>ssim2[i]:\n",
    "        count+=1\n",
    "count"
   ]
  },
  {
   "cell_type": "code",
   "execution_count": null,
   "metadata": {},
   "outputs": [
    {
     "data": {
      "text/plain": [
       "1595"
      ]
     },
     "execution_count": 15,
     "metadata": {},
     "output_type": "execute_result"
    }
   ],
   "source": [
    "count=0\n",
    "for i in range(len(l2_distance1)):\n",
    "    if l2_distance1[i]<l2_distance2[i]:\n",
    "        count+=1\n",
    "count"
   ]
  },
  {
   "cell_type": "code",
   "execution_count": null,
   "metadata": {},
   "outputs": [],
   "source": [
    "from matplotlib import pyplot as plt\n",
    "import matplotlib\n",
    "matplotlib.use('TkAgg')\n",
    "fig_ssim=DrawEvaluteResult(ssim1,\"raw\",ssim2,\"adv\",\"SSIM\",\"number\",\"ssim_value\")\n",
    "plt.show()"
   ]
  },
  {
   "cell_type": "code",
   "execution_count": null,
   "metadata": {},
   "outputs": [],
   "source": [
    "fig_l2=DrawEvaluteResult(l2_distance1,\"raw\",l2_distance2,\"adv\",\"L2_distance\",\"number\",\"l2_distance\")\n",
    "plt.show()"
   ]
  }
 ],
 "metadata": {
  "kernelspec": {
   "display_name": "AdversarialSampleDetection",
   "language": "python",
   "name": "python3"
  },
  "language_info": {
   "codemirror_mode": {
    "name": "ipython",
    "version": 3
   },
   "file_extension": ".py",
   "mimetype": "text/x-python",
   "name": "python",
   "nbconvert_exporter": "python",
   "pygments_lexer": "ipython3",
   "version": "3.9.18"
  }
 },
 "nbformat": 4,
 "nbformat_minor": 2
}
