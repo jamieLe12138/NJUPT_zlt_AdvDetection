{
 "cells": [
  {
   "cell_type": "code",
   "execution_count": 1,
   "metadata": {},
   "outputs": [],
   "source": [
    "import sys\n",
    "sys.path.append(\"E:/Project/ZLTProgram/CelebA\")\n",
    "from art.estimators.classification import PyTorchClassifier\n",
    "from art.attacks.evasion import FastGradientMethod,BasicIterativeMethod,ProjectedGradientDescent\n",
    "from Utils.AE_Util import Adversarial_Examples_Generator\n",
    "from Utils.dataload import CELEBA\n",
    "from Model.Target_model import Target_model\n",
    "import torch\n",
    "import torch.nn as nn\n"
   ]
  },
  {
   "cell_type": "code",
   "execution_count": 2,
   "metadata": {},
   "outputs": [
    {
     "data": {
      "text/plain": [
       "<All keys matched successfully>"
      ]
     },
     "execution_count": 2,
     "metadata": {},
     "output_type": "execute_result"
    }
   ],
   "source": [
    "device = 'cuda' if torch.cuda.is_available() else 'cpu'\n",
    "# 加载目标模型\n",
    "target_model=Target_model.ResNet18(2)\n",
    "model_path=\"E:/Project/ModelAndDataset/model/CelebA/CelebA_resnet18_Male.pth\"\n",
    "target_model.load_state_dict(torch.load(model_path))\n",
    "\n",
    "\n"
   ]
  },
  {
   "cell_type": "code",
   "execution_count": 3,
   "metadata": {},
   "outputs": [
    {
     "name": "stdout",
     "output_type": "stream",
     "text": [
      "20\n",
      "Load Test dataset: 2026\n",
      "2026\n"
     ]
    }
   ],
   "source": [
    "from torchvision import transforms\n",
    "from torch.utils.data import DataLoader\n",
    "# 定义数据转换\n",
    "transform=transforms.Compose([transforms.ToTensor(), transforms.RandomHorizontalFlip()])\n",
    "root='E:/Project/ModelAndDataset/data'\n",
    "\n",
    "\n",
    "valid_dataset = CELEBA(root=root,\n",
    "               train=False,\n",
    "               train_ratio=0.99,\n",
    "               transform=transform,\n",
    "               label=\"Male\",\n",
    "               \n",
    ")\n",
    "print(len(valid_dataset))\n"
   ]
  },
  {
   "cell_type": "code",
   "execution_count": 4,
   "metadata": {},
   "outputs": [],
   "source": [
    "estimator=PyTorchClassifier(model=target_model,loss=nn.CrossEntropyLoss(),\n",
    "                            optimizer = torch.optim.Adam(target_model.parameters(), lr=0.001),\n",
    "                            input_shape=(3,64,64), \n",
    "                            nb_classes=2)\n",
    "#定义攻击器\n",
    "# attacker = FastGradientMethod(estimator, eps=0.01)\n",
    "attacker = ProjectedGradientDescent(estimator, eps=0.1,batch_size=64)"
   ]
  },
  {
   "cell_type": "code",
   "execution_count": 5,
   "metadata": {},
   "outputs": [
    {
     "data": {
      "application/vnd.jupyter.widget-view+json": {
       "model_id": "5ec14a19ec004ce699f4f7e2fae0f469",
       "version_major": 2,
       "version_minor": 0
      },
      "text/plain": [
       "PGD - Batches:   0%|          | 0/1 [00:00<?, ?it/s]"
      ]
     },
     "metadata": {},
     "output_type": "display_data"
    },
    {
     "data": {
      "application/vnd.jupyter.widget-view+json": {
       "model_id": "29b2e683a27c46beba029923de397293",
       "version_major": 2,
       "version_minor": 0
      },
      "text/plain": [
       "PGD - Batches:   0%|          | 0/1 [00:00<?, ?it/s]"
      ]
     },
     "metadata": {},
     "output_type": "display_data"
    },
    {
     "data": {
      "application/vnd.jupyter.widget-view+json": {
       "model_id": "3865ba6755404747ac5b9d15e6097b5d",
       "version_major": 2,
       "version_minor": 0
      },
      "text/plain": [
       "PGD - Batches:   0%|          | 0/1 [00:00<?, ?it/s]"
      ]
     },
     "metadata": {},
     "output_type": "display_data"
    },
    {
     "data": {
      "application/vnd.jupyter.widget-view+json": {
       "model_id": "c891f7f98c694de2b03243f8fd2f2b8a",
       "version_major": 2,
       "version_minor": 0
      },
      "text/plain": [
       "PGD - Batches:   0%|          | 0/1 [00:00<?, ?it/s]"
      ]
     },
     "metadata": {},
     "output_type": "display_data"
    },
    {
     "data": {
      "application/vnd.jupyter.widget-view+json": {
       "model_id": "a8c1a9e563c04ed58c348e2f5abdbf09",
       "version_major": 2,
       "version_minor": 0
      },
      "text/plain": [
       "PGD - Batches:   0%|          | 0/1 [00:00<?, ?it/s]"
      ]
     },
     "metadata": {},
     "output_type": "display_data"
    },
    {
     "data": {
      "application/vnd.jupyter.widget-view+json": {
       "model_id": "dfcc1b1d74314ad8867280b48dba075f",
       "version_major": 2,
       "version_minor": 0
      },
      "text/plain": [
       "PGD - Batches:   0%|          | 0/1 [00:00<?, ?it/s]"
      ]
     },
     "metadata": {},
     "output_type": "display_data"
    },
    {
     "data": {
      "application/vnd.jupyter.widget-view+json": {
       "model_id": "46908b3e11904c62b74ab80c435e9243",
       "version_major": 2,
       "version_minor": 0
      },
      "text/plain": [
       "PGD - Batches:   0%|          | 0/1 [00:00<?, ?it/s]"
      ]
     },
     "metadata": {},
     "output_type": "display_data"
    },
    {
     "data": {
      "application/vnd.jupyter.widget-view+json": {
       "model_id": "ee47a50e4d174610bc941a8a835d0485",
       "version_major": 2,
       "version_minor": 0
      },
      "text/plain": [
       "PGD - Batches:   0%|          | 0/1 [00:00<?, ?it/s]"
      ]
     },
     "metadata": {},
     "output_type": "display_data"
    },
    {
     "data": {
      "application/vnd.jupyter.widget-view+json": {
       "model_id": "6a74aff1ee3d4957b5c35fce80e01838",
       "version_major": 2,
       "version_minor": 0
      },
      "text/plain": [
       "PGD - Batches:   0%|          | 0/1 [00:00<?, ?it/s]"
      ]
     },
     "metadata": {},
     "output_type": "display_data"
    },
    {
     "data": {
      "application/vnd.jupyter.widget-view+json": {
       "model_id": "45a4eda8c7e348a59ed693377c71b7ab",
       "version_major": 2,
       "version_minor": 0
      },
      "text/plain": [
       "PGD - Batches:   0%|          | 0/1 [00:00<?, ?it/s]"
      ]
     },
     "metadata": {},
     "output_type": "display_data"
    },
    {
     "data": {
      "application/vnd.jupyter.widget-view+json": {
       "model_id": "2c7d35af14b940d9b07bdafb9e3e1dd2",
       "version_major": 2,
       "version_minor": 0
      },
      "text/plain": [
       "PGD - Batches:   0%|          | 0/1 [00:00<?, ?it/s]"
      ]
     },
     "metadata": {},
     "output_type": "display_data"
    },
    {
     "data": {
      "application/vnd.jupyter.widget-view+json": {
       "model_id": "3f7dd2f6802049409d68a0bd21249a15",
       "version_major": 2,
       "version_minor": 0
      },
      "text/plain": [
       "PGD - Batches:   0%|          | 0/1 [00:00<?, ?it/s]"
      ]
     },
     "metadata": {},
     "output_type": "display_data"
    },
    {
     "data": {
      "application/vnd.jupyter.widget-view+json": {
       "model_id": "c17d24939e274cac803651c5bad02f09",
       "version_major": 2,
       "version_minor": 0
      },
      "text/plain": [
       "PGD - Batches:   0%|          | 0/1 [00:00<?, ?it/s]"
      ]
     },
     "metadata": {},
     "output_type": "display_data"
    },
    {
     "data": {
      "application/vnd.jupyter.widget-view+json": {
       "model_id": "236b78b4193e4422a1c2d229926bcccb",
       "version_major": 2,
       "version_minor": 0
      },
      "text/plain": [
       "PGD - Batches:   0%|          | 0/1 [00:00<?, ?it/s]"
      ]
     },
     "metadata": {},
     "output_type": "display_data"
    },
    {
     "data": {
      "application/vnd.jupyter.widget-view+json": {
       "model_id": "9a1357372b9d4e238db90242e208c2bb",
       "version_major": 2,
       "version_minor": 0
      },
      "text/plain": [
       "PGD - Batches:   0%|          | 0/1 [00:00<?, ?it/s]"
      ]
     },
     "metadata": {},
     "output_type": "display_data"
    },
    {
     "data": {
      "application/vnd.jupyter.widget-view+json": {
       "model_id": "3bf50e0acb97472fa123d5ca3496d22e",
       "version_major": 2,
       "version_minor": 0
      },
      "text/plain": [
       "PGD - Batches:   0%|          | 0/1 [00:00<?, ?it/s]"
      ]
     },
     "metadata": {},
     "output_type": "display_data"
    },
    {
     "data": {
      "application/vnd.jupyter.widget-view+json": {
       "model_id": "653b395593cf42c48aea18c3810c8164",
       "version_major": 2,
       "version_minor": 0
      },
      "text/plain": [
       "PGD - Batches:   0%|          | 0/1 [00:00<?, ?it/s]"
      ]
     },
     "metadata": {},
     "output_type": "display_data"
    },
    {
     "data": {
      "application/vnd.jupyter.widget-view+json": {
       "model_id": "7630ddd8ca58407daff518e7c9d14eae",
       "version_major": 2,
       "version_minor": 0
      },
      "text/plain": [
       "PGD - Batches:   0%|          | 0/1 [00:00<?, ?it/s]"
      ]
     },
     "metadata": {},
     "output_type": "display_data"
    },
    {
     "data": {
      "application/vnd.jupyter.widget-view+json": {
       "model_id": "3627b4cd21134001807887a84aed26a2",
       "version_major": 2,
       "version_minor": 0
      },
      "text/plain": [
       "PGD - Batches:   0%|          | 0/1 [00:00<?, ?it/s]"
      ]
     },
     "metadata": {},
     "output_type": "display_data"
    },
    {
     "data": {
      "application/vnd.jupyter.widget-view+json": {
       "model_id": "5c013d8f934345da91bc323cf139b374",
       "version_major": 2,
       "version_minor": 0
      },
      "text/plain": [
       "PGD - Batches:   0%|          | 0/1 [00:00<?, ?it/s]"
      ]
     },
     "metadata": {},
     "output_type": "display_data"
    },
    {
     "data": {
      "application/vnd.jupyter.widget-view+json": {
       "model_id": "102b5ebd44f549ae809687b31db7832a",
       "version_major": 2,
       "version_minor": 0
      },
      "text/plain": [
       "PGD - Batches:   0%|          | 0/1 [00:00<?, ?it/s]"
      ]
     },
     "metadata": {},
     "output_type": "display_data"
    },
    {
     "data": {
      "application/vnd.jupyter.widget-view+json": {
       "model_id": "03bdbc5f29a74a3b8a5b4a78a409beda",
       "version_major": 2,
       "version_minor": 0
      },
      "text/plain": [
       "PGD - Batches:   0%|          | 0/1 [00:00<?, ?it/s]"
      ]
     },
     "metadata": {},
     "output_type": "display_data"
    },
    {
     "data": {
      "application/vnd.jupyter.widget-view+json": {
       "model_id": "1967b4e0b59c4c5dae5cc90881a81a35",
       "version_major": 2,
       "version_minor": 0
      },
      "text/plain": [
       "PGD - Batches:   0%|          | 0/1 [00:00<?, ?it/s]"
      ]
     },
     "metadata": {},
     "output_type": "display_data"
    },
    {
     "data": {
      "application/vnd.jupyter.widget-view+json": {
       "model_id": "ba5ac457a9e74fda907ebce55350d4dd",
       "version_major": 2,
       "version_minor": 0
      },
      "text/plain": [
       "PGD - Batches:   0%|          | 0/1 [00:00<?, ?it/s]"
      ]
     },
     "metadata": {},
     "output_type": "display_data"
    },
    {
     "data": {
      "application/vnd.jupyter.widget-view+json": {
       "model_id": "9a91e0deab114eb4ac5dc9cacaf11d01",
       "version_major": 2,
       "version_minor": 0
      },
      "text/plain": [
       "PGD - Batches:   0%|          | 0/1 [00:00<?, ?it/s]"
      ]
     },
     "metadata": {},
     "output_type": "display_data"
    },
    {
     "data": {
      "application/vnd.jupyter.widget-view+json": {
       "model_id": "fcc4719b0b004944b73cb6bb6a9f6401",
       "version_major": 2,
       "version_minor": 0
      },
      "text/plain": [
       "PGD - Batches:   0%|          | 0/1 [00:00<?, ?it/s]"
      ]
     },
     "metadata": {},
     "output_type": "display_data"
    },
    {
     "data": {
      "application/vnd.jupyter.widget-view+json": {
       "model_id": "8c090be391fa4cf0b403842666395ff6",
       "version_major": 2,
       "version_minor": 0
      },
      "text/plain": [
       "PGD - Batches:   0%|          | 0/1 [00:00<?, ?it/s]"
      ]
     },
     "metadata": {},
     "output_type": "display_data"
    },
    {
     "data": {
      "application/vnd.jupyter.widget-view+json": {
       "model_id": "65ab107476574f90a8c2277ed1562d23",
       "version_major": 2,
       "version_minor": 0
      },
      "text/plain": [
       "PGD - Batches:   0%|          | 0/1 [00:00<?, ?it/s]"
      ]
     },
     "metadata": {},
     "output_type": "display_data"
    },
    {
     "data": {
      "application/vnd.jupyter.widget-view+json": {
       "model_id": "6b9b30e3a665424d8554d0d869f0fb90",
       "version_major": 2,
       "version_minor": 0
      },
      "text/plain": [
       "PGD - Batches:   0%|          | 0/1 [00:00<?, ?it/s]"
      ]
     },
     "metadata": {},
     "output_type": "display_data"
    },
    {
     "data": {
      "application/vnd.jupyter.widget-view+json": {
       "model_id": "4db976fee42d49519691b26fedc40c83",
       "version_major": 2,
       "version_minor": 0
      },
      "text/plain": [
       "PGD - Batches:   0%|          | 0/1 [00:00<?, ?it/s]"
      ]
     },
     "metadata": {},
     "output_type": "display_data"
    },
    {
     "data": {
      "application/vnd.jupyter.widget-view+json": {
       "model_id": "a049b7dfed584f1a89e195eaf8756ad9",
       "version_major": 2,
       "version_minor": 0
      },
      "text/plain": [
       "PGD - Batches:   0%|          | 0/1 [00:00<?, ?it/s]"
      ]
     },
     "metadata": {},
     "output_type": "display_data"
    },
    {
     "data": {
      "application/vnd.jupyter.widget-view+json": {
       "model_id": "78fb00c5d88e4f4b85a727c2cc30b902",
       "version_major": 2,
       "version_minor": 0
      },
      "text/plain": [
       "PGD - Batches:   0%|          | 0/1 [00:00<?, ?it/s]"
      ]
     },
     "metadata": {},
     "output_type": "display_data"
    },
    {
     "name": "stdout",
     "output_type": "stream",
     "text": [
      "Generate2026 Adversarial Examples! \n",
      "Total Pictures:2026\n",
      "Attack Accuracy:100.00%\n",
      "Save adv_img to E:/Project/ModelAndDataset/data/celebA/Attack/AdvImage_ProjectedGradientDescent_0.1_ResNet18_Male.npy\n",
      "Save adv_label to E:/Project/ModelAndDataset/data/celebA/Attack/AdvLabel_ProjectedGradientDescent_0.1_ResNet18_Male.npy\n",
      "Save raw_img to E:/Project/ModelAndDataset/data/celebA/Attack/RawImage_ProjectedGradientDescent_0.1_ResNet18_Male.npy\n",
      "Save raw_label to E:/Project/ModelAndDataset/data/celebA/Attack/RawLabel_ProjectedGradientDescent_0.1_ResNet18_Male.npy\n"
     ]
    }
   ],
   "source": [
    "generator=Adversarial_Examples_Generator(targetmodel=target_model,\n",
    "                                         task=\"Male\",\n",
    "                                         dataset=valid_dataset,\n",
    "                                         method=attacker,\n",
    "                                         targeted=False,\n",
    "                                         batch_size=64,\n",
    "                                         save_dir=\"E:/Project/ModelAndDataset/data/celebA/Attack\",\n",
    "                                         save_raw=True,\n",
    "                                         device=device)\n",
    "examplepair=generator.generate(64)"
   ]
  },
  {
   "cell_type": "code",
   "execution_count": 6,
   "metadata": {},
   "outputs": [
    {
     "name": "stdout",
     "output_type": "stream",
     "text": [
      "Load images from: E:/Project/ModelAndDataset/data/celebA/Attack/AdvImage_ProjectedGradientDescent_0.1_resnet18_Male.npy\n",
      "Load labels from: E:/Project/ModelAndDataset/data/celebA/Attack/AdvLabel_ProjectedGradientDescent_0.1_resnet18_Male.npy\n",
      "Load images from: E:/Project/ModelAndDataset/data/celebA/Attack/RawImage_ProjectedGradientDescent_0.1_resnet18_Male.npy\n",
      "Load labels from: E:/Project/ModelAndDataset/data/celebA/Attack/RawLabel_ProjectedGradientDescent_0.1_resnet18_Male.npy\n"
     ]
    }
   ],
   "source": [
    "from dataload import CELEBA_Attack\n",
    "from torchvision import transforms\n",
    "transform=transforms.Compose([transforms.ToTensor(), transforms.RandomHorizontalFlip()])\n",
    "adv_dir='E:/Project/ModelAndDataset/data/celebA/Attack'\n",
    "adv_example_dataset=CELEBA_Attack(root=adv_dir,\n",
    "                                  adv=True,\n",
    "                                  attackMethod=\"ProjectedGradientDescent\",\n",
    "                                  eps=\"0.1\",\n",
    "                                  model=\"resnet18\",\n",
    "                                  label=\"Male\",\n",
    "                                  transform=transform\n",
    ")\n",
    "raw_example_dataset=CELEBA_Attack(root=adv_dir,\n",
    "                                  adv=False,\n",
    "                                  attackMethod=\"ProjectedGradientDescent\",\n",
    "                                  eps=\"0.1\",\n",
    "                                  model=\"resnet18\",\n",
    "                                  label=\"Male\",\n",
    "                                  transform=transform)"
   ]
  },
  {
   "cell_type": "code",
   "execution_count": 7,
   "metadata": {},
   "outputs": [
    {
     "name": "stdout",
     "output_type": "stream",
     "text": [
      "(64, 64, 3)\n",
      "<class 'numpy.memmap'>\n",
      "()\n",
      "<class 'numpy.float32'>\n",
      "(64, 64, 3)\n",
      "<class 'numpy.memmap'>\n",
      "()\n",
      "<class 'numpy.float32'>\n",
      "(64, 64, 3)\n",
      "<class 'numpy.memmap'>\n",
      "()\n",
      "<class 'numpy.float32'>\n",
      "(64, 64, 3)\n",
      "<class 'numpy.memmap'>\n",
      "()\n",
      "<class 'numpy.float32'>\n",
      "(64, 64, 3)\n",
      "<class 'numpy.memmap'>\n",
      "()\n",
      "<class 'numpy.float32'>\n",
      "(64, 64, 3)\n",
      "<class 'numpy.memmap'>\n",
      "()\n",
      "<class 'numpy.float32'>\n",
      "(64, 64, 3)\n",
      "<class 'numpy.memmap'>\n",
      "()\n",
      "<class 'numpy.float32'>\n",
      "(64, 64, 3)\n",
      "<class 'numpy.memmap'>\n",
      "()\n",
      "<class 'numpy.float32'>\n",
      "(64, 64, 3)\n",
      "<class 'numpy.memmap'>\n",
      "()\n",
      "<class 'numpy.float32'>\n",
      "(64, 64, 3)\n",
      "<class 'numpy.memmap'>\n",
      "()\n",
      "<class 'numpy.float32'>\n",
      "(64, 64, 3)\n",
      "<class 'numpy.memmap'>\n",
      "()\n",
      "<class 'numpy.float32'>\n",
      "(64, 64, 3)\n",
      "<class 'numpy.memmap'>\n",
      "()\n",
      "<class 'numpy.float32'>\n",
      "(64, 64, 3)\n",
      "<class 'numpy.memmap'>\n",
      "()\n",
      "<class 'numpy.float32'>\n",
      "(64, 64, 3)\n",
      "<class 'numpy.memmap'>\n",
      "()\n",
      "<class 'numpy.float32'>\n",
      "(64, 64, 3)\n",
      "<class 'numpy.memmap'>\n",
      "()\n",
      "<class 'numpy.float32'>\n",
      "(64, 64, 3)\n",
      "<class 'numpy.memmap'>\n",
      "()\n",
      "<class 'numpy.float32'>\n",
      "(64, 64, 3)\n",
      "<class 'numpy.memmap'>\n",
      "()\n",
      "<class 'numpy.float32'>\n",
      "(64, 64, 3)\n",
      "<class 'numpy.memmap'>\n",
      "()\n",
      "<class 'numpy.float32'>\n",
      "(64, 64, 3)\n",
      "<class 'numpy.memmap'>\n",
      "()\n",
      "<class 'numpy.float32'>\n",
      "(64, 64, 3)\n",
      "<class 'numpy.memmap'>\n",
      "()\n",
      "<class 'numpy.float32'>\n",
      "(64, 64, 3)\n",
      "<class 'numpy.memmap'>\n",
      "()\n",
      "<class 'numpy.float32'>\n",
      "(64, 64, 3)\n",
      "<class 'numpy.memmap'>\n",
      "()\n",
      "<class 'numpy.float32'>\n",
      "(64, 64, 3)\n",
      "<class 'numpy.memmap'>\n",
      "()\n",
      "<class 'numpy.float32'>\n",
      "(64, 64, 3)\n",
      "<class 'numpy.memmap'>\n",
      "()\n",
      "<class 'numpy.float32'>\n",
      "(64, 64, 3)\n",
      "<class 'numpy.memmap'>\n",
      "()\n",
      "<class 'numpy.float32'>\n",
      "(64, 64, 3)\n",
      "<class 'numpy.memmap'>\n",
      "()\n",
      "<class 'numpy.float32'>\n",
      "(64, 64, 3)\n",
      "<class 'numpy.memmap'>\n",
      "()\n",
      "<class 'numpy.float32'>\n",
      "(64, 64, 3)\n",
      "<class 'numpy.memmap'>\n",
      "()\n",
      "<class 'numpy.float32'>\n",
      "(64, 64, 3)\n",
      "<class 'numpy.memmap'>\n",
      "()\n",
      "<class 'numpy.float32'>\n",
      "(64, 64, 3)\n",
      "<class 'numpy.memmap'>\n",
      "()\n",
      "<class 'numpy.float32'>\n",
      "(64, 64, 3)\n",
      "<class 'numpy.memmap'>\n",
      "()\n",
      "<class 'numpy.float32'>\n",
      "(64, 64, 3)\n",
      "<class 'numpy.memmap'>\n",
      "()\n",
      "<class 'numpy.float32'>\n",
      "(64, 64, 3)\n",
      "<class 'numpy.memmap'>\n",
      "()\n",
      "<class 'numpy.float32'>\n",
      "(64, 64, 3)\n",
      "<class 'numpy.memmap'>\n",
      "()\n",
      "<class 'numpy.float32'>\n",
      "(64, 64, 3)\n",
      "<class 'numpy.memmap'>\n",
      "()\n",
      "<class 'numpy.float32'>\n",
      "(64, 64, 3)\n",
      "<class 'numpy.memmap'>\n",
      "()\n",
      "<class 'numpy.float32'>\n",
      "(64, 64, 3)\n",
      "<class 'numpy.memmap'>\n",
      "()\n",
      "<class 'numpy.float32'>\n",
      "(64, 64, 3)\n",
      "<class 'numpy.memmap'>\n",
      "()\n",
      "<class 'numpy.float32'>\n",
      "(64, 64, 3)\n",
      "<class 'numpy.memmap'>\n",
      "()\n",
      "<class 'numpy.float32'>\n",
      "(64, 64, 3)\n",
      "<class 'numpy.memmap'>\n",
      "()\n",
      "<class 'numpy.float32'>\n",
      "(64, 64, 3)\n",
      "<class 'numpy.memmap'>\n",
      "()\n",
      "<class 'numpy.float32'>\n",
      "(64, 64, 3)\n",
      "<class 'numpy.memmap'>\n",
      "()\n",
      "<class 'numpy.float32'>\n",
      "(64, 64, 3)\n",
      "<class 'numpy.memmap'>\n",
      "()\n",
      "<class 'numpy.float32'>\n",
      "(64, 64, 3)\n",
      "<class 'numpy.memmap'>\n",
      "()\n",
      "<class 'numpy.float32'>\n",
      "(64, 64, 3)\n",
      "<class 'numpy.memmap'>\n",
      "()\n",
      "<class 'numpy.float32'>\n",
      "(64, 64, 3)\n",
      "<class 'numpy.memmap'>\n",
      "()\n",
      "<class 'numpy.float32'>\n",
      "(64, 64, 3)\n",
      "<class 'numpy.memmap'>\n",
      "()\n",
      "<class 'numpy.float32'>\n",
      "(64, 64, 3)\n",
      "<class 'numpy.memmap'>\n",
      "()\n",
      "<class 'numpy.float32'>\n",
      "(64, 64, 3)\n",
      "<class 'numpy.memmap'>\n",
      "()\n",
      "<class 'numpy.float32'>\n",
      "(64, 64, 3)\n",
      "<class 'numpy.memmap'>\n",
      "()\n",
      "<class 'numpy.float32'>\n",
      "(64, 64, 3)\n",
      "<class 'numpy.memmap'>\n",
      "()\n",
      "<class 'numpy.float32'>\n",
      "(64, 64, 3)\n",
      "<class 'numpy.memmap'>\n",
      "()\n",
      "<class 'numpy.float32'>\n",
      "(64, 64, 3)\n",
      "<class 'numpy.memmap'>\n",
      "()\n",
      "<class 'numpy.float32'>\n",
      "(64, 64, 3)\n",
      "<class 'numpy.memmap'>\n",
      "()\n",
      "<class 'numpy.float32'>\n",
      "(64, 64, 3)\n",
      "<class 'numpy.memmap'>\n",
      "()\n",
      "<class 'numpy.float32'>\n",
      "(64, 64, 3)\n",
      "<class 'numpy.memmap'>\n",
      "()\n",
      "<class 'numpy.float32'>\n",
      "(64, 64, 3)\n",
      "<class 'numpy.memmap'>\n",
      "()\n",
      "<class 'numpy.float32'>\n",
      "(64, 64, 3)\n",
      "<class 'numpy.memmap'>\n",
      "()\n",
      "<class 'numpy.float32'>\n",
      "(64, 64, 3)\n",
      "<class 'numpy.memmap'>\n",
      "()\n",
      "<class 'numpy.float32'>\n",
      "(64, 64, 3)\n",
      "<class 'numpy.memmap'>\n",
      "()\n",
      "<class 'numpy.float32'>\n",
      "(64, 64, 3)\n",
      "<class 'numpy.memmap'>\n",
      "()\n",
      "<class 'numpy.float32'>\n",
      "(64, 64, 3)\n",
      "<class 'numpy.memmap'>\n",
      "()\n",
      "<class 'numpy.float32'>\n",
      "(64, 64, 3)\n",
      "<class 'numpy.memmap'>\n",
      "()\n",
      "<class 'numpy.float32'>\n",
      "(64, 64, 3)\n",
      "<class 'numpy.memmap'>\n",
      "()\n",
      "<class 'numpy.float32'>\n",
      "(64, 64, 3)\n",
      "<class 'numpy.memmap'>\n",
      "()\n",
      "<class 'numpy.int32'>\n",
      "(64, 64, 3)\n",
      "<class 'numpy.memmap'>\n",
      "()\n",
      "<class 'numpy.int32'>\n",
      "(64, 64, 3)\n",
      "<class 'numpy.memmap'>\n",
      "()\n",
      "<class 'numpy.int32'>\n",
      "(64, 64, 3)\n",
      "<class 'numpy.memmap'>\n",
      "()\n",
      "<class 'numpy.int32'>\n",
      "(64, 64, 3)\n",
      "<class 'numpy.memmap'>\n",
      "()\n",
      "<class 'numpy.int32'>\n",
      "(64, 64, 3)\n",
      "<class 'numpy.memmap'>\n",
      "()\n",
      "<class 'numpy.int32'>\n",
      "(64, 64, 3)\n",
      "<class 'numpy.memmap'>\n",
      "()\n",
      "<class 'numpy.int32'>\n",
      "(64, 64, 3)\n",
      "<class 'numpy.memmap'>\n",
      "()\n",
      "<class 'numpy.int32'>\n",
      "(64, 64, 3)\n",
      "<class 'numpy.memmap'>\n",
      "()\n",
      "<class 'numpy.int32'>\n",
      "(64, 64, 3)\n",
      "<class 'numpy.memmap'>\n",
      "()\n",
      "<class 'numpy.int32'>\n",
      "(64, 64, 3)\n",
      "<class 'numpy.memmap'>\n",
      "()\n",
      "<class 'numpy.int32'>\n",
      "(64, 64, 3)\n",
      "<class 'numpy.memmap'>\n",
      "()\n",
      "<class 'numpy.int32'>\n",
      "(64, 64, 3)\n",
      "<class 'numpy.memmap'>\n",
      "()\n",
      "<class 'numpy.int32'>\n",
      "(64, 64, 3)\n",
      "<class 'numpy.memmap'>\n",
      "()\n",
      "<class 'numpy.int32'>\n",
      "(64, 64, 3)\n",
      "<class 'numpy.memmap'>\n",
      "()\n",
      "<class 'numpy.int32'>\n",
      "(64, 64, 3)\n",
      "<class 'numpy.memmap'>\n",
      "()\n",
      "<class 'numpy.int32'>\n",
      "(64, 64, 3)\n",
      "<class 'numpy.memmap'>\n",
      "()\n",
      "<class 'numpy.int32'>\n",
      "(64, 64, 3)\n",
      "<class 'numpy.memmap'>\n",
      "()\n",
      "<class 'numpy.int32'>\n",
      "(64, 64, 3)\n",
      "<class 'numpy.memmap'>\n",
      "()\n",
      "<class 'numpy.int32'>\n",
      "(64, 64, 3)\n",
      "<class 'numpy.memmap'>\n",
      "()\n",
      "<class 'numpy.int32'>\n",
      "(64, 64, 3)\n",
      "<class 'numpy.memmap'>\n",
      "()\n",
      "<class 'numpy.int32'>\n",
      "(64, 64, 3)\n",
      "<class 'numpy.memmap'>\n",
      "()\n",
      "<class 'numpy.int32'>\n",
      "(64, 64, 3)\n",
      "<class 'numpy.memmap'>\n",
      "()\n",
      "<class 'numpy.int32'>\n",
      "(64, 64, 3)\n",
      "<class 'numpy.memmap'>\n",
      "()\n",
      "<class 'numpy.int32'>\n",
      "(64, 64, 3)\n",
      "<class 'numpy.memmap'>\n",
      "()\n",
      "<class 'numpy.int32'>\n",
      "(64, 64, 3)\n",
      "<class 'numpy.memmap'>\n",
      "()\n",
      "<class 'numpy.int32'>\n",
      "(64, 64, 3)\n",
      "<class 'numpy.memmap'>\n",
      "()\n",
      "<class 'numpy.int32'>\n",
      "(64, 64, 3)\n",
      "<class 'numpy.memmap'>\n",
      "()\n",
      "<class 'numpy.int32'>\n",
      "(64, 64, 3)\n",
      "<class 'numpy.memmap'>\n",
      "()\n",
      "<class 'numpy.int32'>\n",
      "(64, 64, 3)\n",
      "<class 'numpy.memmap'>\n",
      "()\n",
      "<class 'numpy.int32'>\n",
      "(64, 64, 3)\n",
      "<class 'numpy.memmap'>\n",
      "()\n",
      "<class 'numpy.int32'>\n",
      "(64, 64, 3)\n",
      "<class 'numpy.memmap'>\n",
      "()\n",
      "<class 'numpy.int32'>\n",
      "(64, 64, 3)\n",
      "<class 'numpy.memmap'>\n",
      "()\n",
      "<class 'numpy.int32'>\n",
      "(64, 64, 3)\n",
      "<class 'numpy.memmap'>\n",
      "()\n",
      "<class 'numpy.int32'>\n",
      "(64, 64, 3)\n",
      "<class 'numpy.memmap'>\n",
      "()\n",
      "<class 'numpy.int32'>\n",
      "(64, 64, 3)\n",
      "<class 'numpy.memmap'>\n",
      "()\n",
      "<class 'numpy.int32'>\n",
      "(64, 64, 3)\n",
      "<class 'numpy.memmap'>\n",
      "()\n",
      "<class 'numpy.int32'>\n",
      "(64, 64, 3)\n",
      "<class 'numpy.memmap'>\n",
      "()\n",
      "<class 'numpy.int32'>\n",
      "(64, 64, 3)\n",
      "<class 'numpy.memmap'>\n",
      "()\n",
      "<class 'numpy.int32'>\n",
      "(64, 64, 3)\n",
      "<class 'numpy.memmap'>\n",
      "()\n",
      "<class 'numpy.int32'>\n",
      "(64, 64, 3)\n",
      "<class 'numpy.memmap'>\n",
      "()\n",
      "<class 'numpy.int32'>\n",
      "(64, 64, 3)\n",
      "<class 'numpy.memmap'>\n",
      "()\n",
      "<class 'numpy.int32'>\n",
      "(64, 64, 3)\n",
      "<class 'numpy.memmap'>\n",
      "()\n",
      "<class 'numpy.int32'>\n",
      "(64, 64, 3)\n",
      "<class 'numpy.memmap'>\n",
      "()\n",
      "<class 'numpy.int32'>\n",
      "(64, 64, 3)\n",
      "<class 'numpy.memmap'>\n",
      "()\n",
      "<class 'numpy.int32'>\n",
      "(64, 64, 3)\n",
      "<class 'numpy.memmap'>\n",
      "()\n",
      "<class 'numpy.int32'>\n",
      "(64, 64, 3)\n",
      "<class 'numpy.memmap'>\n",
      "()\n",
      "<class 'numpy.int32'>\n",
      "(64, 64, 3)\n",
      "<class 'numpy.memmap'>\n",
      "()\n",
      "<class 'numpy.int32'>\n",
      "(64, 64, 3)\n",
      "<class 'numpy.memmap'>\n",
      "()\n",
      "<class 'numpy.int32'>\n",
      "(64, 64, 3)\n",
      "<class 'numpy.memmap'>\n",
      "()\n",
      "<class 'numpy.int32'>\n",
      "(64, 64, 3)\n",
      "<class 'numpy.memmap'>\n",
      "()\n",
      "<class 'numpy.int32'>\n",
      "(64, 64, 3)\n",
      "<class 'numpy.memmap'>\n",
      "()\n",
      "<class 'numpy.int32'>\n",
      "(64, 64, 3)\n",
      "<class 'numpy.memmap'>\n",
      "()\n",
      "<class 'numpy.int32'>\n",
      "(64, 64, 3)\n",
      "<class 'numpy.memmap'>\n",
      "()\n",
      "<class 'numpy.int32'>\n",
      "(64, 64, 3)\n",
      "<class 'numpy.memmap'>\n",
      "()\n",
      "<class 'numpy.int32'>\n",
      "(64, 64, 3)\n",
      "<class 'numpy.memmap'>\n",
      "()\n",
      "<class 'numpy.int32'>\n",
      "(64, 64, 3)\n",
      "<class 'numpy.memmap'>\n",
      "()\n",
      "<class 'numpy.int32'>\n",
      "(64, 64, 3)\n",
      "<class 'numpy.memmap'>\n",
      "()\n",
      "<class 'numpy.int32'>\n",
      "(64, 64, 3)\n",
      "<class 'numpy.memmap'>\n",
      "()\n",
      "<class 'numpy.int32'>\n",
      "(64, 64, 3)\n",
      "<class 'numpy.memmap'>\n",
      "()\n",
      "<class 'numpy.int32'>\n",
      "(64, 64, 3)\n",
      "<class 'numpy.memmap'>\n",
      "()\n",
      "<class 'numpy.int32'>\n",
      "(64, 64, 3)\n",
      "<class 'numpy.memmap'>\n",
      "()\n",
      "<class 'numpy.int32'>\n",
      "(64, 64, 3)\n",
      "<class 'numpy.memmap'>\n",
      "()\n",
      "<class 'numpy.int32'>\n",
      "(64, 64, 3)\n",
      "<class 'numpy.memmap'>\n",
      "()\n",
      "<class 'numpy.int32'>\n"
     ]
    }
   ],
   "source": [
    "import torch\n",
    "adv_data_loader=torch.utils.data.DataLoader(adv_example_dataset,batch_size=64)\n",
    "advdata,advlabel=next(iter(adv_data_loader))\n",
    "raw_data_loader=torch.utils.data.DataLoader(raw_example_dataset,batch_size=64)\n",
    "rawdata,rawlabel=next(iter(raw_data_loader))\n"
   ]
  },
  {
   "cell_type": "code",
   "execution_count": 8,
   "metadata": {},
   "outputs": [
    {
     "data": {
      "text/plain": [
       "tensor([[[[0.1294, 0.1216, 0.1059,  ..., 0.1412, 0.2471, 0.1451],\n",
       "          [0.2235, 0.3020, 0.1765,  ..., 0.0392, 0.2431, 0.2431],\n",
       "          [0.1059, 0.2824, 0.2627,  ..., 0.0588, 0.0510, 0.0471],\n",
       "          ...,\n",
       "          [0.2784, 0.2588, 0.1647,  ..., 0.7686, 0.7804, 0.7961],\n",
       "          [0.2902, 0.2706, 0.1725,  ..., 0.7922, 0.6902, 0.6941],\n",
       "          [0.3333, 0.3373, 0.1922,  ..., 0.8000, 0.5922, 0.6706]],\n",
       "\n",
       "         [[0.5843, 0.5882, 0.3961,  ..., 0.5843, 0.5922, 0.5882],\n",
       "          [0.4902, 0.5059, 0.6118,  ..., 0.3843, 0.5882, 0.5882],\n",
       "          [0.4980, 0.6157, 0.6275,  ..., 0.4039, 0.4980, 0.3922],\n",
       "          ...,\n",
       "          [0.1882, 0.1804, 0.1451,  ..., 0.3882, 0.4000, 0.4235],\n",
       "          [0.0157, 0.0902, 0.1333,  ..., 0.5490, 0.6431, 0.5412],\n",
       "          [0.0627, 0.0588, 0.9608,  ..., 0.6549, 0.6471, 0.6118]],\n",
       "\n",
       "         [[0.4941, 0.4980, 0.6039,  ..., 0.6784, 0.6863, 0.6824],\n",
       "          [0.4863, 0.7020, 0.6157,  ..., 0.6784, 0.6824, 0.6824],\n",
       "          [0.4902, 0.5098, 0.7137,  ..., 0.4980, 0.4902, 0.4863],\n",
       "          ...,\n",
       "          [0.1804, 0.1882, 0.0471,  ..., 0.2902, 0.5098, 0.3333],\n",
       "          [0.9961, 0.9882, 0.1255,  ..., 0.4471, 0.4431, 0.4392],\n",
       "          [0.0353, 0.0510, 0.9529,  ..., 0.5529, 0.3451, 0.3098]]],\n",
       "\n",
       "\n",
       "        [[[0.4353, 0.4314, 0.6314,  ..., 0.7529, 0.6706, 0.6471],\n",
       "          [0.4431, 0.6353, 0.4353,  ..., 0.8627, 0.6824, 0.6000],\n",
       "          [0.4588, 0.4549, 0.4510,  ..., 0.6745, 0.7961, 0.6235],\n",
       "          ...,\n",
       "          [0.6784, 0.7059, 0.5412,  ..., 0.8824, 0.8824, 0.8784],\n",
       "          [0.6941, 0.7373, 0.7529,  ..., 0.8784, 0.8745, 0.8706],\n",
       "          [0.7216, 0.7098, 0.7020,  ..., 0.8784, 0.8745, 0.8706]],\n",
       "\n",
       "         [[0.4471, 0.4431, 0.6431,  ..., 0.8784, 0.7843, 0.6392],\n",
       "          [0.6549, 0.6471, 0.5490,  ..., 0.8784, 0.8784, 0.6784],\n",
       "          [0.6706, 0.6667, 0.5647,  ..., 0.7804, 0.6745, 0.4784],\n",
       "          ...,\n",
       "          [0.5647, 0.3843, 0.4196,  ..., 0.6863, 0.6863, 0.7882],\n",
       "          [0.4784, 0.5176, 0.5333,  ..., 0.6902, 0.6863, 0.7843],\n",
       "          [0.4000, 0.3882, 0.4824,  ..., 0.6902, 0.7882, 0.7843]],\n",
       "\n",
       "         [[0.5843, 0.5804, 0.6784,  ..., 0.8941, 0.8000, 0.7647],\n",
       "          [0.6902, 0.6824, 0.6824,  ..., 0.7961, 0.8039, 0.8078],\n",
       "          [0.7059, 0.7020, 0.6000,  ..., 0.7020, 0.8039, 0.6196],\n",
       "          ...,\n",
       "          [0.4980, 0.4157, 0.4510,  ..., 0.8078, 0.9059, 0.9059],\n",
       "          [0.6078, 0.5490, 0.4627,  ..., 0.8118, 0.8078, 0.9020],\n",
       "          [0.4314, 0.4196, 0.4118,  ..., 0.9098, 0.9059, 0.9020]]],\n",
       "\n",
       "\n",
       "        [[[0.0863, 0.0863, 0.0863,  ..., 0.8902, 0.8902, 0.8902],\n",
       "          [0.0863, 0.8902, 0.8902,  ..., 0.8902, 0.8902, 0.8902],\n",
       "          [0.8902, 0.8902, 0.8902,  ..., 0.9922, 0.9922, 0.8902],\n",
       "          ...,\n",
       "          [0.9922, 0.9922, 0.9922,  ..., 0.8902, 0.9922, 0.0863],\n",
       "          [0.9922, 0.0863, 0.0863,  ..., 0.0824, 0.0784, 0.0784],\n",
       "          [0.9922, 0.8902, 0.8902,  ..., 0.0941, 0.0941, 0.0902]],\n",
       "\n",
       "         [[0.0863, 0.9922, 0.8902,  ..., 0.9922, 0.8902, 0.8902],\n",
       "          [0.8902, 0.8902, 0.8902,  ..., 0.8902, 0.8902, 0.8902],\n",
       "          [0.8902, 0.8902, 0.9922,  ..., 0.9922, 0.0863, 0.8902],\n",
       "          ...,\n",
       "          [0.0863, 0.0863, 0.9922,  ..., 0.8902, 0.8902, 0.8902],\n",
       "          [0.0824, 0.0863, 0.0863,  ..., 0.8863, 0.8824, 0.0784],\n",
       "          [0.0863, 0.0863, 0.9922,  ..., 1.0000, 1.0000, 0.9922]],\n",
       "\n",
       "         [[0.0863, 0.0863, 0.8902,  ..., 0.9922, 0.8902, 0.8902],\n",
       "          [0.9922, 0.8902, 0.8902,  ..., 0.8902, 0.8902, 0.9922],\n",
       "          [0.9922, 0.8902, 0.0863,  ..., 0.0863, 0.8902, 0.9922],\n",
       "          ...,\n",
       "          [0.0902, 0.9961, 0.0902,  ..., 0.8863, 0.8863, 0.9882],\n",
       "          [0.8980, 0.0941, 0.0941,  ..., 0.0784, 0.0745, 0.8784],\n",
       "          [0.9882, 0.0824, 0.0824,  ..., 0.0941, 0.0941, 0.0941]]],\n",
       "\n",
       "\n",
       "        ...,\n",
       "\n",
       "\n",
       "        [[[0.0745, 0.0824, 0.0667,  ..., 0.5529, 0.6510, 0.5137],\n",
       "          [0.0784, 0.9882, 0.0627,  ..., 0.5608, 0.5529, 0.3490],\n",
       "          [0.8902, 0.9961, 0.8745,  ..., 0.5686, 0.5647, 0.3647],\n",
       "          ...,\n",
       "          [0.3059, 0.3216, 0.3373,  ..., 0.9843, 0.0745, 0.0588],\n",
       "          [0.2980, 0.2078, 0.3412,  ..., 0.0745, 0.0549, 0.0510],\n",
       "          [0.3098, 0.3882, 0.2824,  ..., 0.9725, 0.1490, 0.0471]],\n",
       "\n",
       "         [[0.0745, 0.0824, 0.9725,  ..., 0.6392, 0.6353, 0.4941],\n",
       "          [0.8824, 0.8863, 0.8667,  ..., 0.7451, 0.7373, 0.5216],\n",
       "          [0.8902, 0.8941, 0.8745,  ..., 0.7529, 0.6510, 0.5451],\n",
       "          ...,\n",
       "          [0.4353, 0.3412, 0.4471,  ..., 0.0510, 0.0471, 0.1373],\n",
       "          [0.2392, 0.3255, 0.4314,  ..., 0.0627, 0.0431, 0.0431],\n",
       "          [0.3373, 0.3216, 0.4196,  ..., 0.0549, 0.0392, 0.0431]],\n",
       "\n",
       "         [[0.0745, 0.0824, 0.9725,  ..., 0.6275, 0.6235, 0.5843],\n",
       "          [0.9843, 0.8863, 0.9686,  ..., 0.7333, 0.7255, 0.5137],\n",
       "          [0.8902, 0.8941, 0.8745,  ..., 0.7412, 0.6392, 0.4353],\n",
       "          ...,\n",
       "          [0.4275, 0.4353, 0.4471,  ..., 0.1333, 0.1333, 0.1216],\n",
       "          [0.2196, 0.2118, 0.3373,  ..., 0.9451, 0.0196, 0.0196],\n",
       "          [0.3490, 0.3255, 0.3216,  ..., 0.0353, 0.0157, 0.9294]]],\n",
       "\n",
       "\n",
       "        [[[0.9451, 0.9490, 0.8549,  ..., 0.8078, 0.0118, 0.9294],\n",
       "          [0.9529, 0.7569, 0.8627,  ..., 0.0039, 0.8980, 0.9059],\n",
       "          [0.7529, 0.7647, 0.7647,  ..., 0.0000, 0.8078, 0.9059],\n",
       "          ...,\n",
       "          [0.9294, 0.9294, 0.9373,  ..., 0.8196, 0.7333, 0.8000],\n",
       "          [0.8275, 0.9294, 0.9373,  ..., 0.8275, 0.7608, 0.9137],\n",
       "          [0.8275, 0.0275, 0.9373,  ..., 0.6902, 0.7804, 0.8824]],\n",
       "\n",
       "         [[0.8824, 0.8863, 0.7922,  ..., 0.7412, 0.9490, 0.8588],\n",
       "          [0.6902, 0.6941, 0.6980,  ..., 0.8431, 0.8353, 0.8392],\n",
       "          [0.6902, 0.7020, 0.7020,  ..., 0.9373, 0.7412, 0.7373],\n",
       "          ...,\n",
       "          [0.9608, 0.9647, 0.9686,  ..., 0.4196, 0.4314, 0.6078],\n",
       "          [0.7569, 0.9647, 0.9686,  ..., 0.6196, 0.6471, 0.8196],\n",
       "          [0.7569, 0.9647, 0.9686,  ..., 0.4824, 0.6667, 0.7843]],\n",
       "\n",
       "         [[0.8314, 0.8353, 0.7412,  ..., 0.7137, 0.9216, 0.8431],\n",
       "          [0.6392, 0.6431, 0.6471,  ..., 0.7137, 0.9059, 0.9137],\n",
       "          [0.8392, 0.6510, 0.7529,  ..., 0.8118, 0.9137, 0.8118],\n",
       "          ...,\n",
       "          [0.8353, 0.9333, 0.9373,  ..., 0.4353, 0.2235, 0.4235],\n",
       "          [0.7412, 0.7412, 0.9412,  ..., 0.3333, 0.4627, 0.5412],\n",
       "          [0.7412, 0.9412, 0.9412,  ..., 0.2039, 0.2941, 0.4078]]],\n",
       "\n",
       "\n",
       "        [[[0.0039, 0.0039, 0.0039,  ..., 0.9176, 0.9098, 0.9137],\n",
       "          [0.0039, 0.0039, 0.9137,  ..., 0.1098, 0.9137, 0.9098],\n",
       "          [0.0039, 0.0039, 0.9137,  ..., 0.1137, 0.1098, 0.1020],\n",
       "          ...,\n",
       "          [0.8431, 0.8431, 0.7529,  ..., 0.2980, 0.2902, 0.3176],\n",
       "          [0.8314, 0.8392, 0.8392,  ..., 0.4039, 0.3882, 0.5137],\n",
       "          [0.8000, 0.8078, 0.9529,  ..., 0.4235, 0.4745, 0.4980]],\n",
       "\n",
       "         [[0.1098, 0.0078, 0.0078,  ..., 0.9216, 0.9137, 0.9176],\n",
       "          [0.0078, 0.0078, 0.1098,  ..., 0.1137, 0.9176, 0.9137],\n",
       "          [0.0078, 0.0078, 0.9176,  ..., 0.0157, 0.1137, 0.1059],\n",
       "          ...,\n",
       "          [0.6157, 0.6118, 0.8196,  ..., 0.3804, 0.2941, 0.4353],\n",
       "          [0.8078, 0.7176, 0.7098,  ..., 0.2902, 0.1725, 0.2235],\n",
       "          [0.7765, 0.7843, 0.8235,  ..., 0.2039, 0.2588, 0.2000]],\n",
       "\n",
       "         [[0.9373, 0.9373, 0.9373,  ..., 0.9294, 0.9216, 0.9255],\n",
       "          [0.9373, 0.0314, 0.0314,  ..., 0.1216, 0.9255, 0.1137],\n",
       "          [0.9373, 0.1294, 0.9373,  ..., 0.0235, 0.1216, 0.1137],\n",
       "          ...,\n",
       "          [0.4941, 0.4941, 0.5020,  ..., 0.2549, 0.2745, 0.3216],\n",
       "          [0.6941, 0.5059, 0.6000,  ..., 0.1608, 0.0431, 0.1098],\n",
       "          [0.5647, 0.5725, 0.6118,  ..., 0.0824, 0.1294, 0.0863]]]])"
      ]
     },
     "execution_count": 8,
     "metadata": {},
     "output_type": "execute_result"
    }
   ],
   "source": [
    "advdata"
   ]
  },
  {
   "cell_type": "code",
   "execution_count": 9,
   "metadata": {},
   "outputs": [
    {
     "data": {
      "text/plain": [
       "tensor([1, 0, 1, 0, 1, 0, 0, 1, 1, 0, 1, 0, 0, 1, 1, 1, 0, 0, 1, 1, 1, 1, 1, 1,\n",
       "        0, 1, 0, 0, 1, 0, 1, 0, 1, 1, 1, 0, 1, 0, 0, 1, 0, 1, 0, 1, 1, 1, 1, 1,\n",
       "        1, 0, 0, 1, 1, 0, 0, 1, 1, 1, 1, 0, 1, 1, 1, 1], dtype=torch.int32)"
      ]
     },
     "execution_count": 9,
     "metadata": {},
     "output_type": "execute_result"
    }
   ],
   "source": [
    "advlabel"
   ]
  },
  {
   "cell_type": "code",
   "execution_count": 10,
   "metadata": {},
   "outputs": [],
   "source": [
    "from dataload import drawCelebAImages\n",
    "drawCelebAImages(advdata,advlabel,\n",
    "                 \"Male\",\n",
    "                 show=False,\n",
    "                 save_path=\"/Project/ZLTProgram/CelebA/Attack_result/AdvImg_\"\\\n",
    "                 +adv_example_dataset.taskname+\".png\")\n"
   ]
  },
  {
   "cell_type": "code",
   "execution_count": 11,
   "metadata": {},
   "outputs": [],
   "source": [
    "drawCelebAImages(rawdata,rawlabel,\n",
    "                 \"Male\",\n",
    "                 show=False,\n",
    "                 save_path=\"/Project/ZLTProgram/CelebA/Attack_result/RawImg_\"\\\n",
    "                 +raw_example_dataset.taskname+\".png\"\n",
    "                 )"
   ]
  }
 ],
 "metadata": {
  "kernelspec": {
   "display_name": "AdversarialSampleDetection",
   "language": "python",
   "name": "python3"
  },
  "language_info": {
   "codemirror_mode": {
    "name": "ipython",
    "version": 3
   },
   "file_extension": ".py",
   "mimetype": "text/x-python",
   "name": "python",
   "nbconvert_exporter": "python",
   "pygments_lexer": "ipython3",
   "version": "3.9.18"
  }
 },
 "nbformat": 4,
 "nbformat_minor": 2
}
