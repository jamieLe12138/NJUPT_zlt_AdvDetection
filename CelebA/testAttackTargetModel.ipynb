{
 "cells": [
  {
   "cell_type": "code",
   "execution_count": 1,
   "metadata": {},
   "outputs": [],
   "source": [
    "from AE_Util import Adversarial_Examples_Generator\n",
    "from art.estimators.classification import PyTorchClassifier\n",
    "from art.attacks.evasion import FastGradientMethod\n",
    "import sys\n",
    "sys.path.append(\"E:/Project/ZLTProgram/\")\n",
    "from Target_model import Target_model\n",
    "import torch\n",
    "import torch.nn as nn\n",
    "from dataload import CELEBA"
   ]
  },
  {
   "cell_type": "code",
   "execution_count": 2,
   "metadata": {},
   "outputs": [
    {
     "data": {
      "text/plain": [
       "<All keys matched successfully>"
      ]
     },
     "execution_count": 2,
     "metadata": {},
     "output_type": "execute_result"
    }
   ],
   "source": [
    "device = 'cuda' if torch.cuda.is_available() else 'cpu'\n",
    "# 加载目标模型\n",
    "target_model=Target_model.ResNet18(2)\n",
    "model_path=\"E:/Project/ModelAndDataset/model/CelebA/CelebA_resnet18_Male.pth\"\n",
    "target_model.load_state_dict(torch.load(model_path))\n",
    "\n",
    "\n"
   ]
  },
  {
   "cell_type": "code",
   "execution_count": 3,
   "metadata": {},
   "outputs": [
    {
     "name": "stdout",
     "output_type": "stream",
     "text": [
      "20\n",
      "Load Test dataset: 10130\n",
      "10130\n"
     ]
    }
   ],
   "source": [
    "from torchvision import transforms\n",
    "from torch.utils.data import DataLoader\n",
    "# 定义数据转换\n",
    "transform=transforms.Compose([transforms.ToTensor(), transforms.RandomHorizontalFlip()])\n",
    "root='E:/Project/ModelAndDataset/data'\n",
    "\n",
    "\n",
    "valid_dataset = CELEBA(root=root,\n",
    "               train=False,\n",
    "               train_ratio=0.95,\n",
    "               transform=transform,\n",
    "               label=\"Male\",\n",
    "               \n",
    ")\n",
    "print(len(valid_dataset))\n"
   ]
  },
  {
   "cell_type": "code",
   "execution_count": 4,
   "metadata": {},
   "outputs": [],
   "source": [
    "estimator=PyTorchClassifier(model=target_model,loss=nn.CrossEntropyLoss(),\n",
    "                            optimizer = torch.optim.Adam(target_model.parameters(), lr=0.001),\n",
    "                            input_shape=(3,64,64), \n",
    "                            nb_classes=2)\n",
    "#定义攻击器\n",
    "attacker = FastGradientMethod(estimator, eps=0.1)\n"
   ]
  },
  {
   "cell_type": "code",
   "execution_count": 5,
   "metadata": {},
   "outputs": [
    {
     "name": "stdout",
     "output_type": "stream",
     "text": [
      "Attack Accuracy:100.00%\n",
      "Save adv_img to E:/Project/ModelAndDataset/data/celebA/Attack/AdvImage_FastGradientMethod_0.1_ResNet18_Male.npy\n",
      "Save adv_label to E:/Project/ModelAndDataset/data/celebA/Attack/AdvLabel_FastGradientMethod_0.1_ResNet18_Male.npy\n",
      "Save raw_img to E:/Project/ModelAndDataset/data/celebA/Attack/RawImages_FastGradientMethod_0.1_ResNet18_Male.npy\n",
      "Save raw_label to E:/Project/ModelAndDataset/data/celebA/Attack/RawLabels_FastGradientMethod_0.1_ResNet18_Male.npy\n"
     ]
    }
   ],
   "source": [
    "generator=Adversarial_Examples_Generator(targetmodel=target_model,\n",
    "                                         task=\"Male\",\n",
    "                                         dataset=valid_dataset,\n",
    "                                         method=attacker,\n",
    "                                         targeted=False,\n",
    "                                         batch_size=64,\n",
    "                                         save_dir=\"E:/Project/ModelAndDataset/data/celebA/Attack\",\n",
    "                                         save_raw=True,\n",
    "                                         device=device)\n",
    "examplepair=generator.generate(64)"
   ]
  },
  {
   "cell_type": "code",
   "execution_count": 1,
   "metadata": {},
   "outputs": [
    {
     "name": "stdout",
     "output_type": "stream",
     "text": [
      "Load images from: E:/Project/ModelAndDataset/data/celebA/Attack/AdvImage_FastGradientMethod_0.1_resnet18_Male.npy\n",
      "Load labels from: E:/Project/ModelAndDataset/data/celebA/Attack/AdvLabel_FastGradientMethod_0.1_resnet18_Male.npy\n"
     ]
    }
   ],
   "source": [
    "from dataload import CELEBA_Attack\n",
    "from torchvision import transforms\n",
    "transform=transforms.Compose([transforms.ToTensor(), transforms.RandomHorizontalFlip()])\n",
    "adv_dir='E:/Project/ModelAndDataset/data/celebA/Attack'\n",
    "adv_example_dataset=CELEBA_Attack(root=adv_dir,\n",
    "                                  adv=True,\n",
    "                                  attackMethod=\"FastGradientMethod\",\n",
    "                                  eps=\"0.1\",\n",
    "                                  model=\"resnet18\",\n",
    "                                  label=\"Male\",\n",
    "                                  transform=transform\n",
    ")"
   ]
  },
  {
   "cell_type": "code",
   "execution_count": 2,
   "metadata": {},
   "outputs": [
    {
     "data": {
      "text/plain": [
       "numpy.memmap"
      ]
     },
     "execution_count": 2,
     "metadata": {},
     "output_type": "execute_result"
    }
   ],
   "source": [
    "type(adv_example_dataset.data)"
   ]
  },
  {
   "cell_type": "code",
   "execution_count": 3,
   "metadata": {},
   "outputs": [
    {
     "name": "stdout",
     "output_type": "stream",
     "text": [
      "(64, 64, 3)\n",
      "<class 'numpy.memmap'>\n",
      "()\n",
      "<class 'numpy.float32'>\n"
     ]
    }
   ],
   "source": [
    "import torch\n",
    "mydataloader=torch.utils.data.DataLoader(adv_example_dataset)\n",
    "data,label=next(iter(mydataloader))"
   ]
  },
  {
   "cell_type": "code",
   "execution_count": 4,
   "metadata": {},
   "outputs": [
    {
     "data": {
      "text/plain": [
       "tensor([[[[0.5686, 0.5608, 0.5333,  ..., 0.8157, 0.8157, 0.8157],\n",
       "          [0.6000, 0.5922, 0.5765,  ..., 0.8196, 0.8157, 0.8196],\n",
       "          [0.6235, 0.6275, 0.4196,  ..., 0.8235, 0.8196, 0.8157],\n",
       "          ...,\n",
       "          [0.9294, 0.9255, 0.1216,  ..., 0.0196, 1.0000, 0.0471],\n",
       "          [1.0000, 0.0431, 0.1216,  ..., 0.0588, 0.0275, 0.0549],\n",
       "          [0.4549, 0.5098, 0.5647,  ..., 0.0275, 0.0431, 0.0275]],\n",
       "\n",
       "         [[0.3686, 0.5608, 0.3294,  ..., 0.8275, 0.8275, 0.8275],\n",
       "          [0.6039, 0.3922, 0.5765,  ..., 0.0275, 0.8275, 0.0275],\n",
       "          [0.4275, 0.4314, 0.6196,  ..., 0.0314, 0.0275, 0.0235],\n",
       "          ...,\n",
       "          [0.0980, 0.1020, 0.1059,  ..., 0.1725, 0.9529, 1.0000],\n",
       "          [0.1882, 0.2510, 0.3333,  ..., 0.0157, 0.9765, 0.9961],\n",
       "          [0.4627, 0.5176, 0.5765,  ..., 0.1843, 0.1922, 0.1725]],\n",
       "\n",
       "         [[0.3255, 0.1216, 0.1098,  ..., 0.8471, 0.8471, 0.8471],\n",
       "          [0.1412, 0.1373, 0.3373,  ..., 0.8510, 0.0431, 0.0471],\n",
       "          [0.1608, 0.1529, 0.1608,  ..., 0.8549, 0.0471, 0.8471],\n",
       "          ...,\n",
       "          [0.0980, 0.1020, 0.1059,  ..., 0.1569, 0.9333, 0.1765],\n",
       "          [0.1725, 0.2275, 0.3098,  ..., 0.9882, 0.9529, 0.9843],\n",
       "          [0.4431, 0.4980, 0.7569,  ..., 0.9804, 0.1922, 0.9922]]]])"
      ]
     },
     "execution_count": 4,
     "metadata": {},
     "output_type": "execute_result"
    }
   ],
   "source": [
    "data"
   ]
  },
  {
   "cell_type": "code",
   "execution_count": 5,
   "metadata": {},
   "outputs": [
    {
     "data": {
      "text/plain": [
       "tensor([1], dtype=torch.int32)"
      ]
     },
     "execution_count": 5,
     "metadata": {},
     "output_type": "execute_result"
    }
   ],
   "source": [
    "label"
   ]
  }
 ],
 "metadata": {
  "kernelspec": {
   "display_name": "AdversarialSampleDetection",
   "language": "python",
   "name": "python3"
  },
  "language_info": {
   "codemirror_mode": {
    "name": "ipython",
    "version": 3
   },
   "file_extension": ".py",
   "mimetype": "text/x-python",
   "name": "python",
   "nbconvert_exporter": "python",
   "pygments_lexer": "ipython3",
   "version": "3.9.18"
  }
 },
 "nbformat": 4,
 "nbformat_minor": 2
}
