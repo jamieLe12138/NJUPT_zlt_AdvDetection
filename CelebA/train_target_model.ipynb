{
 "cells": [
  {
   "cell_type": "code",
   "execution_count": null,
   "metadata": {},
   "outputs": [],
   "source": [
    "from TargetModelTrainer import train_CelebA_target_model\n",
    "\n",
    "root='E:/Project/ModelAndDataset/data'\n",
    "save_path=\"E:/Project/ModelAndDataset/model/CelebA\"\n",
    "\n"
   ]
  },
  {
   "cell_type": "code",
   "execution_count": null,
   "metadata": {},
   "outputs": [],
   "source": [
    "attr_names = [ 'Male', 'Smiling',  'Wearing_Earrings', 'Wearing_Hat',  'Wearing_Necklace', 'Wearing_Necktie']\n",
    "models=['resnet18','vgg19','densenet169','mobilenet']\n",
    "for attr_name in attr_names:\n",
    "    train_CelebA_target_model(root=root,\n",
    "                            save_dir=save_path,\n",
    "                            attr_name=attr_name,\n",
    "                            model=models[0])\n"
   ]
  },
  {
   "cell_type": "code",
   "execution_count": null,
   "metadata": {},
   "outputs": [],
   "source": [
    "for attr_name in attr_names:\n",
    "    train_CelebA_target_model(root=root,\n",
    "                            save_dir=save_path,\n",
    "                            attr_name=attr_name,\n",
    "                            optimizer =\"SGD\",\n",
    "                            model=models[1])"
   ]
  },
  {
   "cell_type": "code",
   "execution_count": null,
   "metadata": {},
   "outputs": [],
   "source": [
    "for attr_name in attr_names:\n",
    "    train_CelebA_target_model(root=root,\n",
    "                            save_dir=save_path,\n",
    "                            attr_name=attr_name,\n",
    "                            model=models[2])"
   ]
  },
  {
   "cell_type": "code",
   "execution_count": null,
   "metadata": {},
   "outputs": [],
   "source": [
    "for attr_name in attr_names:\n",
    "    train_CelebA_target_model(root=root,\n",
    "                            save_dir=save_path,\n",
    "                            attr_name=attr_name,\n",
    "                            optimizer =\"RMSprop\",\n",
    "                            model=models[3])"
   ]
  }
 ],
 "metadata": {
  "kernelspec": {
   "display_name": "AdversarialSampleDetection",
   "language": "python",
   "name": "python3"
  },
  "language_info": {
   "codemirror_mode": {
    "name": "ipython",
    "version": 3
   },
   "file_extension": ".py",
   "mimetype": "text/x-python",
   "name": "python",
   "nbconvert_exporter": "python",
   "pygments_lexer": "ipython3",
   "version": "3.9.18"
  }
 },
 "nbformat": 4,
 "nbformat_minor": 2
}
