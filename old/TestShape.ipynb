{
 "cells": [
  {
   "cell_type": "code",
   "execution_count": 1,
   "metadata": {},
   "outputs": [],
   "source": [
    "\n",
    "import torch.nn as nn\n",
    "import torch"
   ]
  },
  {
   "cell_type": "code",
   "execution_count": 2,
   "metadata": {},
   "outputs": [],
   "source": [
    "# device = 'cuda' if torch.cuda.is_available() else 'cpu'\n",
    "# block=Encoder_cifar10(80,device)\n",
    "# img=torch.randn(128,3,32,32)\n",
    "# img.shape"
   ]
  },
  {
   "cell_type": "code",
   "execution_count": 3,
   "metadata": {},
   "outputs": [],
   "source": [
    "# block"
   ]
  },
  {
   "cell_type": "code",
   "execution_count": 4,
   "metadata": {},
   "outputs": [],
   "source": [
    "# out,_,_=block(img)\n",
    "# out.shape"
   ]
  },
  {
   "cell_type": "code",
   "execution_count": 5,
   "metadata": {},
   "outputs": [],
   "source": [
    "# from cVAE_GAN_cifar10 import ConditionalBatchNorm2d\n",
    "# num_features = 64  # 输入特征的通道数\n",
    "# num_conditions = 10  # 类别数\n",
    "# cbn=ConditionalBatchNorm2d(64,10)\n",
    "# cbn"
   ]
  },
  {
   "cell_type": "code",
   "execution_count": 6,
   "metadata": {},
   "outputs": [],
   "source": [
    "\n",
    "# condition = torch.zeros(32,10)  # 32样本的标签\n",
    "# condition.shape\n",
    "# condition\n"
   ]
  },
  {
   "cell_type": "code",
   "execution_count": 7,
   "metadata": {},
   "outputs": [],
   "source": [
    "# input_data = torch.randn(32, num_features, 32, 32)\n",
    "# input_data.shape\n"
   ]
  },
  {
   "cell_type": "code",
   "execution_count": 8,
   "metadata": {},
   "outputs": [],
   "source": [
    "# output = cbn(input_data, condition)\n",
    "# output.shape"
   ]
  },
  {
   "cell_type": "code",
   "execution_count": 9,
   "metadata": {},
   "outputs": [],
   "source": [
    "# from cVAE_GAN_cifar10 import Decoder_cifar10,Encoder_cifar10\n",
    "# device = 'cuda' if torch.cuda.is_available() else 'cpu'\n",
    "# encoder=Encoder_cifar10(device=device)\n",
    "# decoder=Decoder_cifar10(device=device)\n",
    "# img=torch.randn(32,3,32,32).to(device)\n",
    "# z,_,_=encoder(img)\n",
    "\n"
   ]
  },
  {
   "cell_type": "code",
   "execution_count": 10,
   "metadata": {},
   "outputs": [
    {
     "data": {
      "text/plain": [
       "tensor([[ 0.2602,  1.5583,  1.1365,  ...,  1.4674,  0.0174,  0.6552],\n",
       "        [-1.0887,  1.7266, -1.4496,  ..., -1.0518,  0.7275, -1.9965],\n",
       "        [-0.0031,  0.1548,  1.0807,  ..., -0.6144,  1.5263,  0.6056],\n",
       "        ...,\n",
       "        [ 1.0048,  1.8177,  0.2037,  ..., -0.4347,  0.1568,  0.9865],\n",
       "        [ 0.3209,  1.1892,  0.0469,  ..., -1.0724, -1.5451, -0.2084],\n",
       "        [-3.0097,  0.1170,  0.4446,  ..., -1.4209,  1.3428, -0.4924]],\n",
       "       device='cuda:0', grad_fn=<AddBackward0>)"
      ]
     },
     "execution_count": 10,
     "metadata": {},
     "output_type": "execute_result"
    }
   ],
   "source": [
    "z"
   ]
  },
  {
   "cell_type": "code",
   "execution_count": 11,
   "metadata": {},
   "outputs": [
    {
     "data": {
      "text/plain": [
       "torch.Size([32, 80])"
      ]
     },
     "execution_count": 11,
     "metadata": {},
     "output_type": "execute_result"
    }
   ],
   "source": [
    "z.shape"
   ]
  },
  {
   "cell_type": "code",
   "execution_count": 12,
   "metadata": {},
   "outputs": [],
   "source": [
    "y = torch.randint(low=0, high=9, size=(32,)).to(device)\n"
   ]
  },
  {
   "cell_type": "code",
   "execution_count": 13,
   "metadata": {},
   "outputs": [],
   "source": [
    "img=decoder(z,y)"
   ]
  },
  {
   "cell_type": "code",
   "execution_count": 14,
   "metadata": {},
   "outputs": [
    {
     "data": {
      "text/plain": [
       "tensor([[[[ 8.0569e-02,  1.1307e-01,  1.1286e-01,  ..., -5.5681e-03,\n",
       "            6.6413e-02, -2.5951e-02],\n",
       "          [ 2.4207e-01,  9.8834e-02,  1.9910e-01,  ...,  1.5631e-02,\n",
       "            2.2536e-01,  4.9805e-02],\n",
       "          [ 3.1684e-01,  1.5610e-01, -9.7967e-02,  ..., -3.5694e-01,\n",
       "           -2.2864e-01, -2.9059e-01],\n",
       "          ...,\n",
       "          [ 1.4212e-01,  1.4217e-01,  5.5895e-02,  ...,  2.1847e-01,\n",
       "            2.1037e-01, -5.9748e-02],\n",
       "          [ 4.8573e-02,  3.9703e-02, -1.4663e-03,  ...,  1.1005e-01,\n",
       "            1.7826e-01, -6.7089e-02],\n",
       "          [ 5.7316e-02,  6.3370e-02,  1.1962e-01,  ...,  2.2172e-01,\n",
       "            1.4457e-01,  2.6165e-01]],\n",
       "\n",
       "         [[ 2.4606e-01,  2.8792e-01,  2.5956e-01,  ...,  2.1358e-01,\n",
       "            9.0143e-02, -3.2085e-01],\n",
       "          [-6.9085e-02,  2.6566e-01,  2.7355e-01,  ..., -1.6252e-01,\n",
       "           -2.1033e-01, -4.9805e-01],\n",
       "          [ 8.4792e-02,  3.6032e-01,  3.3655e-01,  ...,  9.7298e-02,\n",
       "           -2.5944e-01, -3.5202e-01],\n",
       "          ...,\n",
       "          [-2.8233e-01, -2.2364e-01, -1.2856e-01,  ...,  2.9655e-01,\n",
       "            2.2472e-02, -4.9884e-02],\n",
       "          [-4.0632e-01, -2.1552e-01, -1.5567e-01,  ..., -1.0520e-01,\n",
       "           -3.7939e-01, -4.5099e-01],\n",
       "          [-6.3862e-02, -2.0291e-01, -1.2398e-01,  ...,  3.8214e-02,\n",
       "           -3.8617e-01, -3.8546e-02]],\n",
       "\n",
       "         [[ 1.5474e-01,  1.6189e-01,  6.3724e-03,  ...,  3.6169e-01,\n",
       "            1.8340e-01, -1.3116e-01],\n",
       "          [ 4.5155e-01,  1.2917e-01,  6.7151e-02,  ...,  1.8987e-01,\n",
       "           -3.6282e-02, -2.8818e-01],\n",
       "          [ 4.9621e-01,  1.4426e-01,  2.5577e-01,  ..., -3.0563e-02,\n",
       "           -3.3758e-01, -5.3308e-01],\n",
       "          ...,\n",
       "          [ 5.9580e-01,  5.4306e-01,  5.6419e-01,  ..., -2.1329e-01,\n",
       "           -2.7090e-01, -3.0043e-01],\n",
       "          [ 3.4395e-01,  2.5495e-01,  1.7327e-01,  ..., -4.7102e-01,\n",
       "           -4.8503e-01, -4.7751e-01],\n",
       "          [ 3.0902e-01,  2.6677e-01,  2.3493e-01,  ..., -1.0833e-01,\n",
       "           -4.6818e-02, -2.5824e-01]]],\n",
       "\n",
       "\n",
       "        [[[ 1.5582e-01,  1.6134e-01,  3.5487e-01,  ...,  5.4434e-01,\n",
       "            4.6492e-01,  1.4172e-01],\n",
       "          [ 3.3696e-01,  2.6883e-01,  4.2017e-01,  ...,  5.5341e-01,\n",
       "            5.8276e-01,  2.9695e-01],\n",
       "          [ 4.4582e-01,  2.5030e-01,  4.0416e-01,  ...,  6.4178e-01,\n",
       "            6.3436e-01,  1.9965e-01],\n",
       "          ...,\n",
       "          [ 1.5586e-01, -6.9750e-02,  2.1790e-01,  ...,  4.8959e-01,\n",
       "            3.8333e-01, -1.0280e-02],\n",
       "          [ 1.2081e-01, -1.3467e-01,  3.8145e-02,  ...,  2.7730e-01,\n",
       "            1.4330e-01, -6.4852e-02],\n",
       "          [ 9.3649e-02, -4.3414e-01, -4.0790e-01,  ...,  2.2399e-01,\n",
       "            2.0179e-01, -1.5298e-01]],\n",
       "\n",
       "         [[-7.5378e-02, -1.3910e-01, -4.1074e-02,  ...,  1.3938e-01,\n",
       "            1.9705e-03, -1.3766e-01],\n",
       "          [ 1.5261e-01, -1.1937e-01,  3.1546e-02,  ...,  3.7995e-01,\n",
       "            2.1804e-01, -2.3058e-01],\n",
       "          [ 2.2786e-01, -9.7544e-02,  9.3608e-03,  ...,  3.6060e-01,\n",
       "            2.5898e-01, -3.4499e-01],\n",
       "          ...,\n",
       "          [ 2.4816e-01, -2.2502e-01, -3.2605e-01,  ...,  1.2492e-01,\n",
       "            1.4199e-01, -2.7075e-01],\n",
       "          [ 1.5830e-01, -1.5198e-01, -3.2301e-01,  ..., -1.8942e-01,\n",
       "           -2.1028e-01, -4.3075e-01],\n",
       "          [ 2.3536e-01, -3.0121e-02, -5.9397e-02,  ..., -1.0683e-01,\n",
       "           -9.6491e-02, -3.7527e-01]],\n",
       "\n",
       "         [[-3.3855e-01, -4.6749e-01, -3.9289e-01,  ...,  6.5200e-02,\n",
       "            5.0161e-02, -1.2423e-01],\n",
       "          [-2.1225e-01, -5.4652e-01, -4.4796e-01,  ...,  3.5779e-02,\n",
       "            1.3732e-02, -1.5360e-01],\n",
       "          [-2.7498e-01, -5.9437e-01, -4.9748e-01,  ..., -1.7367e-01,\n",
       "           -1.4019e-02, -1.8270e-01],\n",
       "          ...,\n",
       "          [-1.0501e-01, -5.2154e-01, -4.7192e-01,  ..., -2.7600e-02,\n",
       "           -1.9089e-01,  8.2632e-02],\n",
       "          [-1.9986e-02, -6.1319e-01, -6.4024e-01,  ...,  4.6517e-02,\n",
       "           -9.2433e-02,  9.1542e-02],\n",
       "          [-1.1494e-01, -4.9213e-01, -3.6972e-01,  ..., -6.5919e-02,\n",
       "           -8.3017e-02,  2.8821e-01]]],\n",
       "\n",
       "\n",
       "        [[[ 7.1410e-02, -2.1906e-01, -1.4117e-01,  ...,  8.2082e-02,\n",
       "           -6.3831e-02, -4.3964e-02],\n",
       "          [ 1.9486e-01, -2.4756e-01, -1.5742e-01,  ...,  9.1833e-02,\n",
       "           -1.7923e-01, -2.0948e-01],\n",
       "          [ 1.4119e-01, -3.5584e-01, -1.7250e-01,  ..., -1.6398e-01,\n",
       "           -3.7813e-01, -2.6043e-01],\n",
       "          ...,\n",
       "          [ 1.6332e-01, -2.9140e-01,  3.0410e-02,  ...,  2.0796e-02,\n",
       "           -2.9597e-01, -2.3520e-01],\n",
       "          [ 2.0667e-01, -2.6152e-01, -1.3811e-02,  ..., -3.3515e-02,\n",
       "           -2.5753e-01, -2.3727e-01],\n",
       "          [ 1.1903e-01, -1.5006e-01,  1.8216e-02,  ...,  9.4600e-03,\n",
       "           -1.3884e-01, -1.2211e-01]],\n",
       "\n",
       "         [[-1.8365e-02,  9.6038e-02,  1.5604e-01,  ...,  1.6167e-01,\n",
       "            1.1145e-01, -1.2993e-01],\n",
       "          [ 9.0280e-02,  4.6833e-02,  7.1605e-03,  ...,  6.8314e-02,\n",
       "            7.4762e-02, -2.1514e-03],\n",
       "          [ 3.3096e-02, -1.1991e-01, -9.3760e-02,  ..., -2.9440e-02,\n",
       "            1.8283e-02, -3.3880e-02],\n",
       "          ...,\n",
       "          [ 1.3482e-01, -2.4612e-01, -1.5160e-01,  ..., -3.4237e-02,\n",
       "            8.3666e-02, -7.1125e-02],\n",
       "          [ 1.3909e-01, -1.5865e-01, -1.3507e-01,  ..., -2.1970e-01,\n",
       "           -4.6006e-02, -2.1920e-01],\n",
       "          [ 1.3901e-01, -8.7668e-02,  2.2827e-05,  ..., -1.0495e-01,\n",
       "           -1.8500e-02, -1.7988e-01]],\n",
       "\n",
       "         [[-1.0890e-01, -9.2591e-02,  3.3305e-02,  ...,  7.5760e-02,\n",
       "            6.3019e-02, -1.1430e-01],\n",
       "          [ 5.8129e-02,  6.6874e-02,  3.0012e-01,  ...,  3.6616e-01,\n",
       "            3.2557e-01,  1.1356e-01],\n",
       "          [ 5.4701e-02, -3.3881e-02,  2.6946e-01,  ...,  4.2490e-01,\n",
       "            3.8050e-01,  5.8043e-02],\n",
       "          ...,\n",
       "          [ 2.2462e-01, -1.1078e-02,  2.4575e-01,  ...,  1.7037e-01,\n",
       "            2.1089e-01, -1.0412e-01],\n",
       "          [ 2.1698e-01, -3.9156e-02,  2.0047e-01,  ...,  1.9412e-01,\n",
       "            2.5448e-01, -1.0840e-01],\n",
       "          [ 2.5042e-01, -1.4627e-01, -6.8521e-02,  ...,  1.9012e-02,\n",
       "            1.4889e-02, -7.1387e-02]]],\n",
       "\n",
       "\n",
       "        ...,\n",
       "\n",
       "\n",
       "        [[[ 6.5054e-02,  1.5627e-01,  1.5943e-01,  ...,  2.4331e-01,\n",
       "            3.3059e-02,  3.1571e-01],\n",
       "          [ 1.4541e-01,  1.6163e-01,  4.7785e-01,  ...,  4.5809e-01,\n",
       "            4.9676e-01,  7.1232e-01],\n",
       "          [ 3.1942e-02,  2.3571e-01,  5.2161e-01,  ...,  3.9903e-01,\n",
       "            3.0806e-01,  6.9259e-01],\n",
       "          ...,\n",
       "          [ 3.4592e-01,  4.0080e-01,  6.1865e-01,  ...,  6.6281e-01,\n",
       "            4.4122e-01,  7.2670e-01],\n",
       "          [ 3.1309e-01,  3.3667e-01,  4.1574e-01,  ...,  6.2054e-01,\n",
       "            5.7843e-01,  5.3291e-01],\n",
       "          [ 4.8426e-01,  6.5607e-01,  6.8254e-01,  ...,  5.7037e-01,\n",
       "            4.7703e-01,  3.0324e-01]],\n",
       "\n",
       "         [[-1.7881e-01, -1.5184e-01, -3.5942e-01,  ..., -3.6707e-01,\n",
       "           -1.7771e-01, -2.4328e-01],\n",
       "          [-8.9521e-03,  3.4995e-01, -5.5931e-02,  ...,  5.0646e-02,\n",
       "           -1.7615e-02,  1.7491e-01],\n",
       "          [-3.1823e-02,  4.0280e-01, -2.8737e-01,  ...,  6.4261e-02,\n",
       "           -6.2043e-02,  2.6637e-01],\n",
       "          ...,\n",
       "          [ 3.0063e-01,  6.5814e-01,  4.9894e-01,  ...,  1.8055e-01,\n",
       "            2.0979e-01,  4.4251e-01],\n",
       "          [ 1.7437e-01,  3.3409e-01,  5.7746e-02,  ...,  9.6251e-03,\n",
       "           -1.8146e-01,  1.4268e-01],\n",
       "          [ 4.1536e-01,  4.8577e-01,  3.4204e-01,  ..., -1.3629e-01,\n",
       "           -6.9436e-02,  1.6968e-02]],\n",
       "\n",
       "         [[ 2.3993e-01, -1.4150e-01, -2.7211e-01,  ...,  2.0093e-03,\n",
       "           -2.7961e-02, -5.7783e-01],\n",
       "          [ 2.5545e-01, -2.4110e-01, -1.2378e-01,  ...,  3.8675e-02,\n",
       "           -1.7134e-01, -5.1116e-01],\n",
       "          [ 2.3721e-01, -8.7947e-02, -8.2556e-02,  ..., -1.5951e-01,\n",
       "           -4.1395e-01, -5.4362e-01],\n",
       "          ...,\n",
       "          [ 2.9935e-01,  5.6185e-02,  1.0504e-01,  ..., -4.5013e-02,\n",
       "           -2.3982e-01, -2.1599e-01],\n",
       "          [ 4.5599e-01,  1.8782e-01,  2.0910e-01,  ..., -1.8447e-02,\n",
       "           -1.5784e-01, -1.1405e-01],\n",
       "          [ 3.1864e-01,  9.6228e-02,  1.3499e-01,  ...,  2.1070e-01,\n",
       "           -1.2081e-02, -5.7571e-02]]],\n",
       "\n",
       "\n",
       "        [[[ 2.4493e-01, -5.1819e-02,  3.3229e-01,  ...,  5.0366e-01,\n",
       "            5.9419e-01,  6.4409e-01],\n",
       "          [ 7.8337e-01,  3.3968e-01,  7.3561e-01,  ...,  7.5784e-01,\n",
       "            8.5153e-01,  6.0341e-01],\n",
       "          [ 7.8026e-01,  7.3505e-01,  9.5417e-01,  ...,  8.1826e-01,\n",
       "            8.5120e-01,  6.2761e-01],\n",
       "          ...,\n",
       "          [ 7.7602e-01,  1.6555e-01,  6.1613e-01,  ...,  3.1784e-01,\n",
       "            4.6211e-01,  3.8845e-01],\n",
       "          [ 7.8302e-01,  5.1136e-01,  7.8838e-01,  ...,  5.9429e-01,\n",
       "            6.9514e-01,  5.9785e-01],\n",
       "          [ 6.2494e-01,  3.2628e-01,  2.6040e-01,  ...,  2.2395e-01,\n",
       "            5.9144e-01,  4.8593e-01]],\n",
       "\n",
       "         [[-2.5498e-01,  2.6241e-01,  8.2193e-02,  ...,  1.0372e-02,\n",
       "            2.7236e-01, -6.9972e-01],\n",
       "          [-6.2317e-01, -4.2253e-01, -6.8001e-01,  ..., -3.1182e-01,\n",
       "           -2.1188e-01, -4.4099e-01],\n",
       "          [-3.7639e-01,  5.2474e-02, -3.4450e-01,  ..., -6.5573e-01,\n",
       "           -4.2269e-01, -5.8305e-01],\n",
       "          ...,\n",
       "          [-6.5802e-01, -7.2686e-01, -8.7223e-01,  ..., -7.5516e-01,\n",
       "           -1.2981e-02, -8.7464e-01],\n",
       "          [-6.8283e-01, -5.2539e-01, -7.2634e-01,  ..., -7.9032e-01,\n",
       "           -5.8049e-01, -8.6246e-01],\n",
       "          [-6.2151e-01, -6.5407e-01, -8.2489e-01,  ..., -7.0918e-01,\n",
       "           -6.1266e-01, -6.5357e-01]],\n",
       "\n",
       "         [[ 4.4700e-01, -1.5666e-01,  1.5010e-01,  ...,  2.0689e-01,\n",
       "            6.9731e-02, -1.4263e-01],\n",
       "          [ 6.6406e-01,  6.0847e-02,  2.3731e-01,  ..., -5.2289e-01,\n",
       "           -6.9716e-01, -7.3406e-01],\n",
       "          [ 6.9268e-01,  6.4927e-02, -1.4459e-01,  ..., -5.6314e-01,\n",
       "           -7.6249e-01, -7.6616e-01],\n",
       "          ...,\n",
       "          [ 9.3138e-02, -3.8666e-01, -7.9557e-01,  ..., -8.5421e-01,\n",
       "           -8.5476e-01, -7.8298e-01],\n",
       "          [ 2.9690e-01, -5.5859e-02, -7.3421e-01,  ..., -9.0951e-01,\n",
       "           -8.0430e-01, -8.1414e-01],\n",
       "          [-1.5232e-01, -2.5219e-01, -4.5632e-01,  ..., -8.5846e-01,\n",
       "           -6.6148e-01, -7.4197e-01]]],\n",
       "\n",
       "\n",
       "        [[[ 3.7779e-01,  2.3664e-01,  2.9309e-01,  ...,  5.7717e-01,\n",
       "            4.3368e-01,  5.4206e-01],\n",
       "          [ 1.7261e-01,  1.5971e-01,  1.2169e-01,  ...,  1.3103e-01,\n",
       "            3.5837e-02,  3.4319e-01],\n",
       "          [ 2.3675e-01,  3.1347e-01,  3.0425e-01,  ...,  1.1622e-01,\n",
       "           -5.1454e-02,  2.1859e-01],\n",
       "          ...,\n",
       "          [ 3.9330e-01,  5.1031e-01,  5.0782e-01,  ..., -2.7107e-01,\n",
       "           -2.3637e-01, -1.9999e-01],\n",
       "          [ 3.0458e-01,  5.4479e-01,  3.9441e-01,  ..., -5.8075e-02,\n",
       "           -1.1507e-01,  4.1873e-02],\n",
       "          [ 3.6933e-03,  1.0569e-01,  1.0753e-02,  ..., -2.4516e-01,\n",
       "            1.0148e-03, -2.1091e-01]],\n",
       "\n",
       "         [[-1.9866e-01, -3.1668e-01,  5.9925e-03,  ..., -4.0979e-01,\n",
       "           -4.6121e-01, -4.9897e-01],\n",
       "          [-1.8552e-01, -3.3931e-01,  2.5626e-01,  ..., -5.1104e-01,\n",
       "           -7.3478e-01, -6.5439e-01],\n",
       "          [ 8.4832e-03, -3.7935e-02,  3.6819e-01,  ..., -2.7297e-01,\n",
       "           -6.1348e-01, -6.2146e-01],\n",
       "          ...,\n",
       "          [ 2.6290e-01, -3.5172e-01, -4.1693e-02,  ..., -5.4978e-01,\n",
       "           -6.3192e-01, -5.6121e-01],\n",
       "          [ 4.7702e-02, -6.4596e-01, -4.0546e-01,  ..., -4.3368e-01,\n",
       "           -5.7016e-01, -5.2964e-01],\n",
       "          [-1.4352e-01, -2.1101e-01, -1.8351e-01,  ..., -3.2619e-01,\n",
       "           -3.9978e-01, -4.0061e-01]],\n",
       "\n",
       "         [[ 4.4961e-02, -2.4646e-01,  1.3897e-01,  ...,  1.6262e-01,\n",
       "           -3.4227e-02, -2.5879e-02],\n",
       "          [ 3.2928e-01,  2.7951e-01,  3.4649e-01,  ...,  1.2745e-01,\n",
       "            1.2824e-01, -1.7591e-02],\n",
       "          [ 2.7925e-01,  1.9859e-01,  2.8456e-01,  ...,  2.3847e-01,\n",
       "            3.1020e-01,  7.5312e-02],\n",
       "          ...,\n",
       "          [ 1.8979e-01,  8.2837e-02,  1.8575e-01,  ...,  4.2643e-01,\n",
       "            5.5544e-01,  3.1017e-01],\n",
       "          [ 1.9178e-01, -1.2719e-01, -9.9443e-02,  ...,  1.0499e-01,\n",
       "            4.5976e-01,  3.2242e-01],\n",
       "          [ 2.9492e-02, -3.5429e-01, -3.7691e-01,  ..., -3.7845e-03,\n",
       "            3.5269e-02, -2.0479e-01]]]], device='cuda:0',\n",
       "       grad_fn=<TanhBackward0>)"
      ]
     },
     "execution_count": 14,
     "metadata": {},
     "output_type": "execute_result"
    }
   ],
   "source": [
    "img"
   ]
  },
  {
   "cell_type": "code",
   "execution_count": 15,
   "metadata": {},
   "outputs": [
    {
     "data": {
      "text/plain": [
       "torch.Size([32, 3, 32, 32])"
      ]
     },
     "execution_count": 15,
     "metadata": {},
     "output_type": "execute_result"
    }
   ],
   "source": [
    "img.shape"
   ]
  },
  {
   "cell_type": "code",
   "execution_count": 16,
   "metadata": {},
   "outputs": [
    {
     "data": {
      "text/plain": [
       "Decoder_cifar10(\n",
       "  (linear): Linear(in_features=20, out_features=6144, bias=True)\n",
       "  (embed): Embedding(10, 128)\n",
       "  (gen_blocks): ModuleList(\n",
       "    (0): DecoderBlock(\n",
       "      (conv): Conv2d(384, 384, kernel_size=(1, 1), stride=(1, 1), padding=same)\n",
       "      (linear): Linear(in_features=148, out_features=10, bias=True)\n",
       "      (cbn): ConditionalBatchNorm2d(\n",
       "        (bn): BatchNorm2d(384, eps=1e-05, momentum=0.1, affine=False, track_running_stats=True)\n",
       "        (gamma_embed): Linear(in_features=10, out_features=384, bias=True)\n",
       "        (beta_embed): Linear(in_features=10, out_features=384, bias=True)\n",
       "      )\n",
       "      (upsample1): Upsample(size=(8, 8), mode='bilinear')\n",
       "      (upsample2): Upsample(size=(8, 8), mode='bilinear')\n",
       "      (relu): ReLU()\n",
       "      (conv_cbns): ModuleList(\n",
       "        (0-1): 2 x Decoder_Conv_CBN(\n",
       "          (conv): Conv2d(384, 384, kernel_size=(3, 3), stride=(1, 1), padding=same)\n",
       "          (cbn): ConditionalBatchNorm2d(\n",
       "            (bn): BatchNorm2d(384, eps=1e-05, momentum=0.1, affine=False, track_running_stats=True)\n",
       "            (gamma_embed): Linear(in_features=10, out_features=384, bias=True)\n",
       "            (beta_embed): Linear(in_features=10, out_features=384, bias=True)\n",
       "          )\n",
       "          (linear): Linear(in_features=148, out_features=10, bias=True)\n",
       "          (relu): ReLU()\n",
       "        )\n",
       "      )\n",
       "    )\n",
       "    (1): DecoderBlock(\n",
       "      (conv): Conv2d(384, 384, kernel_size=(1, 1), stride=(1, 1), padding=same)\n",
       "      (linear): Linear(in_features=148, out_features=10, bias=True)\n",
       "      (cbn): ConditionalBatchNorm2d(\n",
       "        (bn): BatchNorm2d(384, eps=1e-05, momentum=0.1, affine=False, track_running_stats=True)\n",
       "        (gamma_embed): Linear(in_features=10, out_features=384, bias=True)\n",
       "        (beta_embed): Linear(in_features=10, out_features=384, bias=True)\n",
       "      )\n",
       "      (upsample1): Upsample(size=(16, 16), mode='bilinear')\n",
       "      (upsample2): Upsample(size=(16, 16), mode='bilinear')\n",
       "      (relu): ReLU()\n",
       "      (conv_cbns): ModuleList(\n",
       "        (0-1): 2 x Decoder_Conv_CBN(\n",
       "          (conv): Conv2d(384, 384, kernel_size=(3, 3), stride=(1, 1), padding=same)\n",
       "          (cbn): ConditionalBatchNorm2d(\n",
       "            (bn): BatchNorm2d(384, eps=1e-05, momentum=0.1, affine=False, track_running_stats=True)\n",
       "            (gamma_embed): Linear(in_features=10, out_features=384, bias=True)\n",
       "            (beta_embed): Linear(in_features=10, out_features=384, bias=True)\n",
       "          )\n",
       "          (linear): Linear(in_features=148, out_features=10, bias=True)\n",
       "          (relu): ReLU()\n",
       "        )\n",
       "      )\n",
       "    )\n",
       "    (2): DecoderBlock(\n",
       "      (conv): Conv2d(384, 384, kernel_size=(1, 1), stride=(1, 1), padding=same)\n",
       "      (linear): Linear(in_features=148, out_features=10, bias=True)\n",
       "      (cbn): ConditionalBatchNorm2d(\n",
       "        (bn): BatchNorm2d(384, eps=1e-05, momentum=0.1, affine=False, track_running_stats=True)\n",
       "        (gamma_embed): Linear(in_features=10, out_features=384, bias=True)\n",
       "        (beta_embed): Linear(in_features=10, out_features=384, bias=True)\n",
       "      )\n",
       "      (upsample1): Upsample(size=(32, 32), mode='bilinear')\n",
       "      (upsample2): Upsample(size=(32, 32), mode='bilinear')\n",
       "      (relu): ReLU()\n",
       "      (conv_cbns): ModuleList(\n",
       "        (0-1): 2 x Decoder_Conv_CBN(\n",
       "          (conv): Conv2d(384, 384, kernel_size=(3, 3), stride=(1, 1), padding=same)\n",
       "          (cbn): ConditionalBatchNorm2d(\n",
       "            (bn): BatchNorm2d(384, eps=1e-05, momentum=0.1, affine=False, track_running_stats=True)\n",
       "            (gamma_embed): Linear(in_features=10, out_features=384, bias=True)\n",
       "            (beta_embed): Linear(in_features=10, out_features=384, bias=True)\n",
       "          )\n",
       "          (linear): Linear(in_features=148, out_features=10, bias=True)\n",
       "          (relu): ReLU()\n",
       "        )\n",
       "      )\n",
       "    )\n",
       "  )\n",
       "  (BnReLu): Sequential(\n",
       "    (0): BatchNorm2d(384, eps=1e-05, momentum=0.1, affine=True, track_running_stats=True)\n",
       "    (1): ReLU()\n",
       "  )\n",
       "  (conv): Conv2d(384, 3, kernel_size=(3, 3), stride=(1, 1), padding=same)\n",
       "  (tanh): Tanh()\n",
       ")"
      ]
     },
     "execution_count": 16,
     "metadata": {},
     "output_type": "execute_result"
    }
   ],
   "source": [
    "decoder"
   ]
  },
  {
   "cell_type": "code",
   "execution_count": 17,
   "metadata": {},
   "outputs": [],
   "source": [
    "from cVAE_GAN_cifar10 import Discriminator_cifar10\n",
    "discriminator=Discriminator_cifar10(device=device)\n"
   ]
  },
  {
   "cell_type": "code",
   "execution_count": 18,
   "metadata": {},
   "outputs": [
    {
     "data": {
      "text/plain": [
       "Discriminator_cifar10(\n",
       "  (embed): Embedding(10, 192)\n",
       "  (dis_block0): DisBlock(\n",
       "    (conv): Conv2d(3, 192, kernel_size=(1, 1), stride=(1, 1), padding=same)\n",
       "    (downsample1): AvgPool2d(kernel_size=2, stride=2, padding=0)\n",
       "    (downsample2): AvgPool2d(kernel_size=2, stride=2, padding=0)\n",
       "    (bn_relu_conv): Sequential(\n",
       "      (0): Dis_BN_Relu_Conv(\n",
       "        (bn): BatchNorm2d(3, eps=1e-05, momentum=0.1, affine=True, track_running_stats=True)\n",
       "        (relu): ReLU()\n",
       "        (conv): Conv2d(3, 192, kernel_size=(3, 3), stride=(1, 1), padding=same)\n",
       "      )\n",
       "      (1): Dis_BN_Relu_Conv(\n",
       "        (bn): BatchNorm2d(192, eps=1e-05, momentum=0.1, affine=True, track_running_stats=True)\n",
       "        (relu): ReLU()\n",
       "        (conv): Conv2d(192, 192, kernel_size=(3, 3), stride=(1, 1), padding=same)\n",
       "      )\n",
       "    )\n",
       "  )\n",
       "  (dis_block1): DisBlock(\n",
       "    (conv): Conv2d(192, 192, kernel_size=(1, 1), stride=(1, 1), padding=same)\n",
       "    (downsample1): AvgPool2d(kernel_size=2, stride=2, padding=0)\n",
       "    (downsample2): AvgPool2d(kernel_size=2, stride=2, padding=0)\n",
       "    (bn_relu_conv): Sequential(\n",
       "      (0): Dis_BN_Relu_Conv(\n",
       "        (bn): BatchNorm2d(192, eps=1e-05, momentum=0.1, affine=True, track_running_stats=True)\n",
       "        (relu): ReLU()\n",
       "        (conv): Conv2d(192, 192, kernel_size=(3, 3), stride=(1, 1), padding=same)\n",
       "      )\n",
       "      (1): Dis_BN_Relu_Conv(\n",
       "        (bn): BatchNorm2d(192, eps=1e-05, momentum=0.1, affine=True, track_running_stats=True)\n",
       "        (relu): ReLU()\n",
       "        (conv): Conv2d(192, 192, kernel_size=(3, 3), stride=(1, 1), padding=same)\n",
       "      )\n",
       "    )\n",
       "  )\n",
       "  (dis_block2): DisBlock(\n",
       "    (conv): Conv2d(192, 192, kernel_size=(1, 1), stride=(1, 1), padding=same)\n",
       "    (bn_relu_conv): Sequential(\n",
       "      (0): Dis_BN_Relu_Conv(\n",
       "        (bn): BatchNorm2d(192, eps=1e-05, momentum=0.1, affine=True, track_running_stats=True)\n",
       "        (relu): ReLU()\n",
       "        (conv): Conv2d(192, 192, kernel_size=(3, 3), stride=(1, 1), padding=same)\n",
       "      )\n",
       "      (1): Dis_BN_Relu_Conv(\n",
       "        (bn): BatchNorm2d(192, eps=1e-05, momentum=0.1, affine=True, track_running_stats=True)\n",
       "        (relu): ReLU()\n",
       "        (conv): Conv2d(192, 192, kernel_size=(3, 3), stride=(1, 1), padding=same)\n",
       "      )\n",
       "    )\n",
       "  )\n",
       "  (dis_block3): DisBlock(\n",
       "    (conv): Conv2d(192, 192, kernel_size=(1, 1), stride=(1, 1), padding=same)\n",
       "    (bn_relu_conv): Sequential(\n",
       "      (0): Dis_BN_Relu_Conv(\n",
       "        (bn): BatchNorm2d(192, eps=1e-05, momentum=0.1, affine=True, track_running_stats=True)\n",
       "        (relu): ReLU()\n",
       "        (conv): Conv2d(192, 192, kernel_size=(3, 3), stride=(1, 1), padding=same)\n",
       "      )\n",
       "      (1): Dis_BN_Relu_Conv(\n",
       "        (bn): BatchNorm2d(192, eps=1e-05, momentum=0.1, affine=True, track_running_stats=True)\n",
       "        (relu): ReLU()\n",
       "        (conv): Conv2d(192, 192, kernel_size=(3, 3), stride=(1, 1), padding=same)\n",
       "      )\n",
       "    )\n",
       "  )\n",
       "  (relu): ReLU()\n",
       "  (linear1): Sequential(\n",
       "    (0): Linear(in_features=192, out_features=192, bias=True)\n",
       "    (1): ReLU()\n",
       "  )\n",
       "  (linear2): Linear(in_features=192, out_features=1, bias=True)\n",
       ")"
      ]
     },
     "execution_count": 18,
     "metadata": {},
     "output_type": "execute_result"
    }
   ],
   "source": [
    "discriminator"
   ]
  },
  {
   "cell_type": "code",
   "execution_count": 19,
   "metadata": {},
   "outputs": [
    {
     "data": {
      "text/plain": [
       "torch.Size([32, 1])"
      ]
     },
     "execution_count": 19,
     "metadata": {},
     "output_type": "execute_result"
    }
   ],
   "source": [
    "from cVAE_GAN_cifar10 import Discriminator_cifar10\n",
    "discriminator=Discriminator_cifar10(device=device)\n",
    "score=discriminator(img,y)\n",
    "score.shape"
   ]
  },
  {
   "cell_type": "code",
   "execution_count": 20,
   "metadata": {},
   "outputs": [
    {
     "data": {
      "text/plain": [
       "tensor([[ 2.8632],\n",
       "        [ 6.0770],\n",
       "        [ 1.3480],\n",
       "        [-4.7771],\n",
       "        [ 8.8658],\n",
       "        [-6.5485],\n",
       "        [ 0.9432],\n",
       "        [ 2.6607],\n",
       "        [ 3.0489],\n",
       "        [-5.2432],\n",
       "        [ 1.8068],\n",
       "        [-1.1706],\n",
       "        [-0.0584],\n",
       "        [ 1.3532],\n",
       "        [-1.6888],\n",
       "        [ 6.3777],\n",
       "        [-4.6716],\n",
       "        [ 5.6119],\n",
       "        [21.1293],\n",
       "        [ 4.6705],\n",
       "        [-6.0032],\n",
       "        [ 5.4434],\n",
       "        [ 3.1332],\n",
       "        [ 3.4111],\n",
       "        [ 2.8303],\n",
       "        [ 3.6022],\n",
       "        [11.5742],\n",
       "        [-0.1712],\n",
       "        [-8.1517],\n",
       "        [11.9145],\n",
       "        [11.1970],\n",
       "        [ 5.1995]], device='cuda:0', grad_fn=<AddmmBackward0>)"
      ]
     },
     "execution_count": 20,
     "metadata": {},
     "output_type": "execute_result"
    }
   ],
   "source": [
    "score"
   ]
  }
 ],
 "metadata": {
  "kernelspec": {
   "display_name": "AdversarialSampleDetection",
   "language": "python",
   "name": "python3"
  },
  "language_info": {
   "codemirror_mode": {
    "name": "ipython",
    "version": 3
   },
   "file_extension": ".py",
   "mimetype": "text/x-python",
   "name": "python",
   "nbconvert_exporter": "python",
   "pygments_lexer": "ipython3",
   "version": "3.9.18"
  }
 },
 "nbformat": 4,
 "nbformat_minor": 2
}
