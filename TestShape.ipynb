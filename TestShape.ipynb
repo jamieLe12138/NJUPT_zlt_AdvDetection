{
 "cells": [
  {
   "cell_type": "code",
   "execution_count": 1,
   "metadata": {},
   "outputs": [],
   "source": [
    "\n",
    "import torch.nn as nn\n",
    "import torch"
   ]
  },
  {
   "cell_type": "code",
   "execution_count": 2,
   "metadata": {},
   "outputs": [],
   "source": [
    "# device = 'cuda' if torch.cuda.is_available() else 'cpu'\n",
    "# block=Encoder_cifar10(80,device)\n",
    "# img=torch.randn(128,3,32,32)\n",
    "# img.shape"
   ]
  },
  {
   "cell_type": "code",
   "execution_count": 3,
   "metadata": {},
   "outputs": [],
   "source": [
    "# block"
   ]
  },
  {
   "cell_type": "code",
   "execution_count": 4,
   "metadata": {},
   "outputs": [],
   "source": [
    "# out,_,_=block(img)\n",
    "# out.shape"
   ]
  },
  {
   "cell_type": "code",
   "execution_count": 5,
   "metadata": {},
   "outputs": [],
   "source": [
    "# from cVAE_GAN_cifar10 import ConditionalBatchNorm2d\n",
    "# num_features = 64  # 输入特征的通道数\n",
    "# num_conditions = 10  # 类别数\n",
    "# cbn=ConditionalBatchNorm2d(64,10)\n",
    "# cbn"
   ]
  },
  {
   "cell_type": "code",
   "execution_count": 6,
   "metadata": {},
   "outputs": [],
   "source": [
    "\n",
    "# condition = torch.zeros(32,10)  # 32样本的标签\n",
    "# condition.shape\n",
    "# condition\n"
   ]
  },
  {
   "cell_type": "code",
   "execution_count": 7,
   "metadata": {},
   "outputs": [],
   "source": [
    "# input_data = torch.randn(32, num_features, 32, 32)\n",
    "# input_data.shape\n"
   ]
  },
  {
   "cell_type": "code",
   "execution_count": 8,
   "metadata": {},
   "outputs": [],
   "source": [
    "# output = cbn(input_data, condition)\n",
    "# output.shape"
   ]
  },
  {
   "cell_type": "code",
   "execution_count": 9,
   "metadata": {},
   "outputs": [
    {
     "ename": "RuntimeError",
     "evalue": "Input type (torch.cuda.FloatTensor) and weight type (torch.FloatTensor) should be the same",
     "output_type": "error",
     "traceback": [
      "\u001b[1;31m---------------------------------------------------------------------------\u001b[0m",
      "\u001b[1;31mRuntimeError\u001b[0m                              Traceback (most recent call last)",
      "\u001b[1;32me:\\Project\\ZLTProgram\\TestShape.ipynb Cell 9\u001b[0m line \u001b[0;36m6\n\u001b[0;32m      <a href='vscode-notebook-cell:/e%3A/Project/ZLTProgram/TestShape.ipynb#X11sZmlsZQ%3D%3D?line=3'>4</a>\u001b[0m decoder\u001b[39m=\u001b[39mDecoder_cifar10(device\u001b[39m=\u001b[39mdevice)\n\u001b[0;32m      <a href='vscode-notebook-cell:/e%3A/Project/ZLTProgram/TestShape.ipynb#X11sZmlsZQ%3D%3D?line=4'>5</a>\u001b[0m img\u001b[39m=\u001b[39mtorch\u001b[39m.\u001b[39mrandn(\u001b[39m32\u001b[39m,\u001b[39m3\u001b[39m,\u001b[39m32\u001b[39m,\u001b[39m32\u001b[39m)\u001b[39m.\u001b[39mto(device)\n\u001b[1;32m----> <a href='vscode-notebook-cell:/e%3A/Project/ZLTProgram/TestShape.ipynb#X11sZmlsZQ%3D%3D?line=5'>6</a>\u001b[0m z,_,_\u001b[39m=\u001b[39mencoder(img)\n",
      "File \u001b[1;32md:\\Anaconda\\envs\\AdversarialSampleDetection\\lib\\site-packages\\torch\\nn\\modules\\module.py:1519\u001b[0m, in \u001b[0;36mModule._wrapped_call_impl\u001b[1;34m(self, *args, **kwargs)\u001b[0m\n\u001b[0;32m   1517\u001b[0m     \u001b[39mreturn\u001b[39;00m \u001b[39mself\u001b[39m\u001b[39m.\u001b[39m_compiled_call_impl(\u001b[39m*\u001b[39margs, \u001b[39m*\u001b[39m\u001b[39m*\u001b[39mkwargs)  \u001b[39m# type: ignore[misc]\u001b[39;00m\n\u001b[0;32m   1518\u001b[0m \u001b[39melse\u001b[39;00m:\n\u001b[1;32m-> 1519\u001b[0m     \u001b[39mreturn\u001b[39;00m \u001b[39mself\u001b[39m\u001b[39m.\u001b[39m_call_impl(\u001b[39m*\u001b[39margs, \u001b[39m*\u001b[39m\u001b[39m*\u001b[39mkwargs)\n",
      "File \u001b[1;32md:\\Anaconda\\envs\\AdversarialSampleDetection\\lib\\site-packages\\torch\\nn\\modules\\module.py:1528\u001b[0m, in \u001b[0;36mModule._call_impl\u001b[1;34m(self, *args, **kwargs)\u001b[0m\n\u001b[0;32m   1523\u001b[0m \u001b[39m# If we don't have any hooks, we want to skip the rest of the logic in\u001b[39;00m\n\u001b[0;32m   1524\u001b[0m \u001b[39m# this function, and just call forward.\u001b[39;00m\n\u001b[0;32m   1525\u001b[0m \u001b[39mif\u001b[39;00m \u001b[39mnot\u001b[39;00m (\u001b[39mself\u001b[39m\u001b[39m.\u001b[39m_backward_hooks \u001b[39mor\u001b[39;00m \u001b[39mself\u001b[39m\u001b[39m.\u001b[39m_backward_pre_hooks \u001b[39mor\u001b[39;00m \u001b[39mself\u001b[39m\u001b[39m.\u001b[39m_forward_hooks \u001b[39mor\u001b[39;00m \u001b[39mself\u001b[39m\u001b[39m.\u001b[39m_forward_pre_hooks\n\u001b[0;32m   1526\u001b[0m         \u001b[39mor\u001b[39;00m _global_backward_pre_hooks \u001b[39mor\u001b[39;00m _global_backward_hooks\n\u001b[0;32m   1527\u001b[0m         \u001b[39mor\u001b[39;00m _global_forward_hooks \u001b[39mor\u001b[39;00m _global_forward_pre_hooks):\n\u001b[1;32m-> 1528\u001b[0m     \u001b[39mreturn\u001b[39;00m forward_call(\u001b[39m*\u001b[39margs, \u001b[39m*\u001b[39m\u001b[39m*\u001b[39mkwargs)\n\u001b[0;32m   1530\u001b[0m \u001b[39mtry\u001b[39;00m:\n\u001b[0;32m   1531\u001b[0m     result \u001b[39m=\u001b[39m \u001b[39mNone\u001b[39;00m\n",
      "File \u001b[1;32me:\\Project\\ZLTProgram\\cVAE_GAN_cifar10.py:68\u001b[0m, in \u001b[0;36mEncoder_cifar10.forward\u001b[1;34m(self, x)\u001b[0m\n\u001b[0;32m     67\u001b[0m \u001b[39mdef\u001b[39;00m \u001b[39mforward\u001b[39m(\u001b[39mself\u001b[39m,x):\n\u001b[1;32m---> 68\u001b[0m     out1, out2 \u001b[39m=\u001b[39m \u001b[39mself\u001b[39;49m\u001b[39m.\u001b[39;49mencoder_conv(x), \u001b[39mself\u001b[39m\u001b[39m.\u001b[39mencoder_conv(x)\n\u001b[0;32m     69\u001b[0m     mean \u001b[39m=\u001b[39m \u001b[39mself\u001b[39m\u001b[39m.\u001b[39mencoder_fc1(out1)\u001b[39m.\u001b[39mto(\u001b[39mself\u001b[39m\u001b[39m.\u001b[39mdevice)\n\u001b[0;32m     70\u001b[0m     logstd \u001b[39m=\u001b[39m \u001b[39mself\u001b[39m\u001b[39m.\u001b[39mencoder_fc2(out2)\u001b[39m.\u001b[39mto(\u001b[39mself\u001b[39m\u001b[39m.\u001b[39mdevice)\n",
      "File \u001b[1;32md:\\Anaconda\\envs\\AdversarialSampleDetection\\lib\\site-packages\\torch\\nn\\modules\\module.py:1519\u001b[0m, in \u001b[0;36mModule._wrapped_call_impl\u001b[1;34m(self, *args, **kwargs)\u001b[0m\n\u001b[0;32m   1517\u001b[0m     \u001b[39mreturn\u001b[39;00m \u001b[39mself\u001b[39m\u001b[39m.\u001b[39m_compiled_call_impl(\u001b[39m*\u001b[39margs, \u001b[39m*\u001b[39m\u001b[39m*\u001b[39mkwargs)  \u001b[39m# type: ignore[misc]\u001b[39;00m\n\u001b[0;32m   1518\u001b[0m \u001b[39melse\u001b[39;00m:\n\u001b[1;32m-> 1519\u001b[0m     \u001b[39mreturn\u001b[39;00m \u001b[39mself\u001b[39m\u001b[39m.\u001b[39m_call_impl(\u001b[39m*\u001b[39margs, \u001b[39m*\u001b[39m\u001b[39m*\u001b[39mkwargs)\n",
      "File \u001b[1;32md:\\Anaconda\\envs\\AdversarialSampleDetection\\lib\\site-packages\\torch\\nn\\modules\\module.py:1528\u001b[0m, in \u001b[0;36mModule._call_impl\u001b[1;34m(self, *args, **kwargs)\u001b[0m\n\u001b[0;32m   1523\u001b[0m \u001b[39m# If we don't have any hooks, we want to skip the rest of the logic in\u001b[39;00m\n\u001b[0;32m   1524\u001b[0m \u001b[39m# this function, and just call forward.\u001b[39;00m\n\u001b[0;32m   1525\u001b[0m \u001b[39mif\u001b[39;00m \u001b[39mnot\u001b[39;00m (\u001b[39mself\u001b[39m\u001b[39m.\u001b[39m_backward_hooks \u001b[39mor\u001b[39;00m \u001b[39mself\u001b[39m\u001b[39m.\u001b[39m_backward_pre_hooks \u001b[39mor\u001b[39;00m \u001b[39mself\u001b[39m\u001b[39m.\u001b[39m_forward_hooks \u001b[39mor\u001b[39;00m \u001b[39mself\u001b[39m\u001b[39m.\u001b[39m_forward_pre_hooks\n\u001b[0;32m   1526\u001b[0m         \u001b[39mor\u001b[39;00m _global_backward_pre_hooks \u001b[39mor\u001b[39;00m _global_backward_hooks\n\u001b[0;32m   1527\u001b[0m         \u001b[39mor\u001b[39;00m _global_forward_hooks \u001b[39mor\u001b[39;00m _global_forward_pre_hooks):\n\u001b[1;32m-> 1528\u001b[0m     \u001b[39mreturn\u001b[39;00m forward_call(\u001b[39m*\u001b[39margs, \u001b[39m*\u001b[39m\u001b[39m*\u001b[39mkwargs)\n\u001b[0;32m   1530\u001b[0m \u001b[39mtry\u001b[39;00m:\n\u001b[0;32m   1531\u001b[0m     result \u001b[39m=\u001b[39m \u001b[39mNone\u001b[39;00m\n",
      "File \u001b[1;32md:\\Anaconda\\envs\\AdversarialSampleDetection\\lib\\site-packages\\torch\\nn\\modules\\container.py:215\u001b[0m, in \u001b[0;36mSequential.forward\u001b[1;34m(self, input)\u001b[0m\n\u001b[0;32m    213\u001b[0m \u001b[39mdef\u001b[39;00m \u001b[39mforward\u001b[39m(\u001b[39mself\u001b[39m, \u001b[39minput\u001b[39m):\n\u001b[0;32m    214\u001b[0m     \u001b[39mfor\u001b[39;00m module \u001b[39min\u001b[39;00m \u001b[39mself\u001b[39m:\n\u001b[1;32m--> 215\u001b[0m         \u001b[39minput\u001b[39m \u001b[39m=\u001b[39m module(\u001b[39minput\u001b[39;49m)\n\u001b[0;32m    216\u001b[0m     \u001b[39mreturn\u001b[39;00m \u001b[39minput\u001b[39m\n",
      "File \u001b[1;32md:\\Anaconda\\envs\\AdversarialSampleDetection\\lib\\site-packages\\torch\\nn\\modules\\module.py:1519\u001b[0m, in \u001b[0;36mModule._wrapped_call_impl\u001b[1;34m(self, *args, **kwargs)\u001b[0m\n\u001b[0;32m   1517\u001b[0m     \u001b[39mreturn\u001b[39;00m \u001b[39mself\u001b[39m\u001b[39m.\u001b[39m_compiled_call_impl(\u001b[39m*\u001b[39margs, \u001b[39m*\u001b[39m\u001b[39m*\u001b[39mkwargs)  \u001b[39m# type: ignore[misc]\u001b[39;00m\n\u001b[0;32m   1518\u001b[0m \u001b[39melse\u001b[39;00m:\n\u001b[1;32m-> 1519\u001b[0m     \u001b[39mreturn\u001b[39;00m \u001b[39mself\u001b[39m\u001b[39m.\u001b[39m_call_impl(\u001b[39m*\u001b[39margs, \u001b[39m*\u001b[39m\u001b[39m*\u001b[39mkwargs)\n",
      "File \u001b[1;32md:\\Anaconda\\envs\\AdversarialSampleDetection\\lib\\site-packages\\torch\\nn\\modules\\module.py:1528\u001b[0m, in \u001b[0;36mModule._call_impl\u001b[1;34m(self, *args, **kwargs)\u001b[0m\n\u001b[0;32m   1523\u001b[0m \u001b[39m# If we don't have any hooks, we want to skip the rest of the logic in\u001b[39;00m\n\u001b[0;32m   1524\u001b[0m \u001b[39m# this function, and just call forward.\u001b[39;00m\n\u001b[0;32m   1525\u001b[0m \u001b[39mif\u001b[39;00m \u001b[39mnot\u001b[39;00m (\u001b[39mself\u001b[39m\u001b[39m.\u001b[39m_backward_hooks \u001b[39mor\u001b[39;00m \u001b[39mself\u001b[39m\u001b[39m.\u001b[39m_backward_pre_hooks \u001b[39mor\u001b[39;00m \u001b[39mself\u001b[39m\u001b[39m.\u001b[39m_forward_hooks \u001b[39mor\u001b[39;00m \u001b[39mself\u001b[39m\u001b[39m.\u001b[39m_forward_pre_hooks\n\u001b[0;32m   1526\u001b[0m         \u001b[39mor\u001b[39;00m _global_backward_pre_hooks \u001b[39mor\u001b[39;00m _global_backward_hooks\n\u001b[0;32m   1527\u001b[0m         \u001b[39mor\u001b[39;00m _global_forward_hooks \u001b[39mor\u001b[39;00m _global_forward_pre_hooks):\n\u001b[1;32m-> 1528\u001b[0m     \u001b[39mreturn\u001b[39;00m forward_call(\u001b[39m*\u001b[39margs, \u001b[39m*\u001b[39m\u001b[39m*\u001b[39mkwargs)\n\u001b[0;32m   1530\u001b[0m \u001b[39mtry\u001b[39;00m:\n\u001b[0;32m   1531\u001b[0m     result \u001b[39m=\u001b[39m \u001b[39mNone\u001b[39;00m\n",
      "File \u001b[1;32me:\\Project\\ZLTProgram\\cVAE_GAN_cifar10.py:16\u001b[0m, in \u001b[0;36mEncoderBlock.forward\u001b[1;34m(self, x)\u001b[0m\n\u001b[0;32m     15\u001b[0m \u001b[39mdef\u001b[39;00m \u001b[39mforward\u001b[39m(\u001b[39mself\u001b[39m, x):\n\u001b[1;32m---> 16\u001b[0m     \u001b[39mreturn\u001b[39;00m \u001b[39mself\u001b[39;49m\u001b[39m.\u001b[39;49mblock(x)\n",
      "File \u001b[1;32md:\\Anaconda\\envs\\AdversarialSampleDetection\\lib\\site-packages\\torch\\nn\\modules\\module.py:1519\u001b[0m, in \u001b[0;36mModule._wrapped_call_impl\u001b[1;34m(self, *args, **kwargs)\u001b[0m\n\u001b[0;32m   1517\u001b[0m     \u001b[39mreturn\u001b[39;00m \u001b[39mself\u001b[39m\u001b[39m.\u001b[39m_compiled_call_impl(\u001b[39m*\u001b[39margs, \u001b[39m*\u001b[39m\u001b[39m*\u001b[39mkwargs)  \u001b[39m# type: ignore[misc]\u001b[39;00m\n\u001b[0;32m   1518\u001b[0m \u001b[39melse\u001b[39;00m:\n\u001b[1;32m-> 1519\u001b[0m     \u001b[39mreturn\u001b[39;00m \u001b[39mself\u001b[39m\u001b[39m.\u001b[39m_call_impl(\u001b[39m*\u001b[39margs, \u001b[39m*\u001b[39m\u001b[39m*\u001b[39mkwargs)\n",
      "File \u001b[1;32md:\\Anaconda\\envs\\AdversarialSampleDetection\\lib\\site-packages\\torch\\nn\\modules\\module.py:1528\u001b[0m, in \u001b[0;36mModule._call_impl\u001b[1;34m(self, *args, **kwargs)\u001b[0m\n\u001b[0;32m   1523\u001b[0m \u001b[39m# If we don't have any hooks, we want to skip the rest of the logic in\u001b[39;00m\n\u001b[0;32m   1524\u001b[0m \u001b[39m# this function, and just call forward.\u001b[39;00m\n\u001b[0;32m   1525\u001b[0m \u001b[39mif\u001b[39;00m \u001b[39mnot\u001b[39;00m (\u001b[39mself\u001b[39m\u001b[39m.\u001b[39m_backward_hooks \u001b[39mor\u001b[39;00m \u001b[39mself\u001b[39m\u001b[39m.\u001b[39m_backward_pre_hooks \u001b[39mor\u001b[39;00m \u001b[39mself\u001b[39m\u001b[39m.\u001b[39m_forward_hooks \u001b[39mor\u001b[39;00m \u001b[39mself\u001b[39m\u001b[39m.\u001b[39m_forward_pre_hooks\n\u001b[0;32m   1526\u001b[0m         \u001b[39mor\u001b[39;00m _global_backward_pre_hooks \u001b[39mor\u001b[39;00m _global_backward_hooks\n\u001b[0;32m   1527\u001b[0m         \u001b[39mor\u001b[39;00m _global_forward_hooks \u001b[39mor\u001b[39;00m _global_forward_pre_hooks):\n\u001b[1;32m-> 1528\u001b[0m     \u001b[39mreturn\u001b[39;00m forward_call(\u001b[39m*\u001b[39margs, \u001b[39m*\u001b[39m\u001b[39m*\u001b[39mkwargs)\n\u001b[0;32m   1530\u001b[0m \u001b[39mtry\u001b[39;00m:\n\u001b[0;32m   1531\u001b[0m     result \u001b[39m=\u001b[39m \u001b[39mNone\u001b[39;00m\n",
      "File \u001b[1;32md:\\Anaconda\\envs\\AdversarialSampleDetection\\lib\\site-packages\\torch\\nn\\modules\\container.py:215\u001b[0m, in \u001b[0;36mSequential.forward\u001b[1;34m(self, input)\u001b[0m\n\u001b[0;32m    213\u001b[0m \u001b[39mdef\u001b[39;00m \u001b[39mforward\u001b[39m(\u001b[39mself\u001b[39m, \u001b[39minput\u001b[39m):\n\u001b[0;32m    214\u001b[0m     \u001b[39mfor\u001b[39;00m module \u001b[39min\u001b[39;00m \u001b[39mself\u001b[39m:\n\u001b[1;32m--> 215\u001b[0m         \u001b[39minput\u001b[39m \u001b[39m=\u001b[39m module(\u001b[39minput\u001b[39;49m)\n\u001b[0;32m    216\u001b[0m     \u001b[39mreturn\u001b[39;00m \u001b[39minput\u001b[39m\n",
      "File \u001b[1;32md:\\Anaconda\\envs\\AdversarialSampleDetection\\lib\\site-packages\\torch\\nn\\modules\\module.py:1519\u001b[0m, in \u001b[0;36mModule._wrapped_call_impl\u001b[1;34m(self, *args, **kwargs)\u001b[0m\n\u001b[0;32m   1517\u001b[0m     \u001b[39mreturn\u001b[39;00m \u001b[39mself\u001b[39m\u001b[39m.\u001b[39m_compiled_call_impl(\u001b[39m*\u001b[39margs, \u001b[39m*\u001b[39m\u001b[39m*\u001b[39mkwargs)  \u001b[39m# type: ignore[misc]\u001b[39;00m\n\u001b[0;32m   1518\u001b[0m \u001b[39melse\u001b[39;00m:\n\u001b[1;32m-> 1519\u001b[0m     \u001b[39mreturn\u001b[39;00m \u001b[39mself\u001b[39m\u001b[39m.\u001b[39m_call_impl(\u001b[39m*\u001b[39margs, \u001b[39m*\u001b[39m\u001b[39m*\u001b[39mkwargs)\n",
      "File \u001b[1;32md:\\Anaconda\\envs\\AdversarialSampleDetection\\lib\\site-packages\\torch\\nn\\modules\\module.py:1528\u001b[0m, in \u001b[0;36mModule._call_impl\u001b[1;34m(self, *args, **kwargs)\u001b[0m\n\u001b[0;32m   1523\u001b[0m \u001b[39m# If we don't have any hooks, we want to skip the rest of the logic in\u001b[39;00m\n\u001b[0;32m   1524\u001b[0m \u001b[39m# this function, and just call forward.\u001b[39;00m\n\u001b[0;32m   1525\u001b[0m \u001b[39mif\u001b[39;00m \u001b[39mnot\u001b[39;00m (\u001b[39mself\u001b[39m\u001b[39m.\u001b[39m_backward_hooks \u001b[39mor\u001b[39;00m \u001b[39mself\u001b[39m\u001b[39m.\u001b[39m_backward_pre_hooks \u001b[39mor\u001b[39;00m \u001b[39mself\u001b[39m\u001b[39m.\u001b[39m_forward_hooks \u001b[39mor\u001b[39;00m \u001b[39mself\u001b[39m\u001b[39m.\u001b[39m_forward_pre_hooks\n\u001b[0;32m   1526\u001b[0m         \u001b[39mor\u001b[39;00m _global_backward_pre_hooks \u001b[39mor\u001b[39;00m _global_backward_hooks\n\u001b[0;32m   1527\u001b[0m         \u001b[39mor\u001b[39;00m _global_forward_hooks \u001b[39mor\u001b[39;00m _global_forward_pre_hooks):\n\u001b[1;32m-> 1528\u001b[0m     \u001b[39mreturn\u001b[39;00m forward_call(\u001b[39m*\u001b[39margs, \u001b[39m*\u001b[39m\u001b[39m*\u001b[39mkwargs)\n\u001b[0;32m   1530\u001b[0m \u001b[39mtry\u001b[39;00m:\n\u001b[0;32m   1531\u001b[0m     result \u001b[39m=\u001b[39m \u001b[39mNone\u001b[39;00m\n",
      "File \u001b[1;32md:\\Anaconda\\envs\\AdversarialSampleDetection\\lib\\site-packages\\torch\\nn\\modules\\conv.py:460\u001b[0m, in \u001b[0;36mConv2d.forward\u001b[1;34m(self, input)\u001b[0m\n\u001b[0;32m    459\u001b[0m \u001b[39mdef\u001b[39;00m \u001b[39mforward\u001b[39m(\u001b[39mself\u001b[39m, \u001b[39minput\u001b[39m: Tensor) \u001b[39m-\u001b[39m\u001b[39m>\u001b[39m Tensor:\n\u001b[1;32m--> 460\u001b[0m     \u001b[39mreturn\u001b[39;00m \u001b[39mself\u001b[39;49m\u001b[39m.\u001b[39;49m_conv_forward(\u001b[39minput\u001b[39;49m, \u001b[39mself\u001b[39;49m\u001b[39m.\u001b[39;49mweight, \u001b[39mself\u001b[39;49m\u001b[39m.\u001b[39;49mbias)\n",
      "File \u001b[1;32md:\\Anaconda\\envs\\AdversarialSampleDetection\\lib\\site-packages\\torch\\nn\\modules\\conv.py:456\u001b[0m, in \u001b[0;36mConv2d._conv_forward\u001b[1;34m(self, input, weight, bias)\u001b[0m\n\u001b[0;32m    452\u001b[0m \u001b[39mif\u001b[39;00m \u001b[39mself\u001b[39m\u001b[39m.\u001b[39mpadding_mode \u001b[39m!=\u001b[39m \u001b[39m'\u001b[39m\u001b[39mzeros\u001b[39m\u001b[39m'\u001b[39m:\n\u001b[0;32m    453\u001b[0m     \u001b[39mreturn\u001b[39;00m F\u001b[39m.\u001b[39mconv2d(F\u001b[39m.\u001b[39mpad(\u001b[39minput\u001b[39m, \u001b[39mself\u001b[39m\u001b[39m.\u001b[39m_reversed_padding_repeated_twice, mode\u001b[39m=\u001b[39m\u001b[39mself\u001b[39m\u001b[39m.\u001b[39mpadding_mode),\n\u001b[0;32m    454\u001b[0m                     weight, bias, \u001b[39mself\u001b[39m\u001b[39m.\u001b[39mstride,\n\u001b[0;32m    455\u001b[0m                     _pair(\u001b[39m0\u001b[39m), \u001b[39mself\u001b[39m\u001b[39m.\u001b[39mdilation, \u001b[39mself\u001b[39m\u001b[39m.\u001b[39mgroups)\n\u001b[1;32m--> 456\u001b[0m \u001b[39mreturn\u001b[39;00m F\u001b[39m.\u001b[39;49mconv2d(\u001b[39minput\u001b[39;49m, weight, bias, \u001b[39mself\u001b[39;49m\u001b[39m.\u001b[39;49mstride,\n\u001b[0;32m    457\u001b[0m                 \u001b[39mself\u001b[39;49m\u001b[39m.\u001b[39;49mpadding, \u001b[39mself\u001b[39;49m\u001b[39m.\u001b[39;49mdilation, \u001b[39mself\u001b[39;49m\u001b[39m.\u001b[39;49mgroups)\n",
      "\u001b[1;31mRuntimeError\u001b[0m: Input type (torch.cuda.FloatTensor) and weight type (torch.FloatTensor) should be the same"
     ]
    }
   ],
   "source": [
    "from cVAE_GAN_cifar10 import Decoder_cifar10,Encoder_cifar10\n",
    "device = 'cuda' if torch.cuda.is_available() else 'cpu'\n",
    "encoder=Encoder_cifar10(device=device)\n",
    "decoder=Decoder_cifar10(device=device)\n",
    "img=torch.randn(32,3,32,32)\n",
    "z,_,_=encoder(img)\n",
    "\n"
   ]
  },
  {
   "cell_type": "code",
   "execution_count": null,
   "metadata": {},
   "outputs": [
    {
     "data": {
      "text/plain": [
       "tensor([[ 1.8996,  0.1671,  0.3362,  ..., -2.3348,  1.2323, -2.5588],\n",
       "        [-0.4055,  1.1749,  1.6804,  ...,  1.5147,  1.3595, -3.3192],\n",
       "        [ 0.3835,  0.6450,  0.9283,  ..., -0.0822, -0.4435,  0.5377],\n",
       "        ...,\n",
       "        [-0.0226,  0.7928,  0.4787,  ...,  0.5647,  0.3827,  0.1636],\n",
       "        [ 0.4875, -0.2412, -0.3210,  ..., -0.2083, -0.4837,  2.2454],\n",
       "        [-0.1963,  0.6713, -1.5335,  ..., -1.0845, -0.7259,  2.0146]],\n",
       "       grad_fn=<AddBackward0>)"
      ]
     },
     "execution_count": 10,
     "metadata": {},
     "output_type": "execute_result"
    }
   ],
   "source": [
    "z"
   ]
  },
  {
   "cell_type": "code",
   "execution_count": null,
   "metadata": {},
   "outputs": [],
   "source": [
    "y = torch.randint(low=0, high=9, size=(32,)).to(device)\n"
   ]
  },
  {
   "cell_type": "code",
   "execution_count": null,
   "metadata": {},
   "outputs": [
    {
     "ename": "RuntimeError",
     "evalue": "Expected all tensors to be on the same device, but found at least two devices, cuda:0 and cpu! (when checking argument for argument tensors in method wrapper_CUDA_cat)",
     "output_type": "error",
     "traceback": [
      "\u001b[1;31m---------------------------------------------------------------------------\u001b[0m",
      "\u001b[1;31mRuntimeError\u001b[0m                              Traceback (most recent call last)",
      "\u001b[1;32me:\\Project\\ZLTProgram\\TestShape.ipynb Cell 12\u001b[0m line \u001b[0;36m1\n\u001b[1;32m----> <a href='vscode-notebook-cell:/e%3A/Project/ZLTProgram/TestShape.ipynb#X34sZmlsZQ%3D%3D?line=0'>1</a>\u001b[0m img\u001b[39m=\u001b[39mdecoder(z,y)\n",
      "File \u001b[1;32md:\\Anaconda\\envs\\AdversarialSampleDetection\\lib\\site-packages\\torch\\nn\\modules\\module.py:1519\u001b[0m, in \u001b[0;36mModule._wrapped_call_impl\u001b[1;34m(self, *args, **kwargs)\u001b[0m\n\u001b[0;32m   1517\u001b[0m     \u001b[39mreturn\u001b[39;00m \u001b[39mself\u001b[39m\u001b[39m.\u001b[39m_compiled_call_impl(\u001b[39m*\u001b[39margs, \u001b[39m*\u001b[39m\u001b[39m*\u001b[39mkwargs)  \u001b[39m# type: ignore[misc]\u001b[39;00m\n\u001b[0;32m   1518\u001b[0m \u001b[39melse\u001b[39;00m:\n\u001b[1;32m-> 1519\u001b[0m     \u001b[39mreturn\u001b[39;00m \u001b[39mself\u001b[39m\u001b[39m.\u001b[39m_call_impl(\u001b[39m*\u001b[39margs, \u001b[39m*\u001b[39m\u001b[39m*\u001b[39mkwargs)\n",
      "File \u001b[1;32md:\\Anaconda\\envs\\AdversarialSampleDetection\\lib\\site-packages\\torch\\nn\\modules\\module.py:1528\u001b[0m, in \u001b[0;36mModule._call_impl\u001b[1;34m(self, *args, **kwargs)\u001b[0m\n\u001b[0;32m   1523\u001b[0m \u001b[39m# If we don't have any hooks, we want to skip the rest of the logic in\u001b[39;00m\n\u001b[0;32m   1524\u001b[0m \u001b[39m# this function, and just call forward.\u001b[39;00m\n\u001b[0;32m   1525\u001b[0m \u001b[39mif\u001b[39;00m \u001b[39mnot\u001b[39;00m (\u001b[39mself\u001b[39m\u001b[39m.\u001b[39m_backward_hooks \u001b[39mor\u001b[39;00m \u001b[39mself\u001b[39m\u001b[39m.\u001b[39m_backward_pre_hooks \u001b[39mor\u001b[39;00m \u001b[39mself\u001b[39m\u001b[39m.\u001b[39m_forward_hooks \u001b[39mor\u001b[39;00m \u001b[39mself\u001b[39m\u001b[39m.\u001b[39m_forward_pre_hooks\n\u001b[0;32m   1526\u001b[0m         \u001b[39mor\u001b[39;00m _global_backward_pre_hooks \u001b[39mor\u001b[39;00m _global_backward_hooks\n\u001b[0;32m   1527\u001b[0m         \u001b[39mor\u001b[39;00m _global_forward_hooks \u001b[39mor\u001b[39;00m _global_forward_pre_hooks):\n\u001b[1;32m-> 1528\u001b[0m     \u001b[39mreturn\u001b[39;00m forward_call(\u001b[39m*\u001b[39margs, \u001b[39m*\u001b[39m\u001b[39m*\u001b[39mkwargs)\n\u001b[0;32m   1530\u001b[0m \u001b[39mtry\u001b[39;00m:\n\u001b[0;32m   1531\u001b[0m     result \u001b[39m=\u001b[39m \u001b[39mNone\u001b[39;00m\n",
      "File \u001b[1;32me:\\Project\\ZLTProgram\\cVAE_GAN_cifar10.py:178\u001b[0m, in \u001b[0;36mDecoder_cifar10.forward\u001b[1;34m(self, z, y)\u001b[0m\n\u001b[0;32m    176\u001b[0m ys\u001b[39m=\u001b[39m[]\n\u001b[0;32m    177\u001b[0m \u001b[39mfor\u001b[39;00m i \u001b[39min\u001b[39;00m \u001b[39mrange\u001b[39m(\u001b[39mlen\u001b[39m(zs)):\n\u001b[1;32m--> 178\u001b[0m     ys\u001b[39m.\u001b[39mappend(torch\u001b[39m.\u001b[39;49mcat((y, zs[i]), dim\u001b[39m=\u001b[39;49m\u001b[39m1\u001b[39;49m))\n\u001b[0;32m    179\u001b[0m z\u001b[39m=\u001b[39m\u001b[39mself\u001b[39m\u001b[39m.\u001b[39mlinear(z)\n\u001b[0;32m    180\u001b[0m z\u001b[39m=\u001b[39mz\u001b[39m.\u001b[39mview(\u001b[39m-\u001b[39m\u001b[39m1\u001b[39m, \u001b[39m384\u001b[39m, \u001b[39m4\u001b[39m, \u001b[39m4\u001b[39m)\n",
      "\u001b[1;31mRuntimeError\u001b[0m: Expected all tensors to be on the same device, but found at least two devices, cuda:0 and cpu! (when checking argument for argument tensors in method wrapper_CUDA_cat)"
     ]
    }
   ],
   "source": [
    "img=decoder(z,y)"
   ]
  },
  {
   "cell_type": "code",
   "execution_count": null,
   "metadata": {},
   "outputs": [
    {
     "data": {
      "text/plain": [
       "tensor([[[[-6.9716e-02, -4.3028e-01, -2.1568e-01,  ...,  2.0442e-01,\n",
       "            3.4405e-01,  1.3851e-01],\n",
       "          [-7.2198e-02, -3.5444e-02,  2.0303e-01,  ...,  4.0872e-01,\n",
       "            6.9553e-02,  2.2329e-01],\n",
       "          [ 3.7527e-02, -2.1659e-01, -2.6069e-01,  ...,  4.5975e-01,\n",
       "            2.7581e-01,  3.5145e-02],\n",
       "          ...,\n",
       "          [ 2.0539e-01,  1.8643e-01,  4.3400e-01,  ...,  1.7660e-01,\n",
       "            7.1693e-02, -6.4503e-02],\n",
       "          [ 4.3933e-01,  6.0574e-01,  6.8616e-01,  ...,  6.3438e-01,\n",
       "            3.5468e-01, -4.7513e-02],\n",
       "          [-1.3198e-01,  2.4685e-01,  2.3442e-01,  ...,  7.7954e-02,\n",
       "            7.7099e-02, -1.7046e-02]],\n",
       "\n",
       "         [[ 3.6145e-01,  1.3084e-03,  1.8004e-01,  ...,  5.1992e-01,\n",
       "            3.8676e-01,  1.2027e-01],\n",
       "          [ 2.1868e-01, -1.9128e-01,  6.3215e-02,  ...,  1.9755e-01,\n",
       "            3.0522e-01,  2.4475e-01],\n",
       "          [ 1.5823e-01, -8.9391e-02,  7.4776e-02,  ...,  4.0304e-01,\n",
       "            6.3675e-01,  3.0109e-01],\n",
       "          ...,\n",
       "          [ 1.7258e-01,  2.9828e-02, -1.2799e-01,  ..., -4.6984e-01,\n",
       "           -2.5831e-01,  1.1552e-01],\n",
       "          [ 1.6759e-01, -2.7617e-01, -2.3070e-01,  ..., -4.6555e-01,\n",
       "           -4.2801e-01,  1.2337e-01],\n",
       "          [-1.6994e-01, -3.7652e-01, -3.7604e-01,  ..., -4.2721e-01,\n",
       "           -2.0646e-01,  5.7272e-02]],\n",
       "\n",
       "         [[-1.8050e-01, -1.7841e-01, -4.1332e-01,  ..., -3.0259e-01,\n",
       "           -4.8157e-01, -1.4489e-01],\n",
       "          [-3.9722e-01, -2.2830e-01, -4.5517e-01,  ..., -2.9451e-01,\n",
       "           -4.5731e-01,  3.3299e-02],\n",
       "          [-3.1654e-01, -2.5998e-01, -5.4685e-01,  ..., -5.3014e-01,\n",
       "           -6.6328e-01, -3.0458e-01],\n",
       "          ...,\n",
       "          [-3.5948e-01, -1.4603e-01, -2.1639e-01,  ..., -2.4127e-01,\n",
       "           -4.1044e-01, -3.2335e-01],\n",
       "          [-3.7839e-01,  1.6608e-01,  1.1338e-01,  ...,  1.9892e-02,\n",
       "           -1.3240e-01, -2.3957e-01],\n",
       "          [-3.8744e-01, -2.2283e-01, -1.0855e-01,  ..., -1.1151e-01,\n",
       "           -2.4743e-01, -3.5351e-01]]],\n",
       "\n",
       "\n",
       "        [[[ 3.0442e-02, -7.8757e-02, -2.9084e-01,  ..., -1.4116e-01,\n",
       "            1.0293e-01,  1.1933e-01],\n",
       "          [-7.9332e-02,  1.6228e-01, -1.4844e-01,  ..., -1.5312e-01,\n",
       "            1.9249e-01,  2.3882e-01],\n",
       "          [-1.0774e-01,  8.5595e-02, -1.4703e-01,  ..., -2.1745e-02,\n",
       "            1.2394e-01,  2.0450e-01],\n",
       "          ...,\n",
       "          [-4.1129e-02, -8.4727e-02, -2.9607e-01,  ..., -8.2990e-03,\n",
       "           -3.6885e-02,  1.3872e-01],\n",
       "          [-1.0762e-01,  2.9572e-02,  1.2798e-02,  ...,  2.5301e-01,\n",
       "            1.3914e-01,  1.2294e-01],\n",
       "          [ 1.5749e-01,  2.6751e-01,  3.7835e-01,  ...,  4.9451e-01,\n",
       "            3.6626e-01,  3.2754e-01]],\n",
       "\n",
       "         [[ 6.2228e-02, -4.2744e-01, -5.5605e-01,  ..., -3.0026e-01,\n",
       "           -3.5319e-01, -7.6592e-02],\n",
       "          [ 9.3271e-02, -5.8264e-01, -7.2270e-01,  ..., -5.2725e-01,\n",
       "           -6.3570e-01, -1.9095e-01],\n",
       "          [ 6.5391e-02, -4.6540e-01, -5.9237e-01,  ..., -5.0655e-01,\n",
       "           -5.7013e-01, -1.9698e-01],\n",
       "          ...,\n",
       "          [-2.2598e-01, -6.4482e-01, -6.2826e-01,  ..., -5.7849e-01,\n",
       "           -6.6490e-01, -2.6846e-01],\n",
       "          [-2.8457e-01, -6.5952e-01, -5.4280e-01,  ..., -2.5206e-01,\n",
       "           -5.0561e-01, -7.2214e-02],\n",
       "          [-4.0788e-01, -6.7764e-01, -6.3388e-01,  ..., -5.1864e-01,\n",
       "           -5.5958e-01, -1.2540e-01]],\n",
       "\n",
       "         [[ 1.3310e-01,  2.8067e-01,  1.7903e-02,  ...,  5.6238e-02,\n",
       "            1.8671e-01, -8.5480e-02],\n",
       "          [ 1.1723e-02,  2.4654e-01, -5.7447e-02,  ..., -2.6349e-02,\n",
       "            1.3577e-01, -2.1476e-01],\n",
       "          [ 2.1138e-01,  4.2499e-01,  1.4763e-01,  ...,  1.4699e-01,\n",
       "            2.2985e-01, -1.7535e-01],\n",
       "          ...,\n",
       "          [ 1.6169e-02,  3.0593e-01,  1.9020e-01,  ...,  4.8244e-01,\n",
       "            5.0255e-01,  1.4263e-01],\n",
       "          [-1.3564e-01,  6.5405e-02, -3.4444e-02,  ...,  3.6520e-01,\n",
       "            4.5258e-01,  1.6727e-01],\n",
       "          [-1.5633e-01,  2.5383e-01,  2.5062e-01,  ...,  4.4272e-01,\n",
       "            5.4616e-01,  1.2817e-01]]],\n",
       "\n",
       "\n",
       "        [[[-7.6671e-02, -5.4454e-02, -8.2377e-02,  ..., -1.2806e-01,\n",
       "            9.6980e-02,  3.1002e-01],\n",
       "          [ 2.9452e-01,  2.0151e-01,  3.7764e-01,  ...,  2.4646e-01,\n",
       "            1.9826e-01,  4.6044e-01],\n",
       "          [ 2.3195e-01,  2.9529e-02,  8.4540e-02,  ...,  1.1888e-01,\n",
       "            9.5233e-02,  3.7515e-01],\n",
       "          ...,\n",
       "          [ 4.5461e-01,  4.9720e-01,  2.7075e-01,  ...,  2.2205e-01,\n",
       "           -4.8583e-02,  3.0959e-01],\n",
       "          [ 4.6222e-01,  5.2877e-01,  4.0165e-01,  ...,  4.7840e-01,\n",
       "            3.7582e-01,  4.0471e-01],\n",
       "          [ 2.7397e-01,  3.8184e-01,  2.8923e-01,  ...,  2.0478e-01,\n",
       "            2.3900e-02,  9.3947e-02]],\n",
       "\n",
       "         [[-2.4992e-01, -5.7125e-01, -6.8146e-01,  ..., -5.9406e-01,\n",
       "           -6.4272e-01, -4.2005e-01],\n",
       "          [-2.2077e-01, -4.9821e-01, -5.1883e-01,  ..., -4.6530e-01,\n",
       "           -5.4796e-01, -3.2577e-01],\n",
       "          [-2.2171e-01, -6.1771e-01, -5.1061e-01,  ..., -5.4363e-01,\n",
       "           -5.2716e-01, -3.0732e-01],\n",
       "          ...,\n",
       "          [-3.1662e-01, -5.2357e-01, -3.8955e-01,  ..., -2.4583e-01,\n",
       "           -4.2084e-01, -2.7456e-01],\n",
       "          [-3.8711e-01, -5.2689e-01, -2.7303e-01,  ..., -1.3402e-01,\n",
       "           -1.3878e-01, -3.1753e-02],\n",
       "          [-4.8463e-01, -6.1958e-01, -4.0370e-01,  ..., -4.4949e-01,\n",
       "           -3.0788e-01, -1.0579e-01]],\n",
       "\n",
       "         [[-5.5767e-01, -1.9246e-01, -2.8443e-01,  ..., -2.6994e-01,\n",
       "           -1.9456e-01, -3.2376e-02],\n",
       "          [-6.8029e-01, -2.8255e-01, -3.0594e-01,  ..., -4.9980e-01,\n",
       "           -5.0439e-01, -2.7695e-01],\n",
       "          [-7.3033e-01, -3.6271e-01, -2.7543e-01,  ..., -5.1539e-01,\n",
       "           -4.9954e-01, -2.9559e-01],\n",
       "          ...,\n",
       "          [-6.6769e-01, -1.8376e-01, -1.5166e-01,  ..., -3.7306e-01,\n",
       "           -3.9721e-01,  9.6207e-02],\n",
       "          [-5.3680e-01, -1.9451e-01, -1.4133e-01,  ..., -3.3473e-01,\n",
       "           -4.8653e-01, -5.6797e-02],\n",
       "          [-4.1146e-01, -1.4533e-01, -9.2520e-02,  ..., -3.3320e-01,\n",
       "           -3.5194e-01, -8.2090e-03]]],\n",
       "\n",
       "\n",
       "        ...,\n",
       "\n",
       "\n",
       "        [[[ 4.9212e-01,  5.7157e-01,  6.3944e-01,  ...,  4.8400e-01,\n",
       "            2.6922e-01,  4.1064e-01],\n",
       "          [ 5.1243e-01,  6.6332e-01,  6.9705e-01,  ...,  5.7582e-01,\n",
       "            4.8212e-01,  4.3471e-01],\n",
       "          [ 5.4634e-01,  6.7766e-01,  6.3245e-01,  ...,  4.7714e-01,\n",
       "            4.0969e-01,  3.9848e-01],\n",
       "          ...,\n",
       "          [ 6.3556e-01,  6.5022e-01,  6.0527e-01,  ...,  8.3017e-01,\n",
       "            8.0547e-01,  7.7126e-01],\n",
       "          [ 4.3803e-01,  4.5981e-01,  3.2682e-01,  ...,  6.4620e-01,\n",
       "            6.4643e-01,  6.8080e-01],\n",
       "          [ 5.4590e-01,  5.6794e-01,  5.2804e-01,  ...,  6.8410e-01,\n",
       "            6.4782e-01,  5.4580e-01]],\n",
       "\n",
       "         [[-1.9400e-01, -6.5543e-01, -6.7656e-01,  ..., -6.8610e-01,\n",
       "           -5.7749e-01, -7.1910e-01],\n",
       "          [-5.6615e-01, -7.7759e-01, -7.4287e-01,  ..., -7.9997e-01,\n",
       "           -6.6024e-01, -6.8447e-01],\n",
       "          [-5.6890e-01, -7.2275e-01, -6.5575e-01,  ..., -7.4323e-01,\n",
       "           -6.0742e-01, -5.9395e-01],\n",
       "          ...,\n",
       "          [-5.0973e-01, -6.6608e-01, -6.9811e-01,  ..., -6.8566e-01,\n",
       "           -5.6543e-01, -4.5199e-01],\n",
       "          [-5.5424e-01, -8.3499e-01, -8.5017e-01,  ..., -7.0281e-01,\n",
       "           -6.7573e-01, -4.9418e-01],\n",
       "          [-3.1750e-01, -5.2086e-01, -5.0712e-01,  ..., -2.2366e-01,\n",
       "           -2.6138e-01, -1.5325e-01]],\n",
       "\n",
       "         [[ 1.4891e-01,  2.3647e-01,  3.0831e-01,  ...,  4.9280e-01,\n",
       "            5.3084e-01,  4.5095e-01],\n",
       "          [ 1.9560e-01,  4.2744e-01,  4.2697e-01,  ...,  4.8888e-01,\n",
       "            6.5957e-01,  3.7039e-01],\n",
       "          [ 3.1233e-01,  5.1322e-01,  4.5280e-01,  ...,  5.8395e-01,\n",
       "            6.2897e-01,  2.7525e-01],\n",
       "          ...,\n",
       "          [ 4.6147e-01,  6.5905e-01,  6.1385e-01,  ...,  3.8563e-01,\n",
       "            3.4193e-01,  2.1899e-02],\n",
       "          [ 4.1813e-01,  5.7266e-01,  6.1157e-01,  ...,  4.4986e-01,\n",
       "            4.4220e-01,  3.4699e-02],\n",
       "          [ 3.7611e-01,  5.8125e-01,  6.1560e-01,  ...,  3.4455e-01,\n",
       "            4.2354e-01,  4.2621e-02]]],\n",
       "\n",
       "\n",
       "        [[[-3.3704e-02, -7.0881e-02, -3.7273e-02,  ..., -2.0773e-01,\n",
       "           -1.3128e-01, -4.3481e-02],\n",
       "          [-2.4128e-01, -1.8962e-01, -1.7736e-01,  ..., -3.0604e-01,\n",
       "           -2.3171e-01, -1.2785e-01],\n",
       "          [ 1.0724e-02, -2.1027e-01, -6.9075e-02,  ..., -2.6644e-01,\n",
       "           -2.4572e-01, -1.2807e-01],\n",
       "          ...,\n",
       "          [ 5.7728e-02, -2.8149e-01, -1.9711e-01,  ...,  2.1315e-03,\n",
       "            4.9527e-02,  1.9373e-01],\n",
       "          [-5.2507e-03, -2.5355e-01, -2.2991e-01,  ..., -2.0956e-01,\n",
       "           -4.4183e-02,  1.4447e-01],\n",
       "          [ 2.2553e-02, -1.2999e-01, -6.1313e-02,  ...,  1.4969e-01,\n",
       "            2.0544e-01,  2.1549e-01]],\n",
       "\n",
       "         [[-9.0137e-02, -5.1605e-01, -4.1566e-01,  ...,  1.2339e-01,\n",
       "           -1.6162e-02,  6.1636e-02],\n",
       "          [-3.0653e-01, -8.3573e-01, -8.0262e-01,  ..., -4.1813e-01,\n",
       "           -4.4869e-01, -1.1827e-01],\n",
       "          [-4.7006e-01, -8.5293e-01, -8.2478e-01,  ..., -5.3263e-01,\n",
       "           -4.3040e-01, -1.5300e-01],\n",
       "          ...,\n",
       "          [-3.1242e-01, -7.9371e-01, -7.8924e-01,  ..., -7.9052e-01,\n",
       "           -7.3397e-01, -4.9524e-01],\n",
       "          [-3.5072e-01, -7.0270e-01, -6.8415e-01,  ..., -6.5029e-01,\n",
       "           -6.5459e-01, -3.5598e-01],\n",
       "          [-3.3621e-01, -6.5224e-01, -6.3556e-01,  ..., -6.0891e-01,\n",
       "           -6.2008e-01, -3.7092e-01]],\n",
       "\n",
       "         [[-2.5422e-01, -8.0788e-02, -1.9329e-01,  ..., -1.4697e-01,\n",
       "            4.8391e-02,  5.6269e-02],\n",
       "          [-3.7724e-01, -4.7425e-02, -2.1100e-01,  ..., -3.8903e-01,\n",
       "           -2.5848e-01, -1.4379e-01],\n",
       "          [-3.2449e-01, -5.1233e-03, -1.9267e-01,  ..., -2.8304e-01,\n",
       "           -2.3825e-01, -1.1329e-01],\n",
       "          ...,\n",
       "          [-2.0125e-01,  2.7101e-01, -3.8310e-02,  ..., -2.3562e-01,\n",
       "           -2.8902e-01, -2.5050e-01],\n",
       "          [-1.7688e-04,  4.8316e-01,  1.8604e-01,  ..., -8.3244e-02,\n",
       "           -1.7816e-01, -7.3354e-02],\n",
       "          [-1.3333e-01,  3.3014e-01,  1.2667e-01,  ..., -6.3876e-02,\n",
       "           -8.5406e-02,  4.8810e-02]]],\n",
       "\n",
       "\n",
       "        [[[-1.7263e-03,  1.5846e-02,  8.5672e-02,  ..., -4.7286e-02,\n",
       "           -9.2887e-04,  2.6798e-01],\n",
       "          [ 4.4736e-02, -1.2361e-02, -2.3564e-02,  ..., -7.5943e-02,\n",
       "           -8.0830e-02,  1.2362e-02],\n",
       "          [-4.0886e-02, -2.7026e-02, -1.8487e-01,  ..., -1.5731e-01,\n",
       "           -9.2077e-02,  2.1090e-02],\n",
       "          ...,\n",
       "          [ 9.3045e-02,  2.2000e-01, -8.7871e-02,  ...,  1.3563e-01,\n",
       "            1.7965e-01,  2.9931e-02],\n",
       "          [-2.5719e-02, -1.2983e-01, -3.8730e-01,  ...,  3.9641e-02,\n",
       "            8.6692e-02,  1.0503e-01],\n",
       "          [ 1.6695e-01,  8.8650e-02, -1.0821e-01,  ...,  1.8001e-01,\n",
       "            2.1562e-01,  9.7850e-02]],\n",
       "\n",
       "         [[ 9.3464e-02, -2.6063e-01, -2.7748e-01,  ..., -5.2316e-01,\n",
       "           -4.9625e-01, -6.4453e-01],\n",
       "          [-6.7530e-02, -5.1154e-01, -5.1428e-01,  ..., -6.5818e-01,\n",
       "           -5.1451e-01, -6.8675e-01],\n",
       "          [ 6.5868e-02, -4.5065e-01, -4.7216e-01,  ..., -5.4437e-01,\n",
       "           -4.7097e-01, -6.6255e-01],\n",
       "          ...,\n",
       "          [ 3.1853e-02, -6.4031e-01, -6.9053e-01,  ..., -8.9157e-01,\n",
       "           -7.8832e-01, -8.4109e-01],\n",
       "          [-9.6411e-02, -6.7017e-01, -6.9974e-01,  ..., -8.4285e-01,\n",
       "           -7.6612e-01, -8.3507e-01],\n",
       "          [-1.7965e-02, -2.0579e-01, -2.1351e-01,  ..., -2.5016e-01,\n",
       "           -1.4520e-01, -3.6901e-01]],\n",
       "\n",
       "         [[ 3.3271e-01,  3.7363e-01,  3.1922e-01,  ...,  3.9160e-01,\n",
       "            3.8561e-01,  1.8349e-01],\n",
       "          [ 4.0358e-01,  2.7658e-01,  1.3112e-01,  ...,  4.2739e-01,\n",
       "            3.6586e-01,  1.0996e-01],\n",
       "          [ 4.4786e-01,  1.9935e-01,  7.2281e-02,  ...,  3.2733e-01,\n",
       "            1.5569e-01,  9.5840e-03],\n",
       "          ...,\n",
       "          [ 3.5379e-01,  9.5797e-02,  7.0246e-02,  ...,  1.0203e-01,\n",
       "           -1.1597e-01, -6.2462e-02],\n",
       "          [ 3.5556e-01,  2.5087e-01,  2.9822e-01,  ...,  3.2512e-01,\n",
       "            2.9422e-01,  2.7121e-01],\n",
       "          [ 4.0968e-01,  4.4233e-01,  4.9764e-01,  ...,  2.5783e-01,\n",
       "            1.6542e-01,  1.0129e-01]]]], device='cuda:0',\n",
       "       grad_fn=<TanhBackward0>)"
      ]
     },
     "execution_count": 13,
     "metadata": {},
     "output_type": "execute_result"
    }
   ],
   "source": [
    "img"
   ]
  },
  {
   "cell_type": "code",
   "execution_count": null,
   "metadata": {},
   "outputs": [
    {
     "data": {
      "text/plain": [
       "torch.Size([32, 3, 32, 32])"
      ]
     },
     "execution_count": 14,
     "metadata": {},
     "output_type": "execute_result"
    }
   ],
   "source": [
    "img.shape"
   ]
  }
 ],
 "metadata": {
  "kernelspec": {
   "display_name": "AdversarialSampleDetection",
   "language": "python",
   "name": "python3"
  },
  "language_info": {
   "codemirror_mode": {
    "name": "ipython",
    "version": 3
   },
   "file_extension": ".py",
   "mimetype": "text/x-python",
   "name": "python",
   "nbconvert_exporter": "python",
   "pygments_lexer": "ipython3",
   "version": "3.9.18"
  }
 },
 "nbformat": 4,
 "nbformat_minor": 2
}
