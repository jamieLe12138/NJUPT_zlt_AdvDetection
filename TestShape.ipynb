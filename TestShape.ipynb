{
 "cells": [
  {
   "cell_type": "code",
   "execution_count": 10,
   "metadata": {},
   "outputs": [],
   "source": [
    "\n",
    "import torch.nn as nn\n",
    "import torch"
   ]
  },
  {
   "cell_type": "code",
   "execution_count": 11,
   "metadata": {},
   "outputs": [],
   "source": [
    "# device = 'cuda' if torch.cuda.is_available() else 'cpu'\n",
    "# block=Encoder_cifar10(80,device)\n",
    "# img=torch.randn(128,3,32,32)\n",
    "# img.shape"
   ]
  },
  {
   "cell_type": "code",
   "execution_count": 12,
   "metadata": {},
   "outputs": [],
   "source": [
    "# block"
   ]
  },
  {
   "cell_type": "code",
   "execution_count": 13,
   "metadata": {},
   "outputs": [],
   "source": [
    "# out,_,_=block(img)\n",
    "# out.shape"
   ]
  },
  {
   "cell_type": "code",
   "execution_count": 14,
   "metadata": {},
   "outputs": [],
   "source": [
    "# from cVAE_GAN_cifar10 import ConditionalBatchNorm2d\n",
    "# num_features = 64  # 输入特征的通道数\n",
    "# num_conditions = 10  # 类别数\n",
    "# cbn=ConditionalBatchNorm2d(64,10)\n",
    "# cbn"
   ]
  },
  {
   "cell_type": "code",
   "execution_count": 15,
   "metadata": {},
   "outputs": [],
   "source": [
    "\n",
    "# condition = torch.zeros(32,10)  # 32样本的标签\n",
    "# condition.shape\n",
    "# condition\n"
   ]
  },
  {
   "cell_type": "code",
   "execution_count": 16,
   "metadata": {},
   "outputs": [],
   "source": [
    "# input_data = torch.randn(32, num_features, 32, 32)\n",
    "# input_data.shape\n"
   ]
  },
  {
   "cell_type": "code",
   "execution_count": 17,
   "metadata": {},
   "outputs": [],
   "source": [
    "# output = cbn(input_data, condition)\n",
    "# output.shape"
   ]
  },
  {
   "cell_type": "code",
   "execution_count": 18,
   "metadata": {},
   "outputs": [],
   "source": [
    "from cVAE_GAN_cifar10 import Decoder_cifar10,Encoder_cifar10\n",
    "device = 'cuda' if torch.cuda.is_available() else 'cpu'\n",
    "encoder=Encoder_cifar10(device=device)\n",
    "decoder=Decoder_cifar10(device=device)\n",
    "img=torch.randn(32,3,32,32).to(device)\n",
    "z,_,_=encoder(img)\n",
    "\n"
   ]
  },
  {
   "cell_type": "code",
   "execution_count": 19,
   "metadata": {},
   "outputs": [
    {
     "data": {
      "text/plain": [
       "tensor([[-2.0597, -0.9218, -0.1266,  ...,  0.7105,  1.3707, -0.8398],\n",
       "        [ 0.9761,  2.7230,  0.9776,  ..., -0.4310, -0.9563,  2.5983],\n",
       "        [-0.8066, -0.1102, -0.7556,  ..., -0.1840,  0.1421, -0.2004],\n",
       "        ...,\n",
       "        [-1.1351,  1.6127,  0.9774,  ..., -0.8635, -0.3793,  0.8473],\n",
       "        [ 1.7913, -0.4197,  1.3579,  ..., -1.2186,  3.3386, -0.7781],\n",
       "        [ 2.3023, -0.9359, -1.1374,  ...,  0.3954, -1.5244,  0.7262]],\n",
       "       device='cuda:0', grad_fn=<AddBackward0>)"
      ]
     },
     "execution_count": 19,
     "metadata": {},
     "output_type": "execute_result"
    }
   ],
   "source": [
    "z"
   ]
  },
  {
   "cell_type": "code",
   "execution_count": 20,
   "metadata": {},
   "outputs": [
    {
     "data": {
      "text/plain": [
       "torch.Size([32, 80])"
      ]
     },
     "execution_count": 20,
     "metadata": {},
     "output_type": "execute_result"
    }
   ],
   "source": [
    "z.shape"
   ]
  },
  {
   "cell_type": "code",
   "execution_count": 21,
   "metadata": {},
   "outputs": [],
   "source": [
    "y = torch.randint(low=0, high=9, size=(32,)).to(device)\n"
   ]
  },
  {
   "cell_type": "code",
   "execution_count": 22,
   "metadata": {},
   "outputs": [],
   "source": [
    "img=decoder(z,y)"
   ]
  },
  {
   "cell_type": "code",
   "execution_count": 23,
   "metadata": {},
   "outputs": [
    {
     "data": {
      "text/plain": [
       "tensor([[[[-0.1837, -0.0666,  0.0846,  ...,  0.1840,  0.0119, -0.1444],\n",
       "          [-0.5079, -0.1437,  0.0432,  ..., -0.0067, -0.1001, -0.0450],\n",
       "          [-0.4717, -0.0351,  0.0872,  ...,  0.0512, -0.0858,  0.1380],\n",
       "          ...,\n",
       "          [-0.2400, -0.2012, -0.2120,  ..., -0.1129, -0.0092,  0.1475],\n",
       "          [-0.1948, -0.2147, -0.1434,  ..., -0.1183, -0.0095,  0.0768],\n",
       "          [-0.1430, -0.0754, -0.1828,  ..., -0.2298, -0.2051, -0.0631]],\n",
       "\n",
       "         [[ 0.3385,  0.3386,  0.2795,  ...,  0.1042, -0.0208, -0.0745],\n",
       "          [ 0.1893,  0.2477, -0.0961,  ..., -0.5406, -0.5602, -0.5045],\n",
       "          [ 0.2535,  0.1986, -0.0356,  ..., -0.1773, -0.2610, -0.3186],\n",
       "          ...,\n",
       "          [ 0.0908, -0.0255, -0.1415,  ...,  0.1728,  0.2044, -0.0437],\n",
       "          [ 0.0988,  0.0721, -0.1862,  ...,  0.2106,  0.2744,  0.0922],\n",
       "          [ 0.0636, -0.1359, -0.0717,  ...,  0.1106,  0.1149,  0.1181]],\n",
       "\n",
       "         [[ 0.0626,  0.0762, -0.0874,  ..., -0.0680,  0.0155,  0.0031],\n",
       "          [ 0.3046,  0.2048,  0.1991,  ..., -0.1004,  0.1090,  0.0844],\n",
       "          [ 0.0521, -0.0855,  0.1654,  ..., -0.1668,  0.0502, -0.0880],\n",
       "          ...,\n",
       "          [-0.2052, -0.4762, -0.4432,  ..., -0.3279, -0.0111, -0.2186],\n",
       "          [-0.1611, -0.5234, -0.4356,  ..., -0.2946,  0.0748,  0.0302],\n",
       "          [ 0.0849, -0.0017,  0.1171,  ...,  0.2152,  0.3690,  0.1881]]],\n",
       "\n",
       "\n",
       "        [[[-0.4089,  0.1573, -0.1019,  ..., -0.1910, -0.1924, -0.0145],\n",
       "          [-0.6305, -0.1759, -0.3303,  ..., -0.4298, -0.4865, -0.0539],\n",
       "          [-0.7414, -0.3605, -0.4562,  ..., -0.5517, -0.4374, -0.0924],\n",
       "          ...,\n",
       "          [-0.8009, -0.2620, -0.3304,  ...,  0.0588,  0.0100,  0.0334],\n",
       "          [-0.7601, -0.1771, -0.2359,  ..., -0.1277, -0.1431, -0.1589],\n",
       "          [-0.7313, -0.4850, -0.5153,  ..., -0.5225, -0.5456, -0.4962]],\n",
       "\n",
       "         [[ 0.2181, -0.0076,  0.1682,  ...,  0.1824,  0.1841,  0.3292],\n",
       "          [ 0.2535,  0.1872,  0.4665,  ...,  0.1408,  0.3770,  0.5096],\n",
       "          [ 0.1857,  0.0684,  0.3236,  ...,  0.2303,  0.4715,  0.4268],\n",
       "          ...,\n",
       "          [ 0.0778, -0.1800, -0.1066,  ...,  0.0987,  0.1765,  0.2899],\n",
       "          [ 0.2548, -0.1324, -0.0844,  ...,  0.1956,  0.3242,  0.2379],\n",
       "          [-0.1805, -0.4468, -0.4368,  ..., -0.1789, -0.0985,  0.1108]],\n",
       "\n",
       "         [[ 0.2556,  0.4777,  0.6140,  ...,  0.4976,  0.3985,  0.0266],\n",
       "          [ 0.4767,  0.7017,  0.8071,  ...,  0.4489,  0.4708, -0.0585],\n",
       "          [ 0.5608,  0.7946,  0.8373,  ...,  0.6342,  0.6563,  0.2965],\n",
       "          ...,\n",
       "          [ 0.6675,  0.7350,  0.8210,  ...,  0.5567,  0.6001,  0.3876],\n",
       "          [ 0.6408,  0.7028,  0.7976,  ...,  0.2452,  0.3209,  0.1248],\n",
       "          [ 0.5108,  0.4975,  0.6130,  ...,  0.2634,  0.3886,  0.4307]]],\n",
       "\n",
       "\n",
       "        [[[-0.4614, -0.0743, -0.4604,  ..., -0.5371, -0.3450,  0.0921],\n",
       "          [-0.6144, -0.3985, -0.5649,  ..., -0.6244, -0.5861,  0.1929],\n",
       "          [-0.6525, -0.5709, -0.5256,  ..., -0.6267, -0.5987,  0.3546],\n",
       "          ...,\n",
       "          [-0.5519, -0.7533, -0.6548,  ..., -0.8268, -0.6437,  0.2290],\n",
       "          [-0.5766, -0.7334, -0.5938,  ..., -0.8556, -0.8024, -0.0971],\n",
       "          [-0.0414, -0.3972, -0.1592,  ..., -0.3426, -0.3581,  0.1028]],\n",
       "\n",
       "         [[-0.1743, -0.5435, -0.4588,  ..., -0.1844, -0.2237, -0.1117],\n",
       "          [-0.4936, -0.5864, -0.6755,  ..., -0.4090, -0.2237, -0.0878],\n",
       "          [-0.0069, -0.4137, -0.4429,  ..., -0.2976, -0.1872, -0.1862],\n",
       "          ...,\n",
       "          [-0.2905, -0.6120, -0.4826,  ..., -0.3518, -0.1372, -0.0864],\n",
       "          [-0.4105, -0.7721, -0.7190,  ..., -0.5974, -0.5478, -0.3645],\n",
       "          [-0.3794, -0.6653, -0.6824,  ..., -0.5722, -0.3946, -0.3020]],\n",
       "\n",
       "         [[-0.4925, -0.0485, -0.1868,  ..., -0.2152, -0.3730, -0.3387],\n",
       "          [ 0.2652,  0.5115,  0.5438,  ...,  0.3091,  0.0162, -0.3776],\n",
       "          [ 0.1534,  0.2661,  0.4937,  ...,  0.4315, -0.0381, -0.1423],\n",
       "          ...,\n",
       "          [-0.4068, -0.1306, -0.3026,  ...,  0.4748,  0.0263, -0.2522],\n",
       "          [-0.3448, -0.0184, -0.2854,  ...,  0.2270, -0.1753, -0.4170],\n",
       "          [ 0.1069, -0.1601, -0.1232,  ..., -0.1058, -0.1841, -0.1109]]],\n",
       "\n",
       "\n",
       "        ...,\n",
       "\n",
       "\n",
       "        [[[ 0.0612,  0.0904,  0.0902,  ...,  0.2240,  0.1716,  0.2060],\n",
       "          [ 0.0708,  0.2148,  0.0193,  ...,  0.0416, -0.0488,  0.0469],\n",
       "          [ 0.0228,  0.3228,  0.1314,  ...,  0.2012,  0.1593,  0.1971],\n",
       "          ...,\n",
       "          [-0.1292,  0.2038,  0.0122,  ...,  0.2288,  0.1889,  0.1274],\n",
       "          [-0.1185,  0.0853, -0.0442,  ...,  0.1473,  0.1858,  0.1055],\n",
       "          [-0.3131, -0.1498, -0.2607,  ...,  0.0073,  0.0026,  0.2130]],\n",
       "\n",
       "         [[ 0.0796,  0.0170,  0.1102,  ..., -0.0094,  0.1482, -0.0797],\n",
       "          [-0.2895, -0.3327, -0.1179,  ..., -0.2943, -0.0936, -0.1804],\n",
       "          [-0.1795, -0.1830,  0.0944,  ...,  0.0450,  0.1296, -0.1067],\n",
       "          ...,\n",
       "          [-0.1706, -0.1695, -0.1153,  ..., -0.0688,  0.1322, -0.1109],\n",
       "          [-0.1639, -0.2069, -0.1971,  ..., -0.1219,  0.0252, -0.0683],\n",
       "          [-0.1022, -0.1233, -0.2438,  ..., -0.1148,  0.0536, -0.1970]],\n",
       "\n",
       "         [[-0.2206, -0.0549, -0.1001,  ..., -0.0971,  0.0656,  0.1315],\n",
       "          [-0.1068, -0.1035, -0.0617,  ...,  0.0315,  0.1205,  0.1288],\n",
       "          [-0.2098, -0.1639, -0.0279,  ..., -0.0047,  0.2079,  0.2701],\n",
       "          ...,\n",
       "          [-0.0696, -0.2211, -0.1469,  ..., -0.5478, -0.3543, -0.0650],\n",
       "          [-0.0507, -0.2133, -0.2034,  ..., -0.5047, -0.3551, -0.0193],\n",
       "          [ 0.2152,  0.0383,  0.1890,  ..., -0.0223, -0.0934, -0.0248]]],\n",
       "\n",
       "\n",
       "        [[[ 0.0526,  0.4071,  0.0803,  ..., -0.1861, -0.0263,  0.0165],\n",
       "          [-0.3413, -0.0429, -0.2874,  ..., -0.7110, -0.6732, -0.5171],\n",
       "          [-0.4441, -0.2142, -0.3486,  ..., -0.7887, -0.8043, -0.5844],\n",
       "          ...,\n",
       "          [-0.6402, -0.4281, -0.4318,  ..., -0.5191, -0.5704, -0.2628],\n",
       "          [-0.5374, -0.5923, -0.5672,  ..., -0.5893, -0.6854, -0.4162],\n",
       "          [-0.4638, -0.5542, -0.4536,  ..., -0.2815, -0.4500, -0.3810]],\n",
       "\n",
       "         [[ 0.1077, -0.1573, -0.1005,  ..., -0.1953, -0.1582,  0.0049],\n",
       "          [-0.1979, -0.3381, -0.4713,  ..., -0.6330, -0.5736, -0.1757],\n",
       "          [-0.0492, -0.5112, -0.5758,  ..., -0.7348, -0.6517,  0.0069],\n",
       "          ...,\n",
       "          [-0.1526, -0.6230, -0.7258,  ..., -0.4207,  0.0536,  0.1900],\n",
       "          [-0.2707, -0.7177, -0.8312,  ..., -0.5718, -0.2336,  0.1087],\n",
       "          [-0.2197, -0.4913, -0.4300,  ..., -0.4625, -0.0836,  0.0979]],\n",
       "\n",
       "         [[-0.2466, -0.0128,  0.0521,  ...,  0.1887, -0.0737,  0.1121],\n",
       "          [ 0.5181,  0.1950,  0.5219,  ...,  0.5294,  0.3940,  0.3080],\n",
       "          [ 0.3033, -0.2097,  0.3689,  ...,  0.4655,  0.1459,  0.2775],\n",
       "          ...,\n",
       "          [ 0.1386, -0.2168, -0.1567,  ..., -0.0498, -0.2364, -0.0438],\n",
       "          [ 0.1713,  0.0491,  0.0682,  ..., -0.1305, -0.3929, -0.1354],\n",
       "          [ 0.3635,  0.2508,  0.3924,  ...,  0.4139,  0.2326,  0.3414]]],\n",
       "\n",
       "\n",
       "        [[[-0.1941,  0.2954,  0.3792,  ..., -0.0360,  0.1231,  0.1115],\n",
       "          [-0.3777, -0.1399, -0.1110,  ..., -0.3509, -0.4073,  0.0897],\n",
       "          [-0.1835, -0.0926,  0.0743,  ..., -0.1456, -0.2085,  0.2074],\n",
       "          ...,\n",
       "          [-0.4855, -0.4349, -0.1491,  ..., -0.1447, -0.0550,  0.2358],\n",
       "          [-0.5856, -0.4501, -0.4311,  ..., -0.5010, -0.3795, -0.0587],\n",
       "          [-0.4096, -0.4618, -0.4878,  ..., -0.4403, -0.3431, -0.1185]],\n",
       "\n",
       "         [[-0.3877, -0.4455, -0.4510,  ..., -0.4834, -0.3742, -0.2007],\n",
       "          [-0.5555, -0.5703, -0.4737,  ..., -0.4548, -0.3249, -0.0428],\n",
       "          [-0.4994, -0.3608, -0.2438,  ..., -0.2745, -0.1891,  0.1465],\n",
       "          ...,\n",
       "          [-0.3503, -0.3820, -0.6511,  ..., -0.2793, -0.2230,  0.3170],\n",
       "          [-0.3075, -0.4462, -0.6259,  ..., -0.5325, -0.5965,  0.1824],\n",
       "          [-0.2522, -0.3400, -0.5078,  ..., -0.5284, -0.4375, -0.0151]],\n",
       "\n",
       "         [[-0.2905,  0.0450, -0.1351,  ..., -0.1477, -0.1144, -0.3824],\n",
       "          [ 0.2532,  0.5699,  0.2856,  ...,  0.1488,  0.1777, -0.1182],\n",
       "          [ 0.0108,  0.3330,  0.0817,  ...,  0.0106, -0.0124, -0.0307],\n",
       "          ...,\n",
       "          [-0.4229,  0.1726, -0.0985,  ..., -0.3263, -0.3622, -0.4690],\n",
       "          [-0.4353,  0.1203, -0.0218,  ..., -0.3031, -0.2286, -0.2566],\n",
       "          [-0.1289,  0.2961,  0.2919,  ..., -0.1642,  0.0461, -0.0309]]]],\n",
       "       device='cuda:0', grad_fn=<TanhBackward0>)"
      ]
     },
     "execution_count": 23,
     "metadata": {},
     "output_type": "execute_result"
    }
   ],
   "source": [
    "img"
   ]
  },
  {
   "cell_type": "code",
   "execution_count": 24,
   "metadata": {},
   "outputs": [
    {
     "data": {
      "text/plain": [
       "torch.Size([32, 3, 32, 32])"
      ]
     },
     "execution_count": 24,
     "metadata": {},
     "output_type": "execute_result"
    }
   ],
   "source": [
    "img.shape"
   ]
  },
  {
   "cell_type": "code",
   "execution_count": 25,
   "metadata": {},
   "outputs": [
    {
     "data": {
      "text/plain": [
       "Decoder_cifar10(\n",
       "  (linear): Linear(in_features=20, out_features=6144, bias=True)\n",
       "  (embed): Embedding(10, 128)\n",
       "  (gen_blocks): ModuleList(\n",
       "    (0): DecoderBlock(\n",
       "      (conv): Conv2d(384, 384, kernel_size=(1, 1), stride=(1, 1), padding=same)\n",
       "      (linear): Linear(in_features=148, out_features=10, bias=True)\n",
       "      (cbn): ConditionalBatchNorm2d(\n",
       "        (bn): BatchNorm2d(384, eps=1e-05, momentum=0.1, affine=False, track_running_stats=True)\n",
       "        (gamma_embed): Linear(in_features=10, out_features=384, bias=True)\n",
       "        (beta_embed): Linear(in_features=10, out_features=384, bias=True)\n",
       "      )\n",
       "      (upsample1): Upsample(size=(8, 8), mode='bilinear')\n",
       "      (upsample2): Upsample(size=(8, 8), mode='bilinear')\n",
       "      (relu): ReLU()\n",
       "      (conv_cbns): ModuleList(\n",
       "        (0-1): 2 x Decoder_Conv_CBN(\n",
       "          (conv): Conv2d(384, 384, kernel_size=(3, 3), stride=(1, 1), padding=same)\n",
       "          (cbn): ConditionalBatchNorm2d(\n",
       "            (bn): BatchNorm2d(384, eps=1e-05, momentum=0.1, affine=False, track_running_stats=True)\n",
       "            (gamma_embed): Linear(in_features=10, out_features=384, bias=True)\n",
       "            (beta_embed): Linear(in_features=10, out_features=384, bias=True)\n",
       "          )\n",
       "          (linear): Linear(in_features=148, out_features=10, bias=True)\n",
       "          (relu): ReLU()\n",
       "        )\n",
       "      )\n",
       "    )\n",
       "    (1): DecoderBlock(\n",
       "      (conv): Conv2d(384, 384, kernel_size=(1, 1), stride=(1, 1), padding=same)\n",
       "      (linear): Linear(in_features=148, out_features=10, bias=True)\n",
       "      (cbn): ConditionalBatchNorm2d(\n",
       "        (bn): BatchNorm2d(384, eps=1e-05, momentum=0.1, affine=False, track_running_stats=True)\n",
       "        (gamma_embed): Linear(in_features=10, out_features=384, bias=True)\n",
       "        (beta_embed): Linear(in_features=10, out_features=384, bias=True)\n",
       "      )\n",
       "      (upsample1): Upsample(size=(16, 16), mode='bilinear')\n",
       "      (upsample2): Upsample(size=(16, 16), mode='bilinear')\n",
       "      (relu): ReLU()\n",
       "      (conv_cbns): ModuleList(\n",
       "        (0-1): 2 x Decoder_Conv_CBN(\n",
       "          (conv): Conv2d(384, 384, kernel_size=(3, 3), stride=(1, 1), padding=same)\n",
       "          (cbn): ConditionalBatchNorm2d(\n",
       "            (bn): BatchNorm2d(384, eps=1e-05, momentum=0.1, affine=False, track_running_stats=True)\n",
       "            (gamma_embed): Linear(in_features=10, out_features=384, bias=True)\n",
       "            (beta_embed): Linear(in_features=10, out_features=384, bias=True)\n",
       "          )\n",
       "          (linear): Linear(in_features=148, out_features=10, bias=True)\n",
       "          (relu): ReLU()\n",
       "        )\n",
       "      )\n",
       "    )\n",
       "    (2): DecoderBlock(\n",
       "      (conv): Conv2d(384, 384, kernel_size=(1, 1), stride=(1, 1), padding=same)\n",
       "      (linear): Linear(in_features=148, out_features=10, bias=True)\n",
       "      (cbn): ConditionalBatchNorm2d(\n",
       "        (bn): BatchNorm2d(384, eps=1e-05, momentum=0.1, affine=False, track_running_stats=True)\n",
       "        (gamma_embed): Linear(in_features=10, out_features=384, bias=True)\n",
       "        (beta_embed): Linear(in_features=10, out_features=384, bias=True)\n",
       "      )\n",
       "      (upsample1): Upsample(size=(32, 32), mode='bilinear')\n",
       "      (upsample2): Upsample(size=(32, 32), mode='bilinear')\n",
       "      (relu): ReLU()\n",
       "      (conv_cbns): ModuleList(\n",
       "        (0-1): 2 x Decoder_Conv_CBN(\n",
       "          (conv): Conv2d(384, 384, kernel_size=(3, 3), stride=(1, 1), padding=same)\n",
       "          (cbn): ConditionalBatchNorm2d(\n",
       "            (bn): BatchNorm2d(384, eps=1e-05, momentum=0.1, affine=False, track_running_stats=True)\n",
       "            (gamma_embed): Linear(in_features=10, out_features=384, bias=True)\n",
       "            (beta_embed): Linear(in_features=10, out_features=384, bias=True)\n",
       "          )\n",
       "          (linear): Linear(in_features=148, out_features=10, bias=True)\n",
       "          (relu): ReLU()\n",
       "        )\n",
       "      )\n",
       "    )\n",
       "  )\n",
       "  (BnReLu): Sequential(\n",
       "    (0): BatchNorm2d(384, eps=1e-05, momentum=0.1, affine=True, track_running_stats=True)\n",
       "    (1): ReLU()\n",
       "  )\n",
       "  (conv): Conv2d(384, 3, kernel_size=(3, 3), stride=(1, 1), padding=same)\n",
       "  (tanh): Tanh()\n",
       ")"
      ]
     },
     "execution_count": 25,
     "metadata": {},
     "output_type": "execute_result"
    }
   ],
   "source": [
    "decoder"
   ]
  },
  {
   "cell_type": "code",
   "execution_count": 26,
   "metadata": {},
   "outputs": [],
   "source": [
    "from cVAE_GAN_cifar10 import Discriminator_cifar10\n",
    "discriminator=Discriminator_cifar10(device=device)\n"
   ]
  },
  {
   "cell_type": "code",
   "execution_count": 27,
   "metadata": {},
   "outputs": [
    {
     "data": {
      "text/plain": [
       "Discriminator_cifar10(\n",
       "  (embed): Embedding(10, 192)\n",
       "  (dis_block0): DisBlock(\n",
       "    (conv): Conv2d(3, 192, kernel_size=(1, 1), stride=(1, 1), padding=same)\n",
       "    (downsample1): AvgPool2d(kernel_size=2, stride=2, padding=0)\n",
       "    (downsample2): AvgPool2d(kernel_size=2, stride=2, padding=0)\n",
       "    (bn_relu_conv): Sequential(\n",
       "      (0): Dis_BN_Relu_Conv(\n",
       "        (bn): BatchNorm2d(3, eps=1e-05, momentum=0.1, affine=True, track_running_stats=True)\n",
       "        (relu): ReLU()\n",
       "        (conv): Conv2d(3, 192, kernel_size=(3, 3), stride=(1, 1), padding=same)\n",
       "      )\n",
       "      (1): Dis_BN_Relu_Conv(\n",
       "        (bn): BatchNorm2d(192, eps=1e-05, momentum=0.1, affine=True, track_running_stats=True)\n",
       "        (relu): ReLU()\n",
       "        (conv): Conv2d(192, 192, kernel_size=(3, 3), stride=(1, 1), padding=same)\n",
       "      )\n",
       "    )\n",
       "  )\n",
       "  (dis_block1): DisBlock(\n",
       "    (conv): Conv2d(192, 192, kernel_size=(1, 1), stride=(1, 1), padding=same)\n",
       "    (downsample1): AvgPool2d(kernel_size=2, stride=2, padding=0)\n",
       "    (downsample2): AvgPool2d(kernel_size=2, stride=2, padding=0)\n",
       "    (bn_relu_conv): Sequential(\n",
       "      (0): Dis_BN_Relu_Conv(\n",
       "        (bn): BatchNorm2d(192, eps=1e-05, momentum=0.1, affine=True, track_running_stats=True)\n",
       "        (relu): ReLU()\n",
       "        (conv): Conv2d(192, 192, kernel_size=(3, 3), stride=(1, 1), padding=same)\n",
       "      )\n",
       "      (1): Dis_BN_Relu_Conv(\n",
       "        (bn): BatchNorm2d(192, eps=1e-05, momentum=0.1, affine=True, track_running_stats=True)\n",
       "        (relu): ReLU()\n",
       "        (conv): Conv2d(192, 192, kernel_size=(3, 3), stride=(1, 1), padding=same)\n",
       "      )\n",
       "    )\n",
       "  )\n",
       "  (dis_block2): DisBlock(\n",
       "    (conv): Conv2d(192, 192, kernel_size=(1, 1), stride=(1, 1), padding=same)\n",
       "    (bn_relu_conv): Sequential(\n",
       "      (0): Dis_BN_Relu_Conv(\n",
       "        (bn): BatchNorm2d(192, eps=1e-05, momentum=0.1, affine=True, track_running_stats=True)\n",
       "        (relu): ReLU()\n",
       "        (conv): Conv2d(192, 192, kernel_size=(3, 3), stride=(1, 1), padding=same)\n",
       "      )\n",
       "      (1): Dis_BN_Relu_Conv(\n",
       "        (bn): BatchNorm2d(192, eps=1e-05, momentum=0.1, affine=True, track_running_stats=True)\n",
       "        (relu): ReLU()\n",
       "        (conv): Conv2d(192, 192, kernel_size=(3, 3), stride=(1, 1), padding=same)\n",
       "      )\n",
       "    )\n",
       "  )\n",
       "  (dis_block3): DisBlock(\n",
       "    (conv): Conv2d(192, 192, kernel_size=(1, 1), stride=(1, 1), padding=same)\n",
       "    (bn_relu_conv): Sequential(\n",
       "      (0): Dis_BN_Relu_Conv(\n",
       "        (bn): BatchNorm2d(192, eps=1e-05, momentum=0.1, affine=True, track_running_stats=True)\n",
       "        (relu): ReLU()\n",
       "        (conv): Conv2d(192, 192, kernel_size=(3, 3), stride=(1, 1), padding=same)\n",
       "      )\n",
       "      (1): Dis_BN_Relu_Conv(\n",
       "        (bn): BatchNorm2d(192, eps=1e-05, momentum=0.1, affine=True, track_running_stats=True)\n",
       "        (relu): ReLU()\n",
       "        (conv): Conv2d(192, 192, kernel_size=(3, 3), stride=(1, 1), padding=same)\n",
       "      )\n",
       "    )\n",
       "  )\n",
       "  (relu): ReLU()\n",
       "  (linear1): Sequential(\n",
       "    (0): Linear(in_features=192, out_features=192, bias=True)\n",
       "    (1): ReLU()\n",
       "  )\n",
       "  (linear2): Linear(in_features=192, out_features=1, bias=True)\n",
       ")"
      ]
     },
     "execution_count": 27,
     "metadata": {},
     "output_type": "execute_result"
    }
   ],
   "source": [
    "discriminator"
   ]
  },
  {
   "cell_type": "code",
   "execution_count": 28,
   "metadata": {},
   "outputs": [
    {
     "data": {
      "text/plain": [
       "torch.Size([32, 1])"
      ]
     },
     "execution_count": 28,
     "metadata": {},
     "output_type": "execute_result"
    }
   ],
   "source": [
    "from cVAE_GAN_cifar10 import Discriminator_cifar10\n",
    "discriminator=Discriminator_cifar10(device=device)\n",
    "score=discriminator(img,y)\n",
    "score.shape"
   ]
  },
  {
   "cell_type": "code",
   "execution_count": 29,
   "metadata": {},
   "outputs": [
    {
     "data": {
      "text/plain": [
       "tensor([[ 4.4148],\n",
       "        [12.4265],\n",
       "        [-3.0569],\n",
       "        [-2.1976],\n",
       "        [ 0.1109],\n",
       "        [11.4601],\n",
       "        [-2.6982],\n",
       "        [ 3.5257],\n",
       "        [ 0.6883],\n",
       "        [ 1.6492],\n",
       "        [ 1.4529],\n",
       "        [-1.3386],\n",
       "        [-0.5951],\n",
       "        [12.8178],\n",
       "        [ 0.7714],\n",
       "        [-1.7810],\n",
       "        [ 2.6260],\n",
       "        [ 7.9214],\n",
       "        [ 1.0102],\n",
       "        [-0.9212],\n",
       "        [ 5.6685],\n",
       "        [ 1.2905],\n",
       "        [ 3.1672],\n",
       "        [11.1367],\n",
       "        [ 9.9189],\n",
       "        [-1.4060],\n",
       "        [ 2.6196],\n",
       "        [ 1.9161],\n",
       "        [ 4.2345],\n",
       "        [ 3.4035],\n",
       "        [ 0.4741],\n",
       "        [ 0.4292]], device='cuda:0', grad_fn=<AddmmBackward0>)"
      ]
     },
     "execution_count": 29,
     "metadata": {},
     "output_type": "execute_result"
    }
   ],
   "source": [
    "score"
   ]
  }
 ],
 "metadata": {
  "kernelspec": {
   "display_name": "AdversarialSampleDetection",
   "language": "python",
   "name": "python3"
  },
  "language_info": {
   "codemirror_mode": {
    "name": "ipython",
    "version": 3
   },
   "file_extension": ".py",
   "mimetype": "text/x-python",
   "name": "python",
   "nbconvert_exporter": "python",
   "pygments_lexer": "ipython3",
   "version": "3.9.18"
  }
 },
 "nbformat": 4,
 "nbformat_minor": 2
}
