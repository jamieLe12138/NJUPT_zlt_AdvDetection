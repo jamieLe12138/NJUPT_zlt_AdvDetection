{
 "cells": [
  {
   "cell_type": "code",
   "execution_count": 1,
   "metadata": {},
   "outputs": [],
   "source": [
    "from cVAE_GAN_cifar10 import Encoder_cifar10,Decoder_cifar10\n",
    "import torch.nn as nn\n",
    "import torch"
   ]
  },
  {
   "cell_type": "code",
   "execution_count": 2,
   "metadata": {},
   "outputs": [],
   "source": [
    "# device = 'cuda' if torch.cuda.is_available() else 'cpu'\n",
    "# block=Encoder_cifar10(80,device)\n",
    "# img=torch.randn(128,3,32,32)\n",
    "# img.shape"
   ]
  },
  {
   "cell_type": "code",
   "execution_count": 3,
   "metadata": {},
   "outputs": [],
   "source": [
    "# block"
   ]
  },
  {
   "cell_type": "code",
   "execution_count": 4,
   "metadata": {},
   "outputs": [],
   "source": [
    "# out,_,_=block(img)\n",
    "# out.shape"
   ]
  },
  {
   "cell_type": "code",
   "execution_count": 5,
   "metadata": {},
   "outputs": [],
   "source": [
    "# from cVAE_GAN_cifar10 import ConditionalBatchNorm2d\n",
    "# num_features = 64  # 输入特征的通道数\n",
    "# num_conditions = 10  # 类别数\n",
    "# cbn=ConditionalBatchNorm2d(64,10)\n",
    "# cbn"
   ]
  },
  {
   "cell_type": "code",
   "execution_count": 6,
   "metadata": {},
   "outputs": [],
   "source": [
    "\n",
    "# condition = torch.zeros(32,10)  # 32样本的标签\n",
    "# condition.shape\n",
    "# condition\n"
   ]
  },
  {
   "cell_type": "code",
   "execution_count": 7,
   "metadata": {},
   "outputs": [],
   "source": [
    "# input_data = torch.randn(32, num_features, 32, 32)\n",
    "# input_data.shape\n"
   ]
  },
  {
   "cell_type": "code",
   "execution_count": 8,
   "metadata": {},
   "outputs": [],
   "source": [
    "# output = cbn(input_data, condition)\n",
    "# output.shape"
   ]
  },
  {
   "cell_type": "code",
   "execution_count": 9,
   "metadata": {},
   "outputs": [],
   "source": [
    "from cVAE_GAN_cifar10 import Decoder_cifar10\n",
    "decoder=Decoder_cifar10()\n"
   ]
  },
  {
   "cell_type": "code",
   "execution_count": 10,
   "metadata": {},
   "outputs": [
    {
     "data": {
      "text/plain": [
       "cVAE_GAN_cifar10.Decoder_cifar10"
      ]
     },
     "execution_count": 10,
     "metadata": {},
     "output_type": "execute_result"
    }
   ],
   "source": [
    "type(decoder)"
   ]
  },
  {
   "cell_type": "code",
   "execution_count": 11,
   "metadata": {},
   "outputs": [
    {
     "data": {
      "text/plain": [
       "Decoder_cifar10(\n",
       "  (linear): Linear(in_features=20, out_features=6144, bias=True)\n",
       "  (embed): Embedding(10, 128)\n",
       "  (gen_blocks): ModuleList(\n",
       "    (0): DecoderBlock(\n",
       "      (conv): Conv2d(384, 384, kernel_size=(1, 1), stride=(1, 1), padding=same)\n",
       "      (linear): Linear(in_features=148, out_features=10, bias=True)\n",
       "      (cbn): ConditionalBatchNorm2d(\n",
       "        (bn): BatchNorm2d(384, eps=1e-05, momentum=0.1, affine=False, track_running_stats=True)\n",
       "        (gamma_embed): Linear(in_features=10, out_features=384, bias=True)\n",
       "        (beta_embed): Linear(in_features=10, out_features=384, bias=True)\n",
       "      )\n",
       "      (upsample): Upsample(size=(16, 16), mode='bilinear')\n",
       "      (conv_cbns): ModuleList(\n",
       "        (0-2): 3 x Decoder_Conv_CBN(\n",
       "          (conv): Conv2d(384, 384, kernel_size=(3, 3), stride=(1, 1), padding=same)\n",
       "          (cbn): ConditionalBatchNorm2d(\n",
       "            (bn): BatchNorm2d(384, eps=1e-05, momentum=0.1, affine=False, track_running_stats=True)\n",
       "            (gamma_embed): Linear(in_features=10, out_features=384, bias=True)\n",
       "            (beta_embed): Linear(in_features=10, out_features=384, bias=True)\n",
       "          )\n",
       "          (linear): Linear(in_features=148, out_features=10, bias=True)\n",
       "        )\n",
       "      )\n",
       "    )\n",
       "    (1): DecoderBlock(\n",
       "      (conv): Conv2d(384, 384, kernel_size=(1, 1), stride=(1, 1), padding=same)\n",
       "      (linear): Linear(in_features=148, out_features=10, bias=True)\n",
       "      (cbn): ConditionalBatchNorm2d(\n",
       "        (bn): BatchNorm2d(384, eps=1e-05, momentum=0.1, affine=False, track_running_stats=True)\n",
       "        (gamma_embed): Linear(in_features=10, out_features=384, bias=True)\n",
       "        (beta_embed): Linear(in_features=10, out_features=384, bias=True)\n",
       "      )\n",
       "      (upsample): Upsample(size=(32, 32), mode='bilinear')\n",
       "      (conv_cbns): ModuleList(\n",
       "        (0-2): 3 x Decoder_Conv_CBN(\n",
       "          (conv): Conv2d(384, 384, kernel_size=(3, 3), stride=(1, 1), padding=same)\n",
       "          (cbn): ConditionalBatchNorm2d(\n",
       "            (bn): BatchNorm2d(384, eps=1e-05, momentum=0.1, affine=False, track_running_stats=True)\n",
       "            (gamma_embed): Linear(in_features=10, out_features=384, bias=True)\n",
       "            (beta_embed): Linear(in_features=10, out_features=384, bias=True)\n",
       "          )\n",
       "          (linear): Linear(in_features=148, out_features=10, bias=True)\n",
       "        )\n",
       "      )\n",
       "    )\n",
       "    (2): DecoderBlock(\n",
       "      (conv): Conv2d(384, 384, kernel_size=(1, 1), stride=(1, 1), padding=same)\n",
       "      (linear): Linear(in_features=148, out_features=10, bias=True)\n",
       "      (cbn): ConditionalBatchNorm2d(\n",
       "        (bn): BatchNorm2d(384, eps=1e-05, momentum=0.1, affine=False, track_running_stats=True)\n",
       "        (gamma_embed): Linear(in_features=10, out_features=384, bias=True)\n",
       "        (beta_embed): Linear(in_features=10, out_features=384, bias=True)\n",
       "      )\n",
       "      (upsample): Upsample(size=(64, 64), mode='bilinear')\n",
       "      (conv_cbns): ModuleList(\n",
       "        (0-2): 3 x Decoder_Conv_CBN(\n",
       "          (conv): Conv2d(384, 384, kernel_size=(3, 3), stride=(1, 1), padding=same)\n",
       "          (cbn): ConditionalBatchNorm2d(\n",
       "            (bn): BatchNorm2d(384, eps=1e-05, momentum=0.1, affine=False, track_running_stats=True)\n",
       "            (gamma_embed): Linear(in_features=10, out_features=384, bias=True)\n",
       "            (beta_embed): Linear(in_features=10, out_features=384, bias=True)\n",
       "          )\n",
       "          (linear): Linear(in_features=148, out_features=10, bias=True)\n",
       "        )\n",
       "      )\n",
       "    )\n",
       "  )\n",
       "  (BnReLu): ReLU(\n",
       "    inplace=True\n",
       "    (inplace): BatchNorm2d(384, eps=1e-05, momentum=0.1, affine=True, track_running_stats=True)\n",
       "  )\n",
       "  (conv): Conv2d(384, 3, kernel_size=(3, 3), stride=(1, 1), padding=same)\n",
       "  (tanh): Tanh()\n",
       ")"
      ]
     },
     "execution_count": 11,
     "metadata": {},
     "output_type": "execute_result"
    }
   ],
   "source": [
    "decoder"
   ]
  }
 ],
 "metadata": {
  "kernelspec": {
   "display_name": "AdversarialSampleDetection",
   "language": "python",
   "name": "python3"
  },
  "language_info": {
   "codemirror_mode": {
    "name": "ipython",
    "version": 3
   },
   "file_extension": ".py",
   "mimetype": "text/x-python",
   "name": "python",
   "nbconvert_exporter": "python",
   "pygments_lexer": "ipython3",
   "version": "3.9.18"
  }
 },
 "nbformat": 4,
 "nbformat_minor": 2
}
